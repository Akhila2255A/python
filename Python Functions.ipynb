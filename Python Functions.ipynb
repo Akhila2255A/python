{
 "cells": [
  {
   "cell_type": "markdown",
   "id": "5d6a00fe-ea69-403c-bea5-87c79c77dab4",
   "metadata": {},
   "source": [
    "# Python Functions"
   ]
  },
  {
   "cell_type": "markdown",
   "id": "7313be45-b3dc-4a7a-9c92-16548374b6a7",
   "metadata": {},
   "source": [
    "-Python functions is a block of code that performs a specific task."
   ]
  },
  {
   "cell_type": "markdown",
   "id": "08b17a92-37cf-48d9-a319-070f6f5e8868",
   "metadata": {},
   "source": [
    "Functions are two types.\n",
    "1.user_defined function,\n",
    "2.built_in function"
   ]
  },
  {
   "cell_type": "markdown",
   "id": "c3d218a4-56be-4242-8639-6d62a9b6efc1",
   "metadata": {},
   "source": [
    "# syntax:\n",
    "def function_name(argument): #function body\n",
    "\n",
    "    return"
   ]
  },
  {
   "cell_type": "code",
   "execution_count": null,
   "id": "a83effc0-1397-46ed-9276-40a5d5eef5c6",
   "metadata": {},
   "outputs": [],
   "source": [
    "# example:\n",
    "def name():\n",
    "    print(\"akhila!\")\n",
    "\n",
    "name(\"akhila\")\n",
    "\n",
    "name(\"akhil\")"
   ]
  },
  {
   "cell_type": "code",
   "execution_count": null,
   "id": "b22e5e98-c0a2-4ca1-a786-891e8607e661",
   "metadata": {},
   "outputs": [],
   "source": []
  },
  {
   "cell_type": "markdown",
   "id": "a2c5da65-895d-41cc-bd9b-890f9e6e5b21",
   "metadata": {},
   "source": [
    "# Python Arguments:"
   ]
  },
  {
   "cell_type": "markdown",
   "id": "5ce81e9e-7f9f-4557-9880-a730a3165339",
   "metadata": {},
   "source": [
    "-An argument is a value that is accepted by a function."
   ]
  },
  {
   "cell_type": "code",
   "execution_count": 2,
   "id": "a7ff6828-fd04-4a5f-933c-bbd74724df12",
   "metadata": {},
   "outputs": [
    {
     "name": "stdout",
     "output_type": "stream",
     "text": [
      "kalki_movie: 97\n",
      "kalki_movie: 105\n"
     ]
    }
   ],
   "source": [
    "# functions with three arguments\n",
    "def ticket_booking(day1,day2,day3):\n",
    "    kalki_movie = day1+day2+day3\n",
    "    print(\"kalki_movie:\",kalki_movie)\n",
    "\n",
    "# function call on (total booking tickets)\n",
    "ticket_booking(30,49,18)\n",
    "\n",
    "ticket_booking(-20,35,90)"
   ]
  },
  {
   "cell_type": "code",
   "execution_count": 22,
   "id": "85eebff0-883e-4128-aec3-5f246930b553",
   "metadata": {},
   "outputs": [
    {
     "name": "stdout",
     "output_type": "stream",
     "text": [
      "student_marks: 49\n"
     ]
    }
   ],
   "source": [
    "# function with three arguments\n",
    "def student_data(anvitha,nithish,manish):\n",
    "    student_marks = anvitha^100-nithish^100-manish^100\n",
    "    print(\"student_marks:\",student_marks)\n",
    "\n",
    "student_data(82,76,69)"
   ]
  },
  {
   "cell_type": "code",
   "execution_count": 26,
   "id": "9f12bc8d-af7b-42d4-be0f-eb3152b4cac8",
   "metadata": {},
   "outputs": [
    {
     "name": "stdout",
     "output_type": "stream",
     "text": [
      "mesho_order: 9000\n"
     ]
    }
   ],
   "source": [
    "#  functions with three arguments\n",
    "def order_delivery(dress,saree,jewelry):\n",
    "    mesho_order = dress*saree*jewelry\n",
    "    print(\"mesho_order:\",mesho_order )\n",
    "\n",
    "order_delivery(20,15,30)"
   ]
  },
  {
   "cell_type": "code",
   "execution_count": 66,
   "id": "ad8ad098-2eb6-442c-bd9c-64a4cc031d6e",
   "metadata": {},
   "outputs": [
    {
     "name": "stdout",
     "output_type": "stream",
     "text": [
      "bakery_bill: 1.38\n"
     ]
    }
   ],
   "source": [
    "#functions with three arguments\n",
    "def bakery(cakes,cocolates,ice_creams):\n",
    "    bakery_bill = cakes/50+cocolates/50+ice_creams/50\n",
    "    print(\"bakery_bill:\",bakery_bill)\n",
    "\n",
    "bakery(29,9,31)\n",
    "    "
   ]
  },
  {
   "cell_type": "code",
   "execution_count": 35,
   "id": "15873753-75bf-40f8-bc05-25055f347621",
   "metadata": {},
   "outputs": [
    {
     "name": "stdout",
     "output_type": "stream",
     "text": [
      "bakery_bill: 0.05555555555555555\n"
     ]
    }
   ],
   "source": [
    "def bakery(cakes,cocolates,ice_creams):\n",
    "    bakery_bill = cakes/cocolates/ice_creams\n",
    "    print(\"bakery_bill:\",bakery_bill)\n",
    "bakery(30,60,9)"
   ]
  },
  {
   "cell_type": "code",
   "execution_count": 39,
   "id": "c2f76996-dd86-4f74-bf2a-13c075d30215",
   "metadata": {},
   "outputs": [
    {
     "name": "stdout",
     "output_type": "stream",
     "text": [
      "Icet_rank: 80\n"
     ]
    }
   ],
   "source": [
    "def Icet(Anitha,karthik):\n",
    "    Icet_rank = Anitha%karthik\n",
    "    print(\"Icet_rank:\",Icet_rank)\n",
    "\n",
    "Icet(80,92)"
   ]
  },
  {
   "cell_type": "markdown",
   "id": "84702b1b-2cb2-4f9d-bb5c-63881725a976",
   "metadata": {},
   "source": [
    "x = 80%92\n",
    "print(x)"
   ]
  },
  {
   "cell_type": "markdown",
   "id": "892f6e4f-99dc-41b3-96a0-a642385fbca5",
   "metadata": {},
   "source": [
    "# Retrun Statement:"
   ]
  },
  {
   "cell_type": "code",
   "execution_count": null,
   "id": "3cd22f35-be2a-4908-95cb-34e3131e008d",
   "metadata": {},
   "outputs": [],
   "source": []
  },
  {
   "cell_type": "markdown",
   "id": "d655f7d6-c8f0-42d8-805b-e0308c660a8a",
   "metadata": {},
   "source": [
    "syntax:\n",
    " def add_number():\n",
    "  --------return sum"
   ]
  },
  {
   "cell_type": "code",
   "execution_count": null,
   "id": "7d4f3c70-fc89-443b-b606-5e7a8a7b1b3d",
   "metadata": {},
   "outputs": [],
   "source": []
  },
  {
   "cell_type": "code",
   "execution_count": 64,
   "id": "ede6389d-5b15-4964-8c8c-b0e6a42bdcb2",
   "metadata": {},
   "outputs": [
    {
     "data": {
      "text/plain": [
       "('student_attendance:', 46656)"
      ]
     },
     "execution_count": 64,
     "metadata": {},
     "output_type": "execute_result"
    }
   ],
   "source": [
    "def student_data(sdt):\n",
    "    student_attendance =sdt**sdt\n",
    "    return(\"student_attendance:\",student_attendance)\n",
    "\n",
    "student_data(6)"
   ]
  },
  {
   "cell_type": "code",
   "execution_count": 80,
   "id": "98e611fa-2a06-458a-8153-94f6f025d8fb",
   "metadata": {},
   "outputs": [
    {
     "name": "stdout",
     "output_type": "stream",
     "text": [
      "cocolate_cost: 101\n"
     ]
    }
   ],
   "source": [
    "#functions with three arguments\n",
    "def bakery(cake):\n",
    "    cocolate_cost = cake+cake^cake\n",
    "    print(\"cocolate_cost:\",cocolate_cost)\n",
    "\n",
    "bakery(35)"
   ]
  },
  {
   "cell_type": "markdown",
   "id": "f45599e7-4025-48ff-89ff-3f3317b8bde1",
   "metadata": {},
   "source": [
    "# python lambda:"
   ]
  },
  {
   "cell_type": "markdown",
   "id": "1e6986db-c732-4264-8628-90cd4b64ec06",
   "metadata": {},
   "source": [
    "-A lambda function is a small anonymous function.It can take any number of arguments,but can only have one expression."
   ]
  },
  {
   "cell_type": "markdown",
   "id": "e394d33c-891f-4273-a140-ca87ce5885f6",
   "metadata": {},
   "source": [
    "syntax  :   -lambda arguments:expression"
   ]
  },
  {
   "cell_type": "code",
   "execution_count": 108,
   "id": "faae7469-c13f-4f3a-add4-4eb7a5b170d5",
   "metadata": {},
   "outputs": [
    {
     "name": "stdout",
     "output_type": "stream",
     "text": [
      "3125\n"
     ]
    }
   ],
   "source": [
    "x = lambda a: a**5\n",
    "print(x(5))"
   ]
  },
  {
   "cell_type": "code",
   "execution_count": 94,
   "id": "19a928ea-46e4-403e-9440-b9362ba3d738",
   "metadata": {},
   "outputs": [
    {
     "name": "stdout",
     "output_type": "stream",
     "text": [
      "105\n"
     ]
    }
   ],
   "source": [
    "xerox = lambda english,maths,cs:  english+maths+cs\n",
    "cost = (20+50+35)\n",
    "print(cost)"
   ]
  },
  {
   "cell_type": "code",
   "execution_count": 96,
   "id": "79c0ae6e-276f-433b-8151-e039f1faa6d3",
   "metadata": {},
   "outputs": [
    {
     "name": "stdout",
     "output_type": "stream",
     "text": [
      "50\n"
     ]
    }
   ],
   "source": [
    "# lambda function by module by three numbrs\n",
    "fruits = lambda mango,apple,grape : mango%apple%grapes\n",
    "total = (200%150%80)\n",
    "print(total)"
   ]
  },
  {
   "cell_type": "code",
   "execution_count": 102,
   "id": "9745a03b-1957-4da9-870d-0da98796d456",
   "metadata": {},
   "outputs": [
    {
     "name": "stdout",
     "output_type": "stream",
     "text": [
      "3.5\n"
     ]
    }
   ],
   "source": [
    "A = lambda Z,Y,X : (X+Y*Z)/100\n",
    "_A_ = (50+20*15)/100\n",
    "print(_A_)\n"
   ]
  },
  {
   "cell_type": "markdown",
   "id": "412083ad-11ae-4bda-aeed-23e719dc79f1",
   "metadata": {},
   "source": [
    "# Global and local variables:"
   ]
  },
  {
   "cell_type": "markdown",
   "id": "5b7be6f0-504b-4759-bf20-d476f92e91b2",
   "metadata": {},
   "source": [
    "-Global variables are those which are not defined inside any function.\n",
    "-local variables are accessible only inside the function."
   ]
  },
  {
   "cell_type": "code",
   "execution_count": 114,
   "id": "f94d90a6-4b56-4f7d-8b37-fb68bc6d0234",
   "metadata": {},
   "outputs": [
    {
     "name": "stdout",
     "output_type": "stream",
     "text": [
      "('python', 'java', 'c++')\n"
     ]
    }
   ],
   "source": [
    "#local variables\n",
    "def language():\n",
    "    lag = \"python\",\"java\",\"c++\"\n",
    "    print(lag)\n",
    "\n",
    "language()"
   ]
  },
  {
   "cell_type": "code",
   "execution_count": 113,
   "id": "14535a14-c1c3-49af-864c-5d662f978fc2",
   "metadata": {},
   "outputs": [
    {
     "name": "stdout",
     "output_type": "stream",
     "text": [
      "num_of_books: 365\n"
     ]
    }
   ],
   "source": [
    "def books():\n",
    "    num_of_books = 200+103+62\n",
    "    print(\"num_of_books:\",num_of_books)\n",
    "books()"
   ]
  },
  {
   "cell_type": "code",
   "execution_count": 117,
   "id": "7b6bf494-ee85-4d49-8ff6-78355f9a30f1",
   "metadata": {},
   "outputs": [
    {
     "name": "stdout",
     "output_type": "stream",
     "text": [
      "(' mango', 'apple', 'banana')\n"
     ]
    }
   ],
   "source": [
    "\n",
    "x = \" mango\",\"apple\",\"banana\"\n",
    "def a():\n",
    "    print(x)\n",
    "\n",
    "a()"
   ]
  },
  {
   "cell_type": "code",
   "execution_count": null,
   "id": "b49efbb9-df50-4d76-ae55-ac29ffd5b5b0",
   "metadata": {},
   "outputs": [],
   "source": [
    "#Global variable \n",
    "x = \"beautiful\"\n",
    "def y():\n",
    "    global x\n",
    "    x = \"beat"
   ]
  },
  {
   "cell_type": "code",
   "execution_count": null,
   "id": "3d79228e-1dd4-4ee5-8af0-3eefc79b5c05",
   "metadata": {},
   "outputs": [],
   "source": []
  }
 ],
 "metadata": {
  "kernelspec": {
   "display_name": "Python 3 (ipykernel)",
   "language": "python",
   "name": "python3"
  },
  "language_info": {
   "codemirror_mode": {
    "name": "ipython",
    "version": 3
   },
   "file_extension": ".py",
   "mimetype": "text/x-python",
   "name": "python",
   "nbconvert_exporter": "python",
   "pygments_lexer": "ipython3",
   "version": "3.11.7"
  }
 },
 "nbformat": 4,
 "nbformat_minor": 5
}
