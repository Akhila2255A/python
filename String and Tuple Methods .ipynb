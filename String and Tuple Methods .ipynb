{
 "cells": [
  {
   "cell_type": "markdown",
   "id": "62f026a0-f1e7-417f-9ec5-00ae6a3a2ba9",
   "metadata": {},
   "source": [
    "# Strings"
   ]
  },
  {
   "cell_type": "markdown",
   "id": "eb30883c-8f46-4ace-8a24-188b325e8793",
   "metadata": {},
   "source": [
    "-Strings is a sequence of characters or a collection of the characters.\n",
    "\n",
    "-We use quotes or double quotes to represent a string."
   ]
  },
  {
   "cell_type": "code",
   "execution_count": 3,
   "id": "714159b1-d705-47a1-92e9-37e544f19c85",
   "metadata": {},
   "outputs": [
    {
     "name": "stdout",
     "output_type": "stream",
     "text": [
      "Akhila\n",
      "Akhil\n",
      "he is my husband\n"
     ]
    }
   ],
   "source": [
    "str1 = \"Akhila\"\n",
    "str2 = 'Akhil'\n",
    "str3 = \"\"\"he is my husband\"\"\"\n",
    "print(str1)\n",
    "print(str2)\n",
    "print(str3)"
   ]
  },
  {
   "cell_type": "markdown",
   "id": "7a9d3b2f-8c0a-4227-934c-a4a907ea70ce",
   "metadata": {},
   "source": [
    "  # String Methods:"
   ]
  },
  {
   "cell_type": "markdown",
   "id": "82681e8a-1b48-4935-ad11-706a86164428",
   "metadata": {},
   "source": [
    "1.Upper():Converting a string to uppercase."
   ]
  },
  {
   "cell_type": "code",
   "execution_count": 6,
   "id": "6db1f7a6-a80a-44da-8f26-ca88259873b0",
   "metadata": {},
   "outputs": [
    {
     "name": "stdout",
     "output_type": "stream",
     "text": [
      "MY NAME IS AKHILA\n"
     ]
    }
   ],
   "source": [
    "str = \"My name is akhila\"\n",
    "print(str.upper())"
   ]
  },
  {
   "cell_type": "markdown",
   "id": "69b27f28-ffe4-45d3-8899-41653a757694",
   "metadata": {},
   "source": [
    "Lower(): Converting a string to lowercase."
   ]
  },
  {
   "cell_type": "code",
   "execution_count": 8,
   "id": "8a3ffdd8-70a9-4ad4-b673-107200228456",
   "metadata": {},
   "outputs": [
    {
     "name": "stdout",
     "output_type": "stream",
     "text": [
      "my mother name is anitha\n"
     ]
    }
   ],
   "source": [
    "srt1 = \"My mother name is Anitha\"\n",
    "print(srt1.lower())"
   ]
  },
  {
   "cell_type": "markdown",
   "id": "c80bc2dd-3bec-4370-a0ff-33b681da44fa",
   "metadata": {},
   "source": [
    "Strip(): Removing leading and trailing whitespace."
   ]
  },
  {
   "cell_type": "code",
   "execution_count": 9,
   "id": "c6d4f9b3-d045-42da-99fc-18245752a265",
   "metadata": {},
   "outputs": [
    {
     "name": "stdout",
     "output_type": "stream",
     "text": [
      "My father\n"
     ]
    }
   ],
   "source": [
    "str2 = \"My father\"\n",
    "print(str2.strip())"
   ]
  },
  {
   "cell_type": "markdown",
   "id": "801b8800-6de8-4539-a3f3-7d379738a83d",
   "metadata": {},
   "source": [
    "4.Split(): Splitting a string into a list based on a delimiter."
   ]
  },
  {
   "cell_type": "code",
   "execution_count": 10,
   "id": "b20b5202-e475-495c-bece-bf84842e178b",
   "metadata": {},
   "outputs": [
    {
     "name": "stdout",
     "output_type": "stream",
     "text": [
      "['Sun,Moon,Stars,Rain,Thunder,summer,Winter,Rainy']\n"
     ]
    }
   ],
   "source": [
    "str3 = \"Sun,Moon,Stars,Rain,Thunder,summer,Winter,Rainy\"\n",
    "print(str3.split())"
   ]
  },
  {
   "cell_type": "markdown",
   "id": "d93cefb3-60af-4546-8fd1-8e38a329e5a5",
   "metadata": {},
   "source": [
    "5.Join(): joining a list of strings into one string using a delimiter."
   ]
  },
  {
   "cell_type": "code",
   "execution_count": 13,
   "id": "2263ed54-77e9-45f0-b473-8cf75a610166",
   "metadata": {},
   "outputs": [
    {
     "name": "stdout",
     "output_type": "stream",
     "text": [
      "catdogmonkeyloinking\n"
     ]
    }
   ],
   "source": [
    "animal_list =['cat','dog','monkey','loin','king']\n",
    "animal_names=\"\".join(animal_list)\n",
    "print(animal_names)"
   ]
  },
  {
   "cell_type": "markdown",
   "id": "048f6079-7e1e-41e7-8a35-fa44f3c29851",
   "metadata": {},
   "source": [
    "6.Replace(): Replaces all occurrence of a substring in a string with another substring."
   ]
  },
  {
   "cell_type": "code",
   "execution_count": 15,
   "id": "c7fca777-b170-40f7-8f8d-838e9953b27c",
   "metadata": {},
   "outputs": [
    {
     "name": "stdout",
     "output_type": "stream",
     "text": [
      "Akhila, Harshini\n"
     ]
    }
   ],
   "source": [
    "str4 = \"Hai, Harshini\"\n",
    "print(str4.replace(\"Hai\",\"Akhila\"))"
   ]
  },
  {
   "cell_type": "markdown",
   "id": "05bf6670-e9f8-427a-9d60-73dc65fb5e38",
   "metadata": {},
   "source": [
    "7.startswith(): Checks if a string starts with a specific prefix."
   ]
  },
  {
   "cell_type": "code",
   "execution_count": 17,
   "id": "d559894a-e3fc-411e-b938-072a180ed74a",
   "metadata": {},
   "outputs": [
    {
     "name": "stdout",
     "output_type": "stream",
     "text": [
      "True\n"
     ]
    }
   ],
   "source": [
    "family =\"Bheemagani, star!\"\n",
    "print(family.startswith(\"Bheemagani\"))\n"
   ]
  },
  {
   "cell_type": "markdown",
   "id": "37b3e100-3471-4499-8639-83d7e00b8720",
   "metadata": {},
   "source": [
    "8.Endswith(): Check if a string ends with a specific suffix."
   ]
  },
  {
   "cell_type": "code",
   "execution_count": 18,
   "id": "1b24ded6-dc7b-42f6-b06a-0909ef6cd07d",
   "metadata": {},
   "outputs": [
    {
     "name": "stdout",
     "output_type": "stream",
     "text": [
      "False\n"
     ]
    }
   ],
   "source": [
    "family = \"Bheemagani,star!\"\n",
    "print(family.endswith(\"Bheemagani\"))"
   ]
  },
  {
   "cell_type": "markdown",
   "id": "8eafbe9e-3b37-4b6f-b62a-7a7d9ab0796a",
   "metadata": {},
   "source": [
    "# Tuple Methods"
   ]
  },
  {
   "cell_type": "markdown",
   "id": "36b2e8fe-3afd-429f-988e-7789db822894",
   "metadata": {},
   "source": [
    "1.Count(): Returns the number of occurrences of a specified value in a tuple."
   ]
  },
  {
   "cell_type": "code",
   "execution_count": 19,
   "id": "d7c0af89-197d-4fd2-a3a9-cfc9bf6b0fcd",
   "metadata": {},
   "outputs": [
    {
     "name": "stdout",
     "output_type": "stream",
     "text": [
      "4\n"
     ]
    }
   ],
   "source": [
    "odd_numbers = (1,3,5,7,9,11,13,3,15,17,3,19,21,3,23)\n",
    "print(odd_numbers.count(3))"
   ]
  },
  {
   "cell_type": "markdown",
   "id": "6e31f845-25a6-4677-a570-9340e0ab36e3",
   "metadata": {},
   "source": [
    "2.Index(): Returns the index of the first occurrence of a specified value in a tuple."
   ]
  },
  {
   "cell_type": "code",
   "execution_count": 22,
   "id": "65298197-b46e-4fef-8367-fb57815ca92f",
   "metadata": {},
   "outputs": [
    {
     "name": "stdout",
     "output_type": "stream",
     "text": [
      "5\n"
     ]
    }
   ],
   "source": [
    "even_numbers = (2,4,6,8,10,12,14,16,18,20)\n",
    "print(even_numbers.index(12))"
   ]
  },
  {
   "cell_type": "markdown",
   "id": "ead1f37e-3436-4301-af40-482e7f6a6dc1",
   "metadata": {},
   "source": [
    "3. len(): Returns the number of elements in a tuple."
   ]
  },
  {
   "cell_type": "code",
   "execution_count": 23,
   "id": "0bf16e66-001b-4708-a7cc-c0ffa09e40c9",
   "metadata": {},
   "outputs": [
    {
     "name": "stdout",
     "output_type": "stream",
     "text": [
      "5\n"
     ]
    }
   ],
   "source": [
    "number = (1,2,3,4,5)\n",
    "print(len(number))"
   ]
  },
  {
   "cell_type": "markdown",
   "id": "11a70b02-2b0f-4a55-8b0f-e5d5ae7ff6b5",
   "metadata": {},
   "source": [
    "4.max(): Return the maximum valu in a tuple."
   ]
  },
  {
   "cell_type": "code",
   "execution_count": 24,
   "id": "eed45643-ba37-4320-9b87-9e58eb371b76",
   "metadata": {},
   "outputs": [
    {
     "name": "stdout",
     "output_type": "stream",
     "text": [
      "Anvish\n"
     ]
    }
   ],
   "source": [
    "name = (\"Anil\",\"Anvish\",\"Akhilesh\",\"Anitha\")\n",
    "print(max(name))"
   ]
  },
  {
   "cell_type": "markdown",
   "id": "b5120977-f33d-4cee-8093-e610d1441a41",
   "metadata": {},
   "source": [
    "5.min(): Returns the minimum values in a tuple."
   ]
  },
  {
   "cell_type": "code",
   "execution_count": 25,
   "id": "d3c9bf91-daa3-456b-b4dc-85f1e68abf7f",
   "metadata": {},
   "outputs": [
    {
     "name": "stdout",
     "output_type": "stream",
     "text": [
      "Bat\n"
     ]
    }
   ],
   "source": [
    "game = (\"cricket\",\"ball\",\"Bat\",\"ground\",\"Ring\")\n",
    "print(min(game))"
   ]
  },
  {
   "cell_type": "markdown",
   "id": "5b38a915-a8f0-4dab-b09e-374ed61ef99d",
   "metadata": {},
   "source": [
    "6.Sorted(): Returns new sorted list from the element of the tuple."
   ]
  },
  {
   "cell_type": "code",
   "execution_count": 27,
   "id": "415419de-1651-4ec2-84f1-03addc99a431",
   "metadata": {},
   "outputs": [
    {
     "name": "stdout",
     "output_type": "stream",
     "text": [
      "[1, 2, 6, 8, 15, 25, 28, 30]\n"
     ]
    }
   ],
   "source": [
    "list = (1,8,15,6,2,30,28,25)\n",
    "sorted_lists = sorted(list)\n",
    "print(sorted_lists)"
   ]
  },
  {
   "cell_type": "code",
   "execution_count": null,
   "id": "0352d8ec-1d23-4752-a17b-57ce6701ce47",
   "metadata": {},
   "outputs": [],
   "source": []
  }
 ],
 "metadata": {
  "kernelspec": {
   "display_name": "Python 3 (ipykernel)",
   "language": "python",
   "name": "python3"
  },
  "language_info": {
   "codemirror_mode": {
    "name": "ipython",
    "version": 3
   },
   "file_extension": ".py",
   "mimetype": "text/x-python",
   "name": "python",
   "nbconvert_exporter": "python",
   "pygments_lexer": "ipython3",
   "version": "3.11.7"
  }
 },
 "nbformat": 4,
 "nbformat_minor": 5
}
