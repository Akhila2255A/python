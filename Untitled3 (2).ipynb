{
 "cells": [
  {
   "cell_type": "markdown",
   "id": "9d110b22-c7dd-4a92-8efa-6ea0971ae720",
   "metadata": {},
   "source": [
    "# precedence"
   ]
  },
  {
   "cell_type": "markdown",
   "id": "870c7739-3d5b-49e5-bf85-1e627cd9086a",
   "metadata": {},
   "source": [
    "- operators percedence the order in which operators are performed.\n",
    "- () : Paranthesis\n",
    "- ** : exponentiation\n",
    "- +x - x -x : unary plus ,unary minus, bitwise\n",
    "- * / // % : Multiplication, division, floor division, and modulus\n",
    "  - + - : Addition, substraction\n",
    "-<< >> : Bitwise left, bitwise right shift\n",
    "- & : Bitwise ANB\n",
    "- ^ :Bitwise XOR\n",
    "- / : Bitwise OR\n",
    "- == != >> = <<= is not in not in : comperisions, identity and membership operators\n",
    "- not: logical NOT\n",
    "- and : logical OR\n",
    "- "
   ]
  },
  {
   "cell_type": "markdown",
   "id": "db01757c-11f9-4b96-ba2e-ab5d6913aff7",
   "metadata": {},
   "source": [
    "# 1. 7(2-32)23*23(32-232)/23"
   ]
  },
  {
   "cell_type": "code",
   "execution_count": 5,
   "id": "babc841f-6d2b-4a26-addb-8775bb70cbcd",
   "metadata": {},
   "outputs": [
    {
     "data": {
      "text/plain": [
       "497.30434782608694"
      ]
     },
     "execution_count": 5,
     "metadata": {},
     "output_type": "execute_result"
    }
   ],
   "source": [
    "#addition\n",
    "7+(2-32)+23*23+(32-232)/23"
   ]
  },
  {
   "cell_type": "code",
   "execution_count": 6,
   "id": "d38a878b-2ae2-464c-9328-f494faad3975",
   "metadata": {},
   "outputs": [
    {
     "data": {
      "text/plain": [
       "-483.30434782608694"
      ]
     },
     "execution_count": 6,
     "metadata": {},
     "output_type": "execute_result"
    }
   ],
   "source": [
    "#substraction\n",
    "7-(2-32)-23*23-(32-232)/23"
   ]
  },
  {
   "cell_type": "markdown",
   "id": "b0be0dc5-0fc4-4b1a-8dd1-9b630a3e1a69",
   "metadata": {},
   "source": [
    "# 2. 78-23+23+23+12+123-232+(34/54*34+4)34"
   ]
  },
  {
   "cell_type": "code",
   "execution_count": 7,
   "id": "c2b45464-3246-4132-9683-e29ee23f46ed",
   "metadata": {},
   "outputs": [
    {
     "data": {
      "text/plain": [
       "63.407407407407405"
      ]
     },
     "execution_count": 7,
     "metadata": {},
     "output_type": "execute_result"
    }
   ],
   "source": [
    "#Addition\n",
    "78-23+23+23+12+123-232+(34/54*34+4)+34"
   ]
  },
  {
   "cell_type": "code",
   "execution_count": 8,
   "id": "2b40d514-fd14-4de5-a067-5f903e5b76fc",
   "metadata": {},
   "outputs": [
    {
     "data": {
      "text/plain": [
       "-55.407407407407405"
      ]
     },
     "execution_count": 8,
     "metadata": {},
     "output_type": "execute_result"
    }
   ],
   "source": [
    "#substraction\n",
    "78-23+23+23+12+123-232-(34/54*34+4)-34"
   ]
  },
  {
   "cell_type": "markdown",
   "id": "11a6fe6a-9bc3-47f5-8601-c34b8c58372b",
   "metadata": {},
   "source": [
    "# 3. What is the difference between = (equals to) and == (real equals to)?"
   ]
  },
  {
   "cell_type": "markdown",
   "id": "6275cdc9-1711-44f7-9093-a7cd306e06ea",
   "metadata": {},
   "source": [
    "'=' is a typically represented by the double equals sign."
   ]
  },
  {
   "cell_type": "markdown",
   "id": "123d7eb4-05b1-469c-ac33-1c7ca68c84bd",
   "metadata": {},
   "source": [
    "'==' is used for comparision."
   ]
  },
  {
   "cell_type": "markdown",
   "id": "52de6b36-3ae5-4865-b089-79cd1dc1f38d",
   "metadata": {},
   "source": [
    "#### 4. Apply comparison operators"
   ]
  },
  {
   "cell_type": "code",
   "execution_count": 10,
   "id": "0a6c06af-a1fd-4e5a-a81b-4d1e4cd1a90d",
   "metadata": {},
   "outputs": [
    {
     "data": {
      "text/plain": [
       "False"
      ]
     },
     "execution_count": 10,
     "metadata": {},
     "output_type": "execute_result"
    }
   ],
   "source": [
    "#comparison operators\n",
    "a = -91\n",
    "b = 32\n",
    "\n",
    "#is equals to\n",
    "a == b"
   ]
  },
  {
   "cell_type": "code",
   "execution_count": 11,
   "id": "1a716329-970d-4cfe-a0cd-b6fa9140e0a3",
   "metadata": {},
   "outputs": [
    {
     "data": {
      "text/plain": [
       "True"
      ]
     },
     "execution_count": 11,
     "metadata": {},
     "output_type": "execute_result"
    }
   ],
   "source": [
    "# is not equals to\n",
    "a != b"
   ]
  },
  {
   "cell_type": "code",
   "execution_count": 12,
   "id": "c3b05f22-d938-4f3e-9bbb-8cc49ec6b23e",
   "metadata": {},
   "outputs": [
    {
     "data": {
      "text/plain": [
       "False"
      ]
     },
     "execution_count": 12,
     "metadata": {},
     "output_type": "execute_result"
    }
   ],
   "source": [
    "# greater than\n",
    "a > b"
   ]
  },
  {
   "cell_type": "code",
   "execution_count": 13,
   "id": "3f672a5d-5a2e-4367-ab09-37c3102357c0",
   "metadata": {},
   "outputs": [
    {
     "data": {
      "text/plain": [
       "True"
      ]
     },
     "execution_count": 13,
     "metadata": {},
     "output_type": "execute_result"
    }
   ],
   "source": [
    "# less than\n",
    "a < b"
   ]
  },
  {
   "cell_type": "code",
   "execution_count": 14,
   "id": "2282a803-6e2b-45d9-807e-c1671e3adee7",
   "metadata": {},
   "outputs": [
    {
     "data": {
      "text/plain": [
       "False"
      ]
     },
     "execution_count": 14,
     "metadata": {},
     "output_type": "execute_result"
    }
   ],
   "source": [
    "# greater than or equals to\n",
    "a>=b"
   ]
  },
  {
   "cell_type": "code",
   "execution_count": 16,
   "id": "9b1d57d8-db38-499d-98d1-49bf83dff299",
   "metadata": {},
   "outputs": [
    {
     "data": {
      "text/plain": [
       "True"
      ]
     },
     "execution_count": 16,
     "metadata": {},
     "output_type": "execute_result"
    }
   ],
   "source": [
    "# less than or equals to\n",
    "a <= b"
   ]
  },
  {
   "cell_type": "markdown",
   "id": "e989492e-6758-4723-a766-ee9f901f9c1a",
   "metadata": {},
   "source": [
    "# Define type funtion and with example"
   ]
  },
  {
   "cell_type": "markdown",
   "id": "a247af88-5bcf-4467-b9d0-d3a4251c5466",
   "metadata": {},
   "source": [
    "-The type function is used to determine the data type of a variable or an object."
   ]
  },
  {
   "cell_type": "code",
   "execution_count": 17,
   "id": "271c5d4f-dc15-4f39-a4d5-cf6dc145cea2",
   "metadata": {},
   "outputs": [
    {
     "name": "stdout",
     "output_type": "stream",
     "text": [
      "23\n",
      "6\n",
      "(3+1j)\n",
      "<class 'int'>\n",
      "<class 'int'>\n",
      "<class 'complex'>\n"
     ]
    }
   ],
   "source": [
    "x = 23\n",
    "y = 6\n",
    "z = 3+1j\n",
    "print(x)\n",
    "print(y)\n",
    "print(z)\n",
    "\n",
    "print(type(x))\n",
    "print(type(y))\n",
    "print(type(z))"
   ]
  },
  {
   "cell_type": "markdown",
   "id": "74395250-83df-4830-8ad0-e18153d1aace",
   "metadata": {},
   "source": [
    "# Define bool() function"
   ]
  },
  {
   "cell_type": "markdown",
   "id": "cfcae825-8e68-487a-a785-2577db075298",
   "metadata": {},
   "source": [
    "-The bool function is used to convert a value into a boolen type, which can be either true or false."
   ]
  },
  {
   "cell_type": "code",
   "execution_count": 18,
   "id": "93c6f290-e580-486f-8fb0-a74b3bd25e42",
   "metadata": {},
   "outputs": [
    {
     "name": "stdout",
     "output_type": "stream",
     "text": [
      "True\n",
      "True\n",
      "True\n"
     ]
    }
   ],
   "source": [
    "print(bool(8643))\n",
    "print(bool(9.88))\n",
    "print(bool(2*5))"
   ]
  },
  {
   "cell_type": "markdown",
   "id": "40389965-f9d5-4abd-8bd3-cab2afaf01c6",
   "metadata": {},
   "source": [
    "# Any three examples on type conversions"
   ]
  },
  {
   "cell_type": "code",
   "execution_count": 19,
   "id": "efbaf969-72e8-46fc-8fb2-59ce093c24d8",
   "metadata": {},
   "outputs": [
    {
     "name": "stdout",
     "output_type": "stream",
     "text": [
      "(4+0j)\n",
      "4\n",
      "1.99\n",
      "<class 'complex'>\n",
      "<class 'int'>\n",
      "<class 'float'>\n"
     ]
    }
   ],
   "source": [
    " a = 1.99 # int\n",
    "b = 4.0 # float\n",
    "c = 6.4+ 2j # complex\n",
    "\n",
    "#convert from float to complex\n",
    "x = complex(b)\n",
    "#convert from float to int\n",
    "y = int(b)\n",
    "#convert from int to float\n",
    "z = float(a)\n",
    "\n",
    "print(x)\n",
    "print(y)\n",
    "print(z)\n",
    "\n",
    "print(type(x))\n",
    "print(type(y))\n",
    "print(type(z))"
   ]
  },
  {
   "cell_type": "markdown",
   "id": "c9ada82a-fd33-4709-a927-d429255f5799",
   "metadata": {},
   "source": [
    "# Example 2"
   ]
  },
  {
   "cell_type": "code",
   "execution_count": 20,
   "id": "79969f67-60ee-4540-a5df-46b11f10b27d",
   "metadata": {},
   "outputs": [
    {
     "name": "stdout",
     "output_type": "stream",
     "text": [
      "(76+0j)\n",
      "76\n",
      "53.0\n",
      "<class 'complex'>\n",
      "<class 'int'>\n",
      "<class 'float'>\n"
     ]
    }
   ],
   "source": [
    "x = 53 #int\n",
    "y = 76 #float\n",
    "z = 30+19j #complex\n",
    "\n",
    "a = complex(y)\n",
    "b = int(y)\n",
    "c = float(x)\n",
    "\n",
    "print(a)\n",
    "print(b)\n",
    "print(c)\n",
    "\n",
    "print(type(a))\n",
    "print(type(b))\n",
    "print(type(c))"
   ]
  },
  {
   "cell_type": "markdown",
   "id": "25500ca0-65a8-49fa-8838-623bb347840f",
   "metadata": {},
   "source": [
    "# Example 3"
   ]
  },
  {
   "cell_type": "code",
   "execution_count": 23,
   "id": "1bc57248-8bd8-4233-9e20-f1487316e5a4",
   "metadata": {},
   "outputs": [
    {
     "name": "stdout",
     "output_type": "stream",
     "text": [
      "(382+0j)\n",
      "382\n",
      "432.0\n",
      "<class 'complex'>\n",
      "<class 'int'>\n",
      "<class 'float'>\n"
     ]
    }
   ],
   "source": [
    "A = 432\n",
    "B = 382\n",
    "C = 121 + 99j\n",
    "\n",
    "X = complex(B)\n",
    "Y = int(B)\n",
    "Z = float(A)\n",
    "\n",
    "print(X)\n",
    "print(Y)\n",
    "print(Z)\n",
    "\n",
    "print(type(X))\n",
    "print(type(Y))\n",
    "print(type(Z))"
   ]
  },
  {
   "cell_type": "code",
   "execution_count": null,
   "id": "d4525e31-d526-4041-bacb-ce5a7f3807d6",
   "metadata": {},
   "outputs": [],
   "source": []
  }
 ],
 "metadata": {
  "kernelspec": {
   "display_name": "Python 3 (ipykernel)",
   "language": "python",
   "name": "python3"
  },
  "language_info": {
   "codemirror_mode": {
    "name": "ipython",
    "version": 3
   },
   "file_extension": ".py",
   "mimetype": "text/x-python",
   "name": "python",
   "nbconvert_exporter": "python",
   "pygments_lexer": "ipython3",
   "version": "3.11.7"
  }
 },
 "nbformat": 4,
 "nbformat_minor": 5
}
