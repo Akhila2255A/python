{
 "cells": [
  {
   "cell_type": "markdown",
   "id": "ccf7e118-1198-4902-8153-e97c9a4cb489",
   "metadata": {},
   "source": [
    "# 1.Write the python program to find the largest element in the list?"
   ]
  },
  {
   "cell_type": "markdown",
   "id": "5af49b88-5a33-4843-8b9e-a64478f89cd8",
   "metadata": {},
   "source": [
    "numb1 = 300\n",
    "numb2 = 599\n",
    "numb3 = 20\n",
    "\n",
    "#largest number\n",
    "if numb1 >= numb2 and numb2 >= numb3:\n",
    "    print(\"the largest number is : \",numb1)\n",
    "elif numb2 >= numb1 and numb2 >= numb3:\n",
    "    print(\"the largest number is : \",numb2)\n",
    "else:\n",
    "    print(\"the largest number is : \",numb3)"
   ]
  },
  {
   "cell_type": "markdown",
   "id": "88709e0d-4327-4115-91d8-8c108679f313",
   "metadata": {},
   "source": [
    "# 2. Write a python program to find the common elements between two lists?"
   ]
  },
  {
   "cell_type": "code",
   "execution_count": 6,
   "id": "df1397ce-45fa-4cc2-983b-386024316453",
   "metadata": {},
   "outputs": [
    {
     "name": "stdout",
     "output_type": "stream",
     "text": [
      "intersection using &: {'shops', 'bikes', 'bus_stands'}\n"
     ]
    }
   ],
   "source": [
    "city = {\"buildings\",\"cars\",\"bikes\",\"shops\",\"shopping_malls\",\"temples\",\"parks\",\"bus_stands\"}\n",
    "village = {\"houses\",\"bikes\",\"bicycles\",\"agriculture\",\"shops\",\"bus_stands\"}\n",
    "print(\"intersection using &:\",city&village)"
   ]
  },
  {
   "cell_type": "markdown",
   "id": "b8bcada9-3de8-46e9-bb7b-29358a41bf3c",
   "metadata": {
    "jp-MarkdownHeadingCollapsed": true
   },
   "source": [
    "\r",
    "# 3. write a python program to find the maximum number in the list?)"
   ]
  },
  {
   "cell_type": "code",
   "execution_count": 9,
   "id": "4a249545-bd41-471c-9bd5-0928ae65d8ce",
   "metadata": {},
   "outputs": [
    {
     "name": "stdout",
     "output_type": "stream",
     "text": [
      "water\n"
     ]
    }
   ],
   "source": [
    "pollutions = (\"water\",\"air\",\"Solid\",\"SOUNd\",\"NOice\")\n",
    "print(max(pollutions))"
   ]
  },
  {
   "cell_type": "markdown",
   "id": "8a111bd6-9887-49c9-a7a7-c31ed3850561",
   "metadata": {},
   "source": [
    "# 4. write a python program to find the manimum number in the list?\n"
   ]
  },
  {
   "cell_type": "code",
   "execution_count": 11,
   "id": "c7cfc76b-adc8-4f27-b540-96881434fa2a",
   "metadata": {},
   "outputs": [
    {
     "name": "stdout",
     "output_type": "stream",
     "text": [
      "NOice\n"
     ]
    }
   ],
   "source": [
    "pollutions = (\"water\",\"air\",\"Solid\",\"SOUNd\",\"NOice\")\n",
    "print(min(pollutions))"
   ]
  },
  {
   "cell_type": "markdown",
   "id": "8a532cf2-0465-4094-8142-9a12f3a05f5f",
   "metadata": {},
   "source": [
    "# write a python program to sort characters of string in ascending order?"
   ]
  },
  {
   "cell_type": "code",
   "execution_count": 12,
   "id": "2555c23c-0bd6-4df7-8147-dec428e6dd90",
   "metadata": {},
   "outputs": [
    {
     "name": "stdout",
     "output_type": "stream",
     "text": [
      "[-2, -1, 2, 5, 37, 38, 47, 48, 75, 99]\n"
     ]
    }
   ],
   "source": [
    "list = (5,99,37,75,38,2,47,-1,48,-2)\n",
    "sorted_lists = sorted(list)\n",
    "print(sorted_lists)"
   ]
  },
  {
   "cell_type": "markdown",
   "id": "180f0670-38fb-418c-b27d-67b0c29d2baa",
   "metadata": {},
   "source": [
    "# 6. write a python program to sort characters of string in descending order?\r",
    "d\r\n"
   ]
  },
  {
   "cell_type": "code",
   "execution_count": 18,
   "id": "7875118f-f469-4ce4-bf7c-590916c4532b",
   "metadata": {},
   "outputs": [
    {
     "name": "stdout",
     "output_type": "stream",
     "text": [
      "[-2, -1, 2, 5, 37, 38, 47, 48, 75, 99]\n"
     ]
    }
   ],
   "source": [
    "list = (5,99,37,75,38,2,47,-1,48,-2)\n",
    "sorted_lists = sorted(list)\n",
    "print(sorted_lists)\n",
    "\n",
    "sort"
   ]
  },
  {
   "cell_type": "markdown",
   "id": "0895130b-4d6a-4a7e-a40e-4f8ebf01d7a8",
   "metadata": {},
   "source": [
    "# 7. Python program to calculate the square number of a given number?"
   ]
  },
  {
   "cell_type": "code",
   "execution_count": null,
   "id": "dcbfe697-c87f-439f-970e-f2212a032572",
   "metadata": {},
   "outputs": [],
   "source": []
  }
 ],
 "metadata": {
  "kernelspec": {
   "display_name": "Python 3 (ipykernel)",
   "language": "python",
   "name": "python3"
  },
  "language_info": {
   "codemirror_mode": {
    "name": "ipython",
    "version": 3
   },
   "file_extension": ".py",
   "mimetype": "text/x-python",
   "name": "python",
   "nbconvert_exporter": "python",
   "pygments_lexer": "ipython3",
   "version": "3.11.7"
  }
 },
 "nbformat": 4,
 "nbformat_minor": 5
}
