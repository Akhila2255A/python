{
 "cells": [
  {
   "cell_type": "markdown",
   "id": "e0b32134-7d1d-40b7-ac1e-1cbb04df10d9",
   "metadata": {},
   "source": [
    "# Creating list"
   ]
  },
  {
   "cell_type": "markdown",
   "id": "05fabbcd-a619-4d49-b74f-4b1b55c5d317",
   "metadata": {},
   "source": [
    "- It is commonly used data type that represent on ordered, matable and iterable.\n",
    "- List are deffined using square bracket [] and element are separated by comma."
   ]
  },
  {
   "cell_type": "markdown",
   "id": "386e7e16-8384-4c59-bb39-cae29b47ce10",
   "metadata": {},
   "source": [
    "# Access list Element"
   ]
  },
  {
   "cell_type": "markdown",
   "id": "ca72cb13-6eee-47ea-86c3-6c035a75b102",
   "metadata": {},
   "source": [
    "- In python, lists are ordered and each item in a list is associated with a number. the number is known as list index.\n",
    "- The index of the first element is 0, second elementis 1 and so on.\n",
    "- python allows negative indexing for its sequence. The index of -1 refers to the second last item and so on."
   ]
  },
  {
   "cell_type": "markdown",
   "id": "39a721f4-60ba-464c-b05f-d509ebb2ff6e",
   "metadata": {},
   "source": [
    "# Create 10 types of lists."
   ]
  },
  {
   "cell_type": "markdown",
   "id": "c4dc00a9-9186-47b7-a0c0-b26c8c2e9598",
   "metadata": {},
   "source": [
    "# positive and Negative"
   ]
  },
  {
   "cell_type": "code",
   "execution_count": 3,
   "id": "a5254d9b-74b5-4595-b578-6747b65daace",
   "metadata": {},
   "outputs": [
    {
     "name": "stdout",
     "output_type": "stream",
     "text": [
      "['Apple', 'Banana', 'cat']\n"
     ]
    }
   ],
   "source": [
    "language  = [\"Apple\",\"Banana\",\"cat\",\"Dog\"]\n",
    "print(language[0:3])"
   ]
  },
  {
   "cell_type": "code",
   "execution_count": 4,
   "id": "90a76c72-40be-4bbb-b5c0-9a40bd16a0df",
   "metadata": {},
   "outputs": [
    {
     "name": "stdout",
     "output_type": "stream",
     "text": [
      "green\n"
     ]
    }
   ],
   "source": [
    "list = [\"pink\",\"green\",\"yellow\",\"orange\",\"mango\",\"pine\"]\n",
    "print(list[-5])"
   ]
  },
  {
   "cell_type": "code",
   "execution_count": 5,
   "id": "e63802be-e9f6-4925-9b23-d167fda590b3",
   "metadata": {},
   "outputs": [
    {
     "name": "stdout",
     "output_type": "stream",
     "text": [
      "['9', '8', '7', '6', '5', '4', '3', '2']\n"
     ]
    }
   ],
   "source": [
    "list  = [\"9\",\"8\",\"7\",\"6\",\"5\",\"4\",\"3\",\"2\"]\n",
    "print(list[0:])"
   ]
  },
  {
   "cell_type": "code",
   "execution_count": 27,
   "id": "c0fa9055-00f2-48b0-8376-7e1009d09250",
   "metadata": {},
   "outputs": [
    {
     "name": "stdout",
     "output_type": "stream",
     "text": [
      "['9', '8', '7', '6', '5', '4', '3', '2']\n"
     ]
    }
   ],
   "source": [
    "#list slicing in python\n",
    "print(list)"
   ]
  },
  {
   "cell_type": "code",
   "execution_count": 6,
   "id": "296a7ee7-42d5-4f4e-857c-f7231359989a",
   "metadata": {},
   "outputs": [
    {
     "name": "stdout",
     "output_type": "stream",
     "text": [
      "['9', '8', '7', '6', '5', '4']\n",
      "['6', '5', '4', '3', '2']\n"
     ]
    }
   ],
   "source": [
    "x = [\"0.1\",\"0.2\",\"0.3\",\"0.4\",\"0.7\",\"0.12\"]\n",
    "#items from index 0 to index 6\n",
    "print(list[0:6])\n",
    "#items from index 3 to end\n",
    "print(list[3:])"
   ]
  },
  {
   "cell_type": "code",
   "execution_count": 7,
   "id": "61a22efd-c199-4381-ba13-dc96abe85250",
   "metadata": {},
   "outputs": [
    {
     "name": "stdout",
     "output_type": "stream",
     "text": [
      "['Akhila', 'Akhil', 'Ajay', 'Anitha']\n"
     ]
    }
   ],
   "source": [
    "language = [\"Akhila\",\"Akhil\",\"Ajay\",\"Anitha\"]\n",
    "print(language[:])"
   ]
  },
  {
   "cell_type": "code",
   "execution_count": 8,
   "id": "cbbc9f9c-ec92-48f6-906b-7322581d64a4",
   "metadata": {},
   "outputs": [
    {
     "name": "stdout",
     "output_type": "stream",
     "text": [
      "200\n"
     ]
    }
   ],
   "source": [
    "y = [100,200,300,400,500]\n",
    "print(y[-4])"
   ]
  },
  {
   "cell_type": "code",
   "execution_count": 10,
   "id": "5a38889f-0b29-4bc9-8fa5-706350850253",
   "metadata": {},
   "outputs": [
    {
     "name": "stdout",
     "output_type": "stream",
     "text": [
      "Bava\n"
     ]
    }
   ],
   "source": [
    "Akhila = [\"Akhil\",\"Bava\",\"Husband\"]\n",
    "print(Akhila[-2])"
   ]
  },
  {
   "cell_type": "code",
   "execution_count": 11,
   "id": "83fe3703-8c14-4442-9a45-5bf224a8ade4",
   "metadata": {},
   "outputs": [
    {
     "name": "stdout",
     "output_type": "stream",
     "text": [
      "['sky']\n"
     ]
    }
   ],
   "source": [
    "xyz = [\"star\",\"moon\",\"sky\",\"thunder\",\"money\"]\n",
    "print(xyz[2:3])"
   ]
  },
  {
   "cell_type": "code",
   "execution_count": 12,
   "id": "ada18fa4-c997-44cc-ac26-026427f4e6fa",
   "metadata": {},
   "outputs": [
    {
     "name": "stdout",
     "output_type": "stream",
     "text": [
      "['mango', 'Kiwi']\n"
     ]
    }
   ],
   "source": [
    "Fruits = [\"mango\",\"Kiwi\"]\n",
    "print(Fruits)"
   ]
  },
  {
   "cell_type": "markdown",
   "id": "1b744219-4a29-458e-8196-57d76aef93b9",
   "metadata": {},
   "source": [
    "# 2.  Academy = [\"ds\",\"ds\",\"ba\",\"f"
   ]
  },
  {
   "cell_type": "code",
   "execution_count": 16,
   "id": "20bfc183-600f-4754-afc4-edc6d86b59b7",
   "metadata": {},
   "outputs": [
    {
     "name": "stdout",
     "output_type": "stream",
     "text": [
      "ds\n",
      "da\n",
      "ba\n",
      "fsj\n",
      "fsp\n",
      "dm\n",
      "aws\n",
      "sf\n",
      "cad\n",
      "gcp\n"
     ]
    }
   ],
   "source": [
    "Academy = [\"ds\",\"da\",\"ba\",\"fsj\",\"fsp\",\"sf\",\"dm\",\"cad\",\"aws\",\"gcp\"]\n",
    "#access item at index 0\n",
    "print(Academy[0])\n",
    "#access item at index 1\n",
    "print(Academy[1])\n",
    "#access item at index 2\n",
    "print(Academy[2])\n",
    "#access item at index 3\n",
    "print(Academy[3])\n",
    "#access item at index 4\n",
    "print (Academy[4])\n",
    "#access item at index 6\n",
    "print(Academy[6])\n",
    "#access item at index 8\n",
    "print(Academy[8])\n",
    "#access item at index 5\n",
    "print(Academy[5])\n",
    "#accss item ar index 7\n",
    "print(Academy[7])\n",
    "#access item at index 9\n",
    "print(Academy[9])\n",
    "\n",
    "    "
   ]
  },
  {
   "cell_type": "code",
   "execution_count": 17,
   "id": "6e1ec6c0-b78d-4778-9806-9cca46f4d0e2",
   "metadata": {},
   "outputs": [
    {
     "name": "stdout",
     "output_type": "stream",
     "text": [
      "aws\n",
      "cad\n",
      "gcp\n",
      "dm\n",
      "sf\n",
      "fsp\n",
      "ds\n",
      "ba\n",
      "da\n"
     ]
    }
   ],
   "source": [
    "#access item at index - 2\n",
    "print(Academy[-2])\n",
    "#access item at index -3\n",
    "print(Academy[-3])\n",
    "#access item at index -1\n",
    "print(Academy[-1])\n",
    "#access item at index -4\n",
    "print(Academy[-4])\n",
    "#access item at index -5\n",
    "print(Academy[-5])\n",
    "#access item at index -6\n",
    "print(Academy[-6])\n",
    "#access item at index -10\n",
    "print(Academy[-10])\n",
    "#access item at index -8\n",
    "print(Academy[-8])\n",
    "#access item at index -9\n",
    "print(Academy[-9])"
   ]
  },
  {
   "cell_type": "markdown",
   "id": "6412b3df-8c7c-458f-8ccc-52b09281844c",
   "metadata": {},
   "source": [
    "# Slicing of a list"
   ]
  },
  {
   "cell_type": "markdown",
   "id": "758f720a-f0eb-46fc-bb40-d7a1108b9aa5",
   "metadata": {},
   "source": [
    "-It is a possible to access a potion of a list using the slicing operator\n",
    "- #variable_name[start_value:End_value]\n",
    "- n-1  only for end value."
   ]
  },
  {
   "cell_type": "code",
   "execution_count": 44,
   "id": "bb79acbf-f0eb-4c18-900b-072e16ea2da4",
   "metadata": {},
   "outputs": [],
   "source": [
    "list  = [\"Apple\",\"Banana\",\"Orange\",\"Grape\",\"Lemon\",\"Strawberry\",\"sun\",\"Moon\",\"Start\",\"Clouds\",\"Thunder\",\"Python\",\"Akhila\",\"Bava\",\"Mardhal\",\"Slicing\",\"List\",\"Mango\",\"Operators\",\"Pink\",\"Green\",\"yellow\",\"voilet\",\"mini star\",\"potato\",\"Allu\",\"vishnu\",\"anil\",\"mummy\",\"Daddy\",\"sister\"]"
   ]
  },
  {
   "cell_type": "code",
   "execution_count": 46,
   "id": "66580dcc-ac7a-4ccb-b98e-c16ad77b14e0",
   "metadata": {},
   "outputs": [
    {
     "name": "stdout",
     "output_type": "stream",
     "text": [
      "Apple\n",
      "Grape\n",
      "vishnu\n",
      "Start\n",
      "yellow\n",
      "Python\n",
      "sun\n",
      "sister\n",
      "Daddy\n"
     ]
    }
   ],
   "source": [
    "#access item at index 0\n",
    "print(list[0])\n",
    "#access item at index 3\n",
    "print(list[3])\n",
    "#access item at index -5\n",
    "print(list[-5])\n",
    "#access item at index 8\n",
    "print(list[8])\n",
    "#access item at index -10\n",
    "print(list[-10])\n",
    "#access item at index -20\n",
    "print(list[-20])\n",
    "#access item at index -25\n",
    "print(list[-25])\n",
    "#access item at index 30\n",
    "print(list[30])\n",
    "#access item at index 28\n",
    "print(list[29])"
   ]
  },
  {
   "cell_type": "markdown",
   "id": "dfae04d7-5e7a-4c18-af4a-088909ce767e",
   "metadata": {},
   "source": [
    "# Slicing "
   ]
  },
  {
   "cell_type": "code",
   "execution_count": 48,
   "id": "669df0be-a7ef-46e9-8e87-9b453939d51e",
   "metadata": {},
   "outputs": [
    {
     "name": "stdout",
     "output_type": "stream",
     "text": [
      "['Orange', 'Grape', 'Lemon', 'Strawberry', 'sun', 'Moon', 'Start', 'Clouds', 'Thunder', 'Python', 'Akhila', 'Bava', 'Mardhal', 'Slicing', 'List', 'Mango', 'Operators', 'Pink']\n",
      "['Grape', 'Lemon', 'Strawberry', 'sun', 'Moon', 'Start', 'Clouds', 'Thunder', 'Python', 'Akhila', 'Bava', 'Mardhal', 'Slicing', 'List', 'Mango', 'Operators', 'Pink', 'Green', 'yellow', 'voilet', 'mini star', 'potato', 'Allu', 'vishnu', 'anil', 'mummy', 'Daddy']\n",
      "['Apple', 'Banana', 'Orange', 'Grape', 'Lemon', 'Strawberry', 'sun', 'Moon', 'Start', 'Clouds', 'Thunder', 'Python', 'Akhila', 'Bava', 'Mardhal', 'Slicing', 'List', 'Mango', 'Operators', 'Pink', 'Green', 'yellow', 'voilet', 'mini star', 'potato', 'Allu', 'vishnu', 'anil', 'mummy', 'Daddy', 'sister']\n",
      "['Slicing', 'List', 'Mango', 'Operators', 'Pink', 'Green', 'yellow', 'voilet']\n",
      "['Banana', 'Orange', 'Grape', 'Lemon', 'Strawberry', 'sun', 'Moon', 'Start', 'Clouds', 'Thunder', 'Python', 'Akhila', 'Bava', 'Mardhal', 'Slicing', 'List', 'Mango', 'Operators', 'Pink', 'Green', 'yellow', 'voilet', 'mini star', 'potato', 'Allu', 'vishnu', 'anil']\n",
      "['Grape', 'Lemon', 'Strawberry', 'sun', 'Moon', 'Start', 'Clouds', 'Thunder', 'Python', 'Akhila', 'Bava', 'Mardhal', 'Slicing']\n",
      "['Lemon', 'Strawberry', 'sun', 'Moon', 'Start', 'Clouds']\n"
     ]
    }
   ],
   "source": [
    "#item from index 2 to index 20\n",
    "print(list[2:20])\n",
    "#item from index 3 to index 30\n",
    "print(list[3:30])\n",
    "#item from index 0 to index end\n",
    "print(list[0:])\n",
    "#item from index 15 to index 23\n",
    "print(list[15:23])\n",
    "#item from index 1 to index 28\n",
    "print(list[1:28])\n",
    "#item from index 3 to index 16\n",
    "print(list[3:16])\n",
    "#item from index 4 to index 10\n",
    "print(list[4:10])"
   ]
  },
  {
   "cell_type": "markdown",
   "id": "6d4d7a63-d466-4d7f-975b-33304bd0d628",
   "metadata": {},
   "source": [
    "# Change list with 5 items & modify by index and slicing"
   ]
  },
  {
   "cell_type": "markdown",
   "id": "7d8f9974-6de6-4451-8073-db99518622d8",
   "metadata": {},
   "source": [
    "-To change the values of a specific item,reefer to the index number."
   ]
  },
  {
   "cell_type": "code",
   "execution_count": 66,
   "id": "ca5114ca-9f47-499a-a8e0-35ac1a12aa81",
   "metadata": {},
   "outputs": [
    {
     "name": "stdout",
     "output_type": "stream",
     "text": [
      "['Mummy', 'Daddy', 'Sister', 'Ajay', 'grand maa']\n"
     ]
    }
   ],
   "source": [
    "list = [\"Mummy\",\"Daddy\",\"Sister\",\"Brother\",\"grand maa\"]\n",
    "list[3] = \"Ajay\"\n",
    "print(list)"
   ]
  },
  {
   "cell_type": "markdown",
   "id": "47e0ad98-93d5-4e53-a3c4-9dbed770b248",
   "metadata": {},
   "source": [
    "list[0:4] = \"Anitha\",\"Rajashekar\"\n",
    "print(list)"
   ]
  },
  {
   "cell_type": "code",
   "execution_count": 74,
   "id": "f89813ec-fcbe-4807-b347-983aa27f0d63",
   "metadata": {},
   "outputs": [
    {
     "name": "stdout",
     "output_type": "stream",
     "text": [
      "['egg', 'curd', 'biryani', 'motton', 'goat']\n",
      "['egg', 'curd', 'black', 'white', 'goat']\n",
      "[' yellow', 'pink', 'white', 'goat']\n"
     ]
    }
   ],
   "source": [
    "item = [\"egg\",\"curd\",\"biryani\",\"motton\",\"chiken\"]\n",
    "item[4] = \"goat\"\n",
    "print(item)\n",
    "item[2:4] =\"black\",\"white\"\n",
    "print(item)\n",
    "item[0:3] =\" yellow\",\"pink\"\n",
    "print(item)"
   ]
  },
  {
   "cell_type": "markdown",
   "id": "4559cadc-acff-4380-8022-4ff5c2a9b6f2",
   "metadata": {},
   "source": []
  },
  {
   "cell_type": "markdown",
   "id": "cec930a4-d39c-4dbb-8a99-b303f32fe878",
   "metadata": {},
   "source": [
    "# List methods"
   ]
  },
  {
   "cell_type": "markdown",
   "id": "cbef9c2d-ba66-4f3f-a688-2d6c85132cea",
   "metadata": {},
   "source": [
    "# append():"
   ]
  },
  {
   "cell_type": "markdown",
   "id": "dea14da1-f901-475b-8760-6540615b6b21",
   "metadata": {},
   "source": [
    "-Adds the specified item to the end of the list."
   ]
  },
  {
   "cell_type": "code",
   "execution_count": 19,
   "id": "e8e5e54e-cce7-4ab6-908b-858c56fdcdbf",
   "metadata": {},
   "outputs": [
    {
     "name": "stdout",
     "output_type": "stream",
     "text": [
      "[9, 8, 7, 6, 5]\n",
      "[0, 9, 8, 7]\n"
     ]
    }
   ],
   "source": [
    "x = [9,8,7,6]\n",
    "x.append(5)\n",
    "print(x)\n",
    "y = [0,9,8]\n",
    "y.append(7)\n",
    "print(y)"
   ]
  },
  {
   "cell_type": "markdown",
   "id": "3a848b48-2f88-485f-8f6b-359468ca7be6",
   "metadata": {},
   "source": [
    "# extend():"
   ]
  },
  {
   "cell_type": "markdown",
   "id": "01a4d174-8a61-4293-8f42-002e70a88399",
   "metadata": {},
   "source": [
    "-Extend the list by appending elements from the iterable."
   ]
  },
  {
   "cell_type": "markdown",
   "id": "0db8aa68-2558-4d70-9d4f-048bf1595743",
   "metadata": {},
   "source": [
    "fruit = [\" Apple\",\"Banana\",\"Kiwi\",\"Mango\"]\n",
    "fruit.extend([\"pine\",\"orange\",\"watermelon\"])\n",
    "print(fruit)"
   ]
  },
  {
   "cell_type": "markdown",
   "id": "3c727e53-daf3-434e-838b-196a73b8763e",
   "metadata": {},
   "source": [
    "# Insert():"
   ]
  },
  {
   "cell_type": "markdown",
   "id": "64bf9b52-c955-418f-bf90-fae63de3c3b4",
   "metadata": {},
   "source": [
    "-Insert the specified item at the specified index."
   ]
  },
  {
   "cell_type": "code",
   "execution_count": 24,
   "id": "73b56c31-cf63-4514-a2a5-c4ebc4509506",
   "metadata": {},
   "outputs": [
    {
     "name": "stdout",
     "output_type": "stream",
     "text": [
      "[900, 800, 700, 600, 500]\n"
     ]
    }
   ],
   "source": [
    "number = [900,800,700,600]\n",
    "number.insert(800,500)\n",
    "print(number)"
   ]
  },
  {
   "cell_type": "markdown",
   "id": "3d6141cd-2163-432d-bdff-ce98d0c3d70a",
   "metadata": {},
   "source": [
    "# remove():"
   ]
  },
  {
   "cell_type": "markdown",
   "id": "f43bb832-9f6c-4c2f-a4e3-feac982b10f8",
   "metadata": {},
   "source": [
    "-Removes the first occurrence of the specified item."
   ]
  },
  {
   "cell_type": "code",
   "execution_count": 29,
   "id": "6402962a-2ad1-4994-b097-6c0c07891a0f",
   "metadata": {},
   "outputs": [
    {
     "name": "stdout",
     "output_type": "stream",
     "text": [
      "[1, 2, 4, 3]\n"
     ]
    }
   ],
   "source": [
    "Words = [1,2,3,4,3]\n",
    "Words.remove(3)\n",
    "print(Words)"
   ]
  },
  {
   "cell_type": "markdown",
   "id": "47d685f2-c1af-4512-a1f7-e936a1b39c84",
   "metadata": {},
   "source": [
    " # pop():"
   ]
  },
  {
   "cell_type": "markdown",
   "id": "4a569cff-32b4-47b8-b58b-06c999285456",
   "metadata": {},
   "source": [
    "-Remove and returns the item at the specified index."
   ]
  },
  {
   "cell_type": "markdown",
   "id": "549c56cf-703c-4615-b4d3-05bf7fa8a6e3",
   "metadata": {},
   "source": [
    "# index():"
   ]
  },
  {
   "cell_type": "markdown",
   "id": "b66efdb3-1b12-46a4-b369-948685d98db3",
   "metadata": {},
   "source": [
    "-Returns the index of the first occurrence of the specified item in the list."
   ]
  },
  {
   "cell_type": "code",
   "execution_count": 38,
   "id": "b094b115-4f3c-489f-bbf5-a14da57f57a6",
   "metadata": {},
   "outputs": [
    {
     "name": "stdout",
     "output_type": "stream",
     "text": [
      "7\n"
     ]
    }
   ],
   "source": [
    "list = [1,2,3,4,5,6,7,9,8,5]\n",
    "index=list.index(9)\n",
    "print(index)"
   ]
  },
  {
   "cell_type": "code",
   "execution_count": null,
   "id": "a63f9a51-91be-4854-b65f-485c45c860e9",
   "metadata": {},
   "outputs": [],
   "source": []
  }
 ],
 "metadata": {
  "kernelspec": {
   "display_name": "Python 3 (ipykernel)",
   "language": "python",
   "name": "python3"
  },
  "language_info": {
   "codemirror_mode": {
    "name": "ipython",
    "version": 3
   },
   "file_extension": ".py",
   "mimetype": "text/x-python",
   "name": "python",
   "nbconvert_exporter": "python",
   "pygments_lexer": "ipython3",
   "version": "3.11.7"
  }
 },
 "nbformat": 4,
 "nbformat_minor": 5
}
