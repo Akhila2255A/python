{
 "cells": [
  {
   "cell_type": "markdown",
   "id": "505037e1-4dad-44c0-afad-429283e3d7f0",
   "metadata": {},
   "source": [
    "# Object Oriented Programming"
   ]
  },
  {
   "cell_type": "markdown",
   "id": "0cb2a8bd-e026-4a4f-aa0e-fdddbd027214",
   "metadata": {},
   "source": [
    "-Python is a versatile programming language that supports various programming style by using class and object."
   ]
  },
  {
   "cell_type": "markdown",
   "id": "7cf6fc8e-8238-4734-a5df-3a8ae2d64064",
   "metadata": {},
   "source": [
    "# Class : \n",
    "-class is a \"blueprint\".\n",
    "\n",
    "syntax:\n",
    "class class_name:body of the class"
   ]
  },
  {
   "cell_type": "markdown",
   "id": "fbafc10e-6be8-4777-be6f-84630fe6f7d4",
   "metadata": {},
   "source": [
    "# Example"
   ]
  },
  {
   "cell_type": "code",
   "execution_count": 41,
   "id": "460e877b-6eb5-41ce-b12d-cde08fd0d9d3",
   "metadata": {},
   "outputs": [
    {
     "name": "stdout",
     "output_type": "stream",
     "text": [
      "prashanthi is located in hanamakonda .\n",
      "Amma is located in  nspt .\n",
      "CKM is located in hdy .\n",
      "prashanthi,vijaya,manishash\n"
     ]
    }
   ],
   "source": [
    "class hospital:\n",
    "    def __init__(self,name,location):\n",
    "        self.name = name\n",
    "        self.location = location\n",
    "    def doctor(self):\n",
    "        print(\"prashanthi,vijaya,manishash\")\n",
    "\n",
    "hospital1 = hospital('prashanthi','hanamakonda')\n",
    "hospital2 = hospital('Amma','nspt')\n",
    "hospital3 = hospital('CKM','hdy')\n",
    "print(f\"{hospital1.name} is located in {hospital1.location} .\")\n",
    "print(f\"{hospital2.name} is located in  {hospital2.location} .\")\n",
    "print(f\"{hospital3.name} is located in {hospital3.location} .\")\n",
    "hospital1.doctor()"
   ]
  },
  {
   "cell_type": "code",
   "execution_count": 50,
   "id": "9adc3bac-f9f4-4785-96da-eef76684b355",
   "metadata": {},
   "outputs": [
    {
     "name": "stdout",
     "output_type": "stream",
     "text": [
      "Rishi is joining as SI in mulugu.\n",
      "Rajkumar is joining as constable in vishakapatanam.\n",
      "manikanta is joining as constable in tirumala.\n",
      "1999\n",
      "104\n"
     ]
    }
   ],
   "source": [
    "class gvt_job:\n",
    "    def __init__(self,name,posting,area):\n",
    "        self.name = name\n",
    "        self.posting = posting\n",
    "        self.area = area\n",
    "    def joining_year(self):\n",
    "        print(2023-24)\n",
    "    def batch_no(self):\n",
    "        print(104)\n",
    "\n",
    "job1 = gvt_job('Rishi','SI','mulugu')\n",
    "job2 = gvt_job('Rajkumar','constable','vishakapatanam')\n",
    "job3 = gvt_job('manikanta' ,'forest offiicer', 'tirumala')\n",
    "print(f\"{job1.name} is joining as {job1.posting} in {job1.area}.\")\n",
    "print(f\"{job2.name} is joining as {job2.posting} in {job2.area}.\")\n",
    "print(f\"{job3.name} is joining as {job2.posting} in {job3.area}.\")\n",
    "job1.joining_year()\n",
    "job2.batch_no()"
   ]
  },
  {
   "cell_type": "code",
   "execution_count": 53,
   "id": "1d195ec0-d6d9-49f9-991d-e2c906e8463a",
   "metadata": {},
   "outputs": [
    {
     "name": "stdout",
     "output_type": "stream",
     "text": [
      "ramappa is located in mulugu,it's a water fall.\n",
      "kuntala is located in hdy,it's a water fall.\n",
      "sanjeevaiah is located in hdy,it's a park.\n",
      "its amazing!\n"
     ]
    }
   ],
   "source": [
    "class place:\n",
    "    def __init__(self,name,location,place):\n",
    "        self.name= name\n",
    "        self.location = location\n",
    "        self.place = place\n",
    "    def place_veiw(self):\n",
    "        print(\"its amazing!\")\n",
    "place1 =place(\"ramappa\",\"mulugu\",\"water fall\")\n",
    "place2 = place(\"kuntala\",\"hdy\",\"water fall\")\n",
    "place3 = place(\"sanjeevaiah\",\"hdy\",\"park\")\n",
    "print(f\"{place1.name} is located in {place1.location},it's a {place1.place}.\")\n",
    "print(f\"{place2.name} is located in {place2.location},it's a {place2.place}.\")\n",
    "print(f\"{place3.name} is located in {place3.location},it's a {place3.place}.\")\n",
    "place1.place_veiw()"
   ]
  },
  {
   "cell_type": "markdown",
   "id": "c9978f58-6421-47ad-b43b-e071e14e5a84",
   "metadata": {},
   "source": [
    "# Str Method:\n"
   ]
  },
  {
   "cell_type": "markdown",
   "id": "b3bd05c5-6453-4bfc-a292-0012c5a2bfde",
   "metadata": {},
   "source": [
    "-str method is used to provid a human-readable string representation of object."
   ]
  },
  {
   "cell_type": "markdown",
   "id": "a3bd7fc3-a988-4913-83e3-864ac5c16554",
   "metadata": {},
   "source": [
    "# Example:"
   ]
  },
  {
   "cell_type": "code",
   "execution_count": 59,
   "id": "3eb76c74-fd3f-4763-bb3e-24f05cf5038e",
   "metadata": {},
   "outputs": [
    {
     "name": "stdout",
     "output_type": "stream",
     "text": [
      "thousand pillars in hanamakonda,their is shiva god is present, establised in 19.\n",
      "tirupathi in tirumala,their is venkateshwarlu god is present, establised in 19.\n"
     ]
    }
   ],
   "source": [
    "class fam_temples:\n",
    "    def __init__(self,name,place,god,establise):\n",
    "        self.name = name\n",
    "        self.place = place\n",
    "        self.god = god\n",
    "        self.establise = establise\n",
    "\n",
    "    def __str__(self):\n",
    "        return(f\"{self.name} in {self.place},their is {self.god} god is present, establised in {self.establise}.\")\n",
    "\n",
    "temple1 = fam_temples(name = \"thousand pillars\",place = \"hanamakonda\",god = \"shiva\",establise = 19)\n",
    "temple2 = fam_temples(name = \"tirupathi\",place= \"tirumala\",god = \"venkateshwarlu\",establise = 19)\n",
    "print(temple1)\n",
    "print(temple2)"
   ]
  },
  {
   "cell_type": "code",
   "execution_count": null,
   "id": "a170945a-fbc7-4fc9-ba64-cbb1631282b2",
   "metadata": {},
   "outputs": [],
   "source": []
  },
  {
   "cell_type": "code",
   "execution_count": 69,
   "id": "50f98643-178b-48b4-8819-1956b1bc191c",
   "metadata": {},
   "outputs": [
    {
     "name": "stdout",
     "output_type": "stream",
     "text": [
      "water pollution is effected to typhiod.\n",
      "air pollution is effected to lung cancer.\n",
      "smoke pollution is effected to asthma.\n",
      "plastic pollution is effected to damages soil.\n"
     ]
    }
   ],
   "source": [
    "class pollutions:\n",
    "    def __init__(self,name,effect):\n",
    "       self.name = name\n",
    "       self.effect = effect\n",
    "\n",
    "    def __str__(self):\n",
    "        return(f\"{self.name} pollution is effected to {self.effect}.\")\n",
    "\n",
    "pollution1 = pollutions(name = \"water\",effect = \"typhiod\")\n",
    "pollution2 = pollutions(name = \"air\",effect = \"lung cancer\")\n",
    "pollution3 = pollutions(name = \"smoke\",effect = \"asthma\")\n",
    "pollution4 = pollutions(name = \"plastic\",effect = \"damages soil\")\n",
    "print(pollution1)\n",
    "print(pollution2)\n",
    "print(pollution3)\n",
    "print(pollution4)"
   ]
  },
  {
   "cell_type": "code",
   "execution_count": null,
   "id": "e6c3b242-3577-4a87-a7cc-3953be1da3c3",
   "metadata": {},
   "outputs": [],
   "source": []
  }
 ],
 "metadata": {
  "kernelspec": {
   "display_name": "Python 3 (ipykernel)",
   "language": "python",
   "name": "python3"
  },
  "language_info": {
   "codemirror_mode": {
    "name": "ipython",
    "version": 3
   },
   "file_extension": ".py",
   "mimetype": "text/x-python",
   "name": "python",
   "nbconvert_exporter": "python",
   "pygments_lexer": "ipython3",
   "version": "3.11.7"
  }
 },
 "nbformat": 4,
 "nbformat_minor": 5
}
