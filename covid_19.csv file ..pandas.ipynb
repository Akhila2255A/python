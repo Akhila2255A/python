{
 "cells": [
  {
   "cell_type": "code",
   "execution_count": 1,
   "id": "4401e481-a382-4ca6-934e-e5536b2d5589",
   "metadata": {},
   "outputs": [
    {
     "name": "stdout",
     "output_type": "stream",
     "text": [
      "Requirement already satisfied: pandas in c:\\users\\91988\\anaconda3\\lib\\site-packages (2.1.4)\n",
      "Requirement already satisfied: numpy<2,>=1.23.2 in c:\\users\\91988\\anaconda3\\lib\\site-packages (from pandas) (1.26.4)\n",
      "Requirement already satisfied: python-dateutil>=2.8.2 in c:\\users\\91988\\anaconda3\\lib\\site-packages (from pandas) (2.8.2)\n",
      "Requirement already satisfied: pytz>=2020.1 in c:\\users\\91988\\anaconda3\\lib\\site-packages (from pandas) (2023.3.post1)\n",
      "Requirement already satisfied: tzdata>=2022.1 in c:\\users\\91988\\anaconda3\\lib\\site-packages (from pandas) (2023.3)\n",
      "Requirement already satisfied: six>=1.5 in c:\\users\\91988\\anaconda3\\lib\\site-packages (from python-dateutil>=2.8.2->pandas) (1.16.0)\n"
     ]
    }
   ],
   "source": [
    "!pip install pandas"
   ]
  },
  {
   "cell_type": "code",
   "execution_count": 6,
   "id": "43134029-9f6d-4163-a512-eac752e7e1bb",
   "metadata": {},
   "outputs": [],
   "source": [
    "import pandas as pd "
   ]
  },
  {
   "cell_type": "code",
   "execution_count": 7,
   "id": "594626f4-be5f-47d1-b50a-3b1fca218665",
   "metadata": {},
   "outputs": [],
   "source": [
    "data = pd.read_csv(r\"C:\\Users\\91988\\Downloads\\data scientist\\Akhila.python\\covid_19.csv\")"
   ]
  },
  {
   "cell_type": "code",
   "execution_count": 4,
   "id": "2c2917c8-0a43-465c-85fb-be127863a7c8",
   "metadata": {},
   "outputs": [
    {
     "data": {
      "text/html": [
       "<div>\n",
       "<style scoped>\n",
       "    .dataframe tbody tr th:only-of-type {\n",
       "        vertical-align: middle;\n",
       "    }\n",
       "\n",
       "    .dataframe tbody tr th {\n",
       "        vertical-align: top;\n",
       "    }\n",
       "\n",
       "    .dataframe thead th {\n",
       "        text-align: right;\n",
       "    }\n",
       "</style>\n",
       "<table border=\"1\" class=\"dataframe\">\n",
       "  <thead>\n",
       "    <tr style=\"text-align: right;\">\n",
       "      <th></th>\n",
       "      <th>country</th>\n",
       "      <th>continent</th>\n",
       "      <th>population</th>\n",
       "      <th>day</th>\n",
       "      <th>time</th>\n",
       "      <th>Cases</th>\n",
       "      <th>Recovered</th>\n",
       "      <th>Deaths</th>\n",
       "      <th>Tests</th>\n",
       "    </tr>\n",
       "  </thead>\n",
       "  <tbody>\n",
       "    <tr>\n",
       "      <th>0</th>\n",
       "      <td>Saint-Helena</td>\n",
       "      <td>Africa</td>\n",
       "      <td>6115.0</td>\n",
       "      <td>2024-06-30</td>\n",
       "      <td>2024-06-30T16:15:16+00:00</td>\n",
       "      <td>2166</td>\n",
       "      <td>2.0</td>\n",
       "      <td>NaN</td>\n",
       "      <td>NaN</td>\n",
       "    </tr>\n",
       "    <tr>\n",
       "      <th>1</th>\n",
       "      <td>Falkland-Islands</td>\n",
       "      <td>South-America</td>\n",
       "      <td>3539.0</td>\n",
       "      <td>2024-06-30</td>\n",
       "      <td>2024-06-30T16:15:16+00:00</td>\n",
       "      <td>1930</td>\n",
       "      <td>1930.0</td>\n",
       "      <td>NaN</td>\n",
       "      <td>8632.0</td>\n",
       "    </tr>\n",
       "    <tr>\n",
       "      <th>2</th>\n",
       "      <td>Montserrat</td>\n",
       "      <td>North-America</td>\n",
       "      <td>4965.0</td>\n",
       "      <td>2024-06-30</td>\n",
       "      <td>2024-06-30T16:15:16+00:00</td>\n",
       "      <td>1403</td>\n",
       "      <td>1376.0</td>\n",
       "      <td>8.0</td>\n",
       "      <td>17762.0</td>\n",
       "    </tr>\n",
       "    <tr>\n",
       "      <th>3</th>\n",
       "      <td>Diamond-Princess</td>\n",
       "      <td>NaN</td>\n",
       "      <td>NaN</td>\n",
       "      <td>2024-06-30</td>\n",
       "      <td>2024-06-30T16:15:16+00:00</td>\n",
       "      <td>712</td>\n",
       "      <td>699.0</td>\n",
       "      <td>13.0</td>\n",
       "      <td>NaN</td>\n",
       "    </tr>\n",
       "    <tr>\n",
       "      <th>4</th>\n",
       "      <td>Vatican-City</td>\n",
       "      <td>Europe</td>\n",
       "      <td>799.0</td>\n",
       "      <td>2024-06-30</td>\n",
       "      <td>2024-06-30T16:15:16+00:00</td>\n",
       "      <td>29</td>\n",
       "      <td>29.0</td>\n",
       "      <td>NaN</td>\n",
       "      <td>NaN</td>\n",
       "    </tr>\n",
       "  </tbody>\n",
       "</table>\n",
       "</div>"
      ],
      "text/plain": [
       "            country      continent  population         day  \\\n",
       "0      Saint-Helena         Africa      6115.0  2024-06-30   \n",
       "1  Falkland-Islands  South-America      3539.0  2024-06-30   \n",
       "2        Montserrat  North-America      4965.0  2024-06-30   \n",
       "3  Diamond-Princess            NaN         NaN  2024-06-30   \n",
       "4      Vatican-City         Europe       799.0  2024-06-30   \n",
       "\n",
       "                        time  Cases  Recovered  Deaths    Tests  \n",
       "0  2024-06-30T16:15:16+00:00   2166        2.0     NaN      NaN  \n",
       "1  2024-06-30T16:15:16+00:00   1930     1930.0     NaN   8632.0  \n",
       "2  2024-06-30T16:15:16+00:00   1403     1376.0     8.0  17762.0  \n",
       "3  2024-06-30T16:15:16+00:00    712      699.0    13.0      NaN  \n",
       "4  2024-06-30T16:15:16+00:00     29       29.0     NaN      NaN  "
      ]
     },
     "execution_count": 4,
     "metadata": {},
     "output_type": "execute_result"
    }
   ],
   "source": [
    "data.head(5)"
   ]
  },
  {
   "cell_type": "code",
   "execution_count": 5,
   "id": "1a0b5e1a-59a9-4bac-b1e3-ca89c9eafe31",
   "metadata": {},
   "outputs": [
    {
     "data": {
      "text/html": [
       "<div>\n",
       "<style scoped>\n",
       "    .dataframe tbody tr th:only-of-type {\n",
       "        vertical-align: middle;\n",
       "    }\n",
       "\n",
       "    .dataframe tbody tr th {\n",
       "        vertical-align: top;\n",
       "    }\n",
       "\n",
       "    .dataframe thead th {\n",
       "        text-align: right;\n",
       "    }\n",
       "</style>\n",
       "<table border=\"1\" class=\"dataframe\">\n",
       "  <thead>\n",
       "    <tr style=\"text-align: right;\">\n",
       "      <th></th>\n",
       "      <th>country</th>\n",
       "      <th>continent</th>\n",
       "      <th>population</th>\n",
       "      <th>day</th>\n",
       "      <th>time</th>\n",
       "      <th>Cases</th>\n",
       "      <th>Recovered</th>\n",
       "      <th>Deaths</th>\n",
       "      <th>Tests</th>\n",
       "    </tr>\n",
       "  </thead>\n",
       "  <tbody>\n",
       "    <tr>\n",
       "      <th>236</th>\n",
       "      <td>Iran</td>\n",
       "      <td>Asia</td>\n",
       "      <td>86022837.0</td>\n",
       "      <td>2024-06-30</td>\n",
       "      <td>2024-06-30T16:15:10+00:00</td>\n",
       "      <td>7627186</td>\n",
       "      <td>NaN</td>\n",
       "      <td>146811.0</td>\n",
       "      <td>57320267.0</td>\n",
       "    </tr>\n",
       "    <tr>\n",
       "      <th>237</th>\n",
       "      <td>Indonesia</td>\n",
       "      <td>Asia</td>\n",
       "      <td>279134505.0</td>\n",
       "      <td>2024-06-30</td>\n",
       "      <td>2024-06-30T16:15:10+00:00</td>\n",
       "      <td>6829221</td>\n",
       "      <td>6647104.0</td>\n",
       "      <td>162063.0</td>\n",
       "      <td>114158919.0</td>\n",
       "    </tr>\n",
       "  </tbody>\n",
       "</table>\n",
       "</div>"
      ],
      "text/plain": [
       "       country continent   population         day                       time  \\\n",
       "236       Iran      Asia   86022837.0  2024-06-30  2024-06-30T16:15:10+00:00   \n",
       "237  Indonesia      Asia  279134505.0  2024-06-30  2024-06-30T16:15:10+00:00   \n",
       "\n",
       "       Cases  Recovered    Deaths        Tests  \n",
       "236  7627186        NaN  146811.0   57320267.0  \n",
       "237  6829221  6647104.0  162063.0  114158919.0  "
      ]
     },
     "execution_count": 5,
     "metadata": {},
     "output_type": "execute_result"
    }
   ],
   "source": [
    "data.tail(2)"
   ]
  },
  {
   "cell_type": "code",
   "execution_count": 8,
   "id": "0d070678-d67d-4095-8090-bca352b2c40b",
   "metadata": {},
   "outputs": [
    {
     "name": "stdout",
     "output_type": "stream",
     "text": [
      "Index(['country', 'continent', 'population', 'day', 'time', 'Cases',\n",
      "       'Recovered', 'Deaths', 'Tests'],\n",
      "      dtype='object')\n"
     ]
    }
   ],
   "source": [
    "print(data.columns)"
   ]
  },
  {
   "cell_type": "code",
   "execution_count": 9,
   "id": "55d11f29-9c59-42d1-8f54-64423e2aec09",
   "metadata": {},
   "outputs": [
    {
     "name": "stdout",
     "output_type": "stream",
     "text": [
      "(238, 9)\n"
     ]
    }
   ],
   "source": [
    "print(data.shape)"
   ]
  },
  {
   "cell_type": "code",
   "execution_count": 10,
   "id": "b45fcb24-0c11-4335-86ab-a6b3a1c4c754",
   "metadata": {},
   "outputs": [
    {
     "name": "stdout",
     "output_type": "stream",
     "text": [
      "9\n"
     ]
    }
   ],
   "source": [
    "print(data.shape[1])"
   ]
  },
  {
   "cell_type": "code",
   "execution_count": 11,
   "id": "14c5d8ca-af29-42e0-8551-1b3b02df975f",
   "metadata": {},
   "outputs": [
    {
     "name": "stdout",
     "output_type": "stream",
     "text": [
      "238\n"
     ]
    }
   ],
   "source": [
    "print(data.shape[0])"
   ]
  },
  {
   "cell_type": "code",
   "execution_count": 14,
   "id": "609de476-d428-40c2-9454-81a0ed28bb4d",
   "metadata": {},
   "outputs": [
    {
     "data": {
      "text/html": [
       "<div>\n",
       "<style scoped>\n",
       "    .dataframe tbody tr th:only-of-type {\n",
       "        vertical-align: middle;\n",
       "    }\n",
       "\n",
       "    .dataframe tbody tr th {\n",
       "        vertical-align: top;\n",
       "    }\n",
       "\n",
       "    .dataframe thead th {\n",
       "        text-align: right;\n",
       "    }\n",
       "</style>\n",
       "<table border=\"1\" class=\"dataframe\">\n",
       "  <thead>\n",
       "    <tr style=\"text-align: right;\">\n",
       "      <th></th>\n",
       "      <th>country</th>\n",
       "      <th>continent</th>\n",
       "      <th>population</th>\n",
       "      <th>day</th>\n",
       "      <th>time</th>\n",
       "      <th>Cases</th>\n",
       "      <th>Recovered</th>\n",
       "      <th>Deaths</th>\n",
       "      <th>Tests</th>\n",
       "    </tr>\n",
       "  </thead>\n",
       "  <tbody>\n",
       "    <tr>\n",
       "      <th>236</th>\n",
       "      <td>False</td>\n",
       "      <td>False</td>\n",
       "      <td>False</td>\n",
       "      <td>False</td>\n",
       "      <td>False</td>\n",
       "      <td>False</td>\n",
       "      <td>True</td>\n",
       "      <td>False</td>\n",
       "      <td>False</td>\n",
       "    </tr>\n",
       "    <tr>\n",
       "      <th>237</th>\n",
       "      <td>False</td>\n",
       "      <td>False</td>\n",
       "      <td>False</td>\n",
       "      <td>False</td>\n",
       "      <td>False</td>\n",
       "      <td>False</td>\n",
       "      <td>False</td>\n",
       "      <td>False</td>\n",
       "      <td>False</td>\n",
       "    </tr>\n",
       "  </tbody>\n",
       "</table>\n",
       "</div>"
      ],
      "text/plain": [
       "     country  continent  population    day   time  Cases  Recovered  Deaths  \\\n",
       "236    False      False       False  False  False  False       True   False   \n",
       "237    False      False       False  False  False  False      False   False   \n",
       "\n",
       "     Tests  \n",
       "236  False  \n",
       "237  False  "
      ]
     },
     "execution_count": 14,
     "metadata": {},
     "output_type": "execute_result"
    }
   ],
   "source": [
    "data.isnull().tail(2)"
   ]
  },
  {
   "cell_type": "code",
   "execution_count": 13,
   "id": "5cd3cf3b-7928-436e-93e0-0d5e2244e386",
   "metadata": {},
   "outputs": [
    {
     "data": {
      "text/html": [
       "<div>\n",
       "<style scoped>\n",
       "    .dataframe tbody tr th:only-of-type {\n",
       "        vertical-align: middle;\n",
       "    }\n",
       "\n",
       "    .dataframe tbody tr th {\n",
       "        vertical-align: top;\n",
       "    }\n",
       "\n",
       "    .dataframe thead th {\n",
       "        text-align: right;\n",
       "    }\n",
       "</style>\n",
       "<table border=\"1\" class=\"dataframe\">\n",
       "  <thead>\n",
       "    <tr style=\"text-align: right;\">\n",
       "      <th></th>\n",
       "      <th>country</th>\n",
       "      <th>continent</th>\n",
       "      <th>Recovered</th>\n",
       "      <th>Deaths</th>\n",
       "      <th>Tests</th>\n",
       "    </tr>\n",
       "  </thead>\n",
       "  <tbody>\n",
       "    <tr>\n",
       "      <th>0</th>\n",
       "      <td>Saint-Helena</td>\n",
       "      <td>Africa</td>\n",
       "      <td>2.0</td>\n",
       "      <td>NaN</td>\n",
       "      <td>NaN</td>\n",
       "    </tr>\n",
       "    <tr>\n",
       "      <th>1</th>\n",
       "      <td>Falkland-Islands</td>\n",
       "      <td>South-America</td>\n",
       "      <td>1930.0</td>\n",
       "      <td>NaN</td>\n",
       "      <td>8632.0</td>\n",
       "    </tr>\n",
       "    <tr>\n",
       "      <th>2</th>\n",
       "      <td>Montserrat</td>\n",
       "      <td>North-America</td>\n",
       "      <td>1376.0</td>\n",
       "      <td>8.0</td>\n",
       "      <td>17762.0</td>\n",
       "    </tr>\n",
       "    <tr>\n",
       "      <th>3</th>\n",
       "      <td>Diamond-Princess</td>\n",
       "      <td>NaN</td>\n",
       "      <td>699.0</td>\n",
       "      <td>13.0</td>\n",
       "      <td>NaN</td>\n",
       "    </tr>\n",
       "    <tr>\n",
       "      <th>4</th>\n",
       "      <td>Vatican-City</td>\n",
       "      <td>Europe</td>\n",
       "      <td>29.0</td>\n",
       "      <td>NaN</td>\n",
       "      <td>NaN</td>\n",
       "    </tr>\n",
       "    <tr>\n",
       "      <th>5</th>\n",
       "      <td>Western-Sahara</td>\n",
       "      <td>Africa</td>\n",
       "      <td>9.0</td>\n",
       "      <td>1.0</td>\n",
       "      <td>NaN</td>\n",
       "    </tr>\n",
       "    <tr>\n",
       "      <th>6</th>\n",
       "      <td>MS-Zaandam</td>\n",
       "      <td>NaN</td>\n",
       "      <td>7.0</td>\n",
       "      <td>2.0</td>\n",
       "      <td>NaN</td>\n",
       "    </tr>\n",
       "    <tr>\n",
       "      <th>7</th>\n",
       "      <td>China</td>\n",
       "      <td>Asia</td>\n",
       "      <td>379053.0</td>\n",
       "      <td>5272.0</td>\n",
       "      <td>160000000.0</td>\n",
       "    </tr>\n",
       "    <tr>\n",
       "      <th>8</th>\n",
       "      <td>Tokelau</td>\n",
       "      <td>Oceania</td>\n",
       "      <td>NaN</td>\n",
       "      <td>NaN</td>\n",
       "      <td>NaN</td>\n",
       "    </tr>\n",
       "    <tr>\n",
       "      <th>9</th>\n",
       "      <td>Saint-Pierre-Miquelon</td>\n",
       "      <td>North-America</td>\n",
       "      <td>2449.0</td>\n",
       "      <td>2.0</td>\n",
       "      <td>25400.0</td>\n",
       "    </tr>\n",
       "  </tbody>\n",
       "</table>\n",
       "</div>"
      ],
      "text/plain": [
       "                 country      continent  Recovered  Deaths        Tests\n",
       "0           Saint-Helena         Africa        2.0     NaN          NaN\n",
       "1       Falkland-Islands  South-America     1930.0     NaN       8632.0\n",
       "2             Montserrat  North-America     1376.0     8.0      17762.0\n",
       "3       Diamond-Princess            NaN      699.0    13.0          NaN\n",
       "4           Vatican-City         Europe       29.0     NaN          NaN\n",
       "5         Western-Sahara         Africa        9.0     1.0          NaN\n",
       "6             MS-Zaandam            NaN        7.0     2.0          NaN\n",
       "7                  China           Asia   379053.0  5272.0  160000000.0\n",
       "8                Tokelau        Oceania        NaN     NaN          NaN\n",
       "9  Saint-Pierre-Miquelon  North-America     2449.0     2.0      25400.0"
      ]
     },
     "execution_count": 13,
     "metadata": {},
     "output_type": "execute_result"
    }
   ],
   "source": [
    "data = pd.read_csv(r\"C:\\Users\\91988\\Downloads\\data scientist\\Akhila.python\\covid_19.csv\", usecols = [\"Deaths\",\"Tests\",\"country\",\"continent\",\"Recovered\"])\n",
    "data.head(10)"
   ]
  },
  {
   "cell_type": "code",
   "execution_count": 34,
   "id": "7d6aece1-3b0d-4660-ae80-cfdbce0af6ef",
   "metadata": {},
   "outputs": [
    {
     "name": "stdout",
     "output_type": "stream",
     "text": [
      "32988287.854460094\n"
     ]
    }
   ],
   "source": [
    "mean_value = data[\"Tests\"].mean()\n",
    "print(mean_value)"
   ]
  },
  {
   "cell_type": "code",
   "execution_count": 35,
   "id": "90f9d197-36f9-4991-96a9-70ebc163997a",
   "metadata": {},
   "outputs": [
    {
     "data": {
      "text/html": [
       "<div>\n",
       "<style scoped>\n",
       "    .dataframe tbody tr th:only-of-type {\n",
       "        vertical-align: middle;\n",
       "    }\n",
       "\n",
       "    .dataframe tbody tr th {\n",
       "        vertical-align: top;\n",
       "    }\n",
       "\n",
       "    .dataframe thead th {\n",
       "        text-align: right;\n",
       "    }\n",
       "</style>\n",
       "<table border=\"1\" class=\"dataframe\">\n",
       "  <thead>\n",
       "    <tr style=\"text-align: right;\">\n",
       "      <th></th>\n",
       "      <th>country</th>\n",
       "      <th>Deaths</th>\n",
       "      <th>Tests</th>\n",
       "    </tr>\n",
       "  </thead>\n",
       "  <tbody>\n",
       "    <tr>\n",
       "      <th>0</th>\n",
       "      <td>Saint-Helena</td>\n",
       "      <td>3.298829e+07</td>\n",
       "      <td>3.298829e+07</td>\n",
       "    </tr>\n",
       "    <tr>\n",
       "      <th>1</th>\n",
       "      <td>Falkland-Islands</td>\n",
       "      <td>3.298829e+07</td>\n",
       "      <td>8.632000e+03</td>\n",
       "    </tr>\n",
       "    <tr>\n",
       "      <th>2</th>\n",
       "      <td>Montserrat</td>\n",
       "      <td>8.000000e+00</td>\n",
       "      <td>1.776200e+04</td>\n",
       "    </tr>\n",
       "    <tr>\n",
       "      <th>3</th>\n",
       "      <td>Diamond-Princess</td>\n",
       "      <td>1.300000e+01</td>\n",
       "      <td>3.298829e+07</td>\n",
       "    </tr>\n",
       "    <tr>\n",
       "      <th>4</th>\n",
       "      <td>Vatican-City</td>\n",
       "      <td>3.298829e+07</td>\n",
       "      <td>3.298829e+07</td>\n",
       "    </tr>\n",
       "    <tr>\n",
       "      <th>5</th>\n",
       "      <td>Western-Sahara</td>\n",
       "      <td>1.000000e+00</td>\n",
       "      <td>3.298829e+07</td>\n",
       "    </tr>\n",
       "    <tr>\n",
       "      <th>6</th>\n",
       "      <td>MS-Zaandam</td>\n",
       "      <td>2.000000e+00</td>\n",
       "      <td>3.298829e+07</td>\n",
       "    </tr>\n",
       "    <tr>\n",
       "      <th>7</th>\n",
       "      <td>China</td>\n",
       "      <td>5.272000e+03</td>\n",
       "      <td>1.600000e+08</td>\n",
       "    </tr>\n",
       "    <tr>\n",
       "      <th>8</th>\n",
       "      <td>Tokelau</td>\n",
       "      <td>3.298829e+07</td>\n",
       "      <td>3.298829e+07</td>\n",
       "    </tr>\n",
       "    <tr>\n",
       "      <th>9</th>\n",
       "      <td>Saint-Pierre-Miquelon</td>\n",
       "      <td>2.000000e+00</td>\n",
       "      <td>2.540000e+04</td>\n",
       "    </tr>\n",
       "  </tbody>\n",
       "</table>\n",
       "</div>"
      ],
      "text/plain": [
       "                 country        Deaths         Tests\n",
       "0           Saint-Helena  3.298829e+07  3.298829e+07\n",
       "1       Falkland-Islands  3.298829e+07  8.632000e+03\n",
       "2             Montserrat  8.000000e+00  1.776200e+04\n",
       "3       Diamond-Princess  1.300000e+01  3.298829e+07\n",
       "4           Vatican-City  3.298829e+07  3.298829e+07\n",
       "5         Western-Sahara  1.000000e+00  3.298829e+07\n",
       "6             MS-Zaandam  2.000000e+00  3.298829e+07\n",
       "7                  China  5.272000e+03  1.600000e+08\n",
       "8                Tokelau  3.298829e+07  3.298829e+07\n",
       "9  Saint-Pierre-Miquelon  2.000000e+00  2.540000e+04"
      ]
     },
     "execution_count": 35,
     "metadata": {},
     "output_type": "execute_result"
    }
   ],
   "source": [
    "data = data.fillna(mean_value)\n",
    "data .head(10)"
   ]
  },
  {
   "cell_type": "code",
   "execution_count": 23,
   "id": "ef66104f-e912-43e6-a41d-0025aee618eb",
   "metadata": {},
   "outputs": [
    {
     "data": {
      "text/plain": [
       "country        0\n",
       "continent      2\n",
       "population     9\n",
       "day            0\n",
       "time           0\n",
       "Cases          0\n",
       "Recovered     48\n",
       "Deaths         5\n",
       "Tests         25\n",
       "dtype: int64"
      ]
     },
     "execution_count": 23,
     "metadata": {},
     "output_type": "execute_result"
    }
   ],
   "source": [
    "data.isnull().sum()"
   ]
  },
  {
   "cell_type": "code",
   "execution_count": 44,
   "id": "7f56949d-d614-4d02-9b60-740092537111",
   "metadata": {},
   "outputs": [
    {
     "data": {
      "text/html": [
       "<div>\n",
       "<style scoped>\n",
       "    .dataframe tbody tr th:only-of-type {\n",
       "        vertical-align: middle;\n",
       "    }\n",
       "\n",
       "    .dataframe tbody tr th {\n",
       "        vertical-align: top;\n",
       "    }\n",
       "\n",
       "    .dataframe thead th {\n",
       "        text-align: right;\n",
       "    }\n",
       "</style>\n",
       "<table border=\"1\" class=\"dataframe\">\n",
       "  <thead>\n",
       "    <tr style=\"text-align: right;\">\n",
       "      <th></th>\n",
       "      <th>continent</th>\n",
       "      <th>Cases</th>\n",
       "      <th>Recovered</th>\n",
       "    </tr>\n",
       "  </thead>\n",
       "  <tbody>\n",
       "    <tr>\n",
       "      <th>228</th>\n",
       "      <td>Europe</td>\n",
       "      <td>24124215</td>\n",
       "      <td>23545818.0</td>\n",
       "    </tr>\n",
       "    <tr>\n",
       "      <th>229</th>\n",
       "      <td>Asia</td>\n",
       "      <td>17232066</td>\n",
       "      <td>NaN</td>\n",
       "    </tr>\n",
       "    <tr>\n",
       "      <th>230</th>\n",
       "      <td>Oceania</td>\n",
       "      <td>11853144</td>\n",
       "      <td>11820014.0</td>\n",
       "    </tr>\n",
       "    <tr>\n",
       "      <th>231</th>\n",
       "      <td>Asia</td>\n",
       "      <td>11625195</td>\n",
       "      <td>10640971.0</td>\n",
       "    </tr>\n",
       "    <tr>\n",
       "      <th>232</th>\n",
       "      <td>Asia</td>\n",
       "      <td>10241523</td>\n",
       "      <td>10222518.0</td>\n",
       "    </tr>\n",
       "    <tr>\n",
       "      <th>233</th>\n",
       "      <td>South-America</td>\n",
       "      <td>10128845</td>\n",
       "      <td>9997258.0</td>\n",
       "    </tr>\n",
       "    <tr>\n",
       "      <th>234</th>\n",
       "      <td>Europe</td>\n",
       "      <td>8635786</td>\n",
       "      <td>8612599.0</td>\n",
       "    </tr>\n",
       "    <tr>\n",
       "      <th>235</th>\n",
       "      <td>North-America</td>\n",
       "      <td>7702809</td>\n",
       "      <td>6899865.0</td>\n",
       "    </tr>\n",
       "    <tr>\n",
       "      <th>236</th>\n",
       "      <td>Asia</td>\n",
       "      <td>7627186</td>\n",
       "      <td>NaN</td>\n",
       "    </tr>\n",
       "    <tr>\n",
       "      <th>237</th>\n",
       "      <td>Asia</td>\n",
       "      <td>6829221</td>\n",
       "      <td>6647104.0</td>\n",
       "    </tr>\n",
       "  </tbody>\n",
       "</table>\n",
       "</div>"
      ],
      "text/plain": [
       "         continent     Cases   Recovered\n",
       "228         Europe  24124215  23545818.0\n",
       "229           Asia  17232066         NaN\n",
       "230        Oceania  11853144  11820014.0\n",
       "231           Asia  11625195  10640971.0\n",
       "232           Asia  10241523  10222518.0\n",
       "233  South-America  10128845   9997258.0\n",
       "234         Europe   8635786   8612599.0\n",
       "235  North-America   7702809   6899865.0\n",
       "236           Asia   7627186         NaN\n",
       "237           Asia   6829221   6647104.0"
      ]
     },
     "execution_count": 44,
     "metadata": {},
     "output_type": "execute_result"
    }
   ],
   "source": [
    "data1 = pd.read_csv(r\"C:\\Users\\91988\\Downloads\\data scientist\\Akhila.python\\covid_19.csv\"), usecols = [\"continent\",\"Cases\",\"Recovered\"])\n",
    "data1.tail(10)"
   ]
  },
  {
   "cell_type": "code",
   "execution_count": 18,
   "id": "6aad65d9-15cd-44f1-9c56-5c95e86c08c9",
   "metadata": {},
   "outputs": [
    {
     "name": "stdout",
     "output_type": "stream",
     "text": [
      "235145.5\n"
     ]
    }
   ],
   "source": [
    "median_value = data[\"Recovered\"].median()\n",
    "\n",
    "print(median_value)"
   ]
  },
  {
   "cell_type": "code",
   "execution_count": null,
   "id": "477094b1-3275-41a1-aa1d-1a7481244b21",
   "metadata": {},
   "outputs": [],
   "source": []
  },
  {
   "cell_type": "code",
   "execution_count": null,
   "id": "280d3cbb-76e4-46b2-ae46-22225015c119",
   "metadata": {},
   "outputs": [],
   "source": []
  }
 ],
 "metadata": {
  "kernelspec": {
   "display_name": "Python 3 (ipykernel)",
   "language": "python",
   "name": "python3"
  },
  "language_info": {
   "codemirror_mode": {
    "name": "ipython",
    "version": 3
   },
   "file_extension": ".py",
   "mimetype": "text/x-python",
   "name": "python",
   "nbconvert_exporter": "python",
   "pygments_lexer": "ipython3",
   "version": "3.11.7"
  }
 },
 "nbformat": 4,
 "nbformat_minor": 5
}
