{
 "cells": [
  {
   "cell_type": "markdown",
   "id": "037406d0-5e9e-44e9-91e7-84b0c37ebd19",
   "metadata": {},
   "source": [
    "# Define python "
   ]
  },
  {
   "cell_type": "markdown",
   "id": "5fd44db1-be5d-4819-9a5e-e1c28ae24c8f",
   "metadata": {},
   "source": [
    "-Python is a simple syntax and similar in the English programming language.\n",
    "-Python is a high level programming language.\n",
    "-Python is simple and easy to learn."
   ]
  },
  {
   "cell_type": "markdown",
   "id": "af414114-e98b-4dca-891d-943f1f74672b",
   "metadata": {},
   "source": [
    "# 2. Five valid variables\n"
   ]
  },
  {
   "cell_type": "markdown",
   "id": "3bce9ccd-888c-475c-8137-230039843db5",
   "metadata": {},
   "source": [
    "A variable can only contain alpha numaric characters, and underscore(A-Z,a-z and _). "
   ]
  },
  {
   "cell_type": "code",
   "execution_count": 1,
   "id": "3bdf91ce-5648-47c6-9bae-00945457e015",
   "metadata": {},
   "outputs": [
    {
     "name": "stdout",
     "output_type": "stream",
     "text": [
      "Akhila\n"
     ]
    }
   ],
   "source": [
    "#valid variable\n",
    "name = \"Akhila\"\n",
    "print(name)"
   ]
  },
  {
   "cell_type": "code",
   "execution_count": 5,
   "id": "98ef9975-83cb-4335-ba60-e7cdb0917254",
   "metadata": {},
   "outputs": [
    {
     "name": "stdout",
     "output_type": "stream",
     "text": [
      "21\n"
     ]
    }
   ],
   "source": [
    "Age = 21\n",
    "print(Age)"
   ]
  },
  {
   "cell_type": "code",
   "execution_count": 6,
   "id": "cf41a443-06b3-4f4c-b262-b1dcb17aabd2",
   "metadata": {},
   "outputs": [
    {
     "name": "stdout",
     "output_type": "stream",
     "text": [
      "anitha\n"
     ]
    }
   ],
   "source": [
    "mother_name = \"anitha\"\n",
    "print(mother_name)"
   ]
  },
  {
   "cell_type": "code",
   "execution_count": 7,
   "id": "1d0f6046-cddc-424b-9ead-9b668cf9554f",
   "metadata": {},
   "outputs": [
    {
     "name": "stdout",
     "output_type": "stream",
     "text": [
      "apple\n"
     ]
    }
   ],
   "source": [
    "fruit_name = \"apple\"\n",
    "print(fruit_name)"
   ]
  },
  {
   "cell_type": "code",
   "execution_count": 8,
   "id": "b70483ad-53f0-42dc-86d8-8740d095df5e",
   "metadata": {},
   "outputs": [
    {
     "name": "stdout",
     "output_type": "stream",
     "text": [
      "506132\n"
     ]
    }
   ],
   "source": [
    "Narsampet_pin = 506132\n",
    "print(Narsampet_pin)"
   ]
  },
  {
   "cell_type": "markdown",
   "id": "0f56ec3e-7608-4b85-918b-52fb0bba4a75",
   "metadata": {},
   "source": [
    "# invalid variables"
   ]
  },
  {
   "cell_type": "markdown",
   "id": "473ace19-c826-45a1-998c-cebca252f246",
   "metadata": {},
   "source": [
    "A variables does not start with numbers and specific characters($,@,%)"
   ]
  },
  {
   "cell_type": "code",
   "execution_count": 11,
   "id": "027b49e1-ad50-4474-a88f-012aac79543a",
   "metadata": {},
   "outputs": [
    {
     "ename": "SyntaxError",
     "evalue": "invalid syntax (1264769324.py, line 3)",
     "output_type": "error",
     "traceback": [
      "\u001b[1;36m  Cell \u001b[1;32mIn[11], line 3\u001b[1;36m\u001b[0m\n\u001b[1;33m    print(!name)\u001b[0m\n\u001b[1;37m          ^\u001b[0m\n\u001b[1;31mSyntaxError\u001b[0m\u001b[1;31m:\u001b[0m invalid syntax\n"
     ]
    }
   ],
   "source": [
    "# invalid variables\n",
    "!name = \"Akhil\"\n",
    "print(!name)"
   ]
  },
  {
   "cell_type": "code",
   "execution_count": 12,
   "id": "b38527a7-5414-4831-bc58-6820aea66dc1",
   "metadata": {},
   "outputs": [
    {
     "ename": "SyntaxError",
     "evalue": "invalid syntax (2472293384.py, line 1)",
     "output_type": "error",
     "traceback": [
      "\u001b[1;36m  Cell \u001b[1;32mIn[12], line 1\u001b[1;36m\u001b[0m\n\u001b[1;33m    $_Fav animal = \"Dog\"\u001b[0m\n\u001b[1;37m    ^\u001b[0m\n\u001b[1;31mSyntaxError\u001b[0m\u001b[1;31m:\u001b[0m invalid syntax\n"
     ]
    }
   ],
   "source": [
    "$_Fav animal = \"Dog\"\n",
    "print($_Fav animal)"
   ]
  },
  {
   "cell_type": "code",
   "execution_count": 13,
   "id": "8d922e26-367a-4fc4-a316-540f531fb9a8",
   "metadata": {},
   "outputs": [
    {
     "ename": "SyntaxError",
     "evalue": "invalid decimal literal (3483451450.py, line 1)",
     "output_type": "error",
     "traceback": [
      "\u001b[1;36m  Cell \u001b[1;32mIn[13], line 1\u001b[1;36m\u001b[0m\n\u001b[1;33m    21age = \"Akhila\"\u001b[0m\n\u001b[1;37m     ^\u001b[0m\n\u001b[1;31mSyntaxError\u001b[0m\u001b[1;31m:\u001b[0m invalid decimal literal\n"
     ]
    }
   ],
   "source": [
    "21age = \"Akhila\"\n",
    "print(21age)"
   ]
  },
  {
   "cell_type": "code",
   "execution_count": 14,
   "id": "3ecc778b-9c32-42ef-9e14-701ae2aa7e6a",
   "metadata": {},
   "outputs": [
    {
     "ename": "SyntaxError",
     "evalue": "leading zeros in decimal integer literals are not permitted; use an 0o prefix for octal integers (624444332.py, line 1)",
     "output_type": "error",
     "traceback": [
      "\u001b[1;36m  Cell \u001b[1;32mIn[14], line 1\u001b[1;36m\u001b[0m\n\u001b[1;33m    ^Date_of_birth = 30-05-2003\u001b[0m\n\u001b[1;37m                        ^\u001b[0m\n\u001b[1;31mSyntaxError\u001b[0m\u001b[1;31m:\u001b[0m leading zeros in decimal integer literals are not permitted; use an 0o prefix for octal integers\n"
     ]
    }
   ],
   "source": [
    "^Date_of_birth = 30-05-2003\n",
    "print(^Date_of_birth)"
   ]
  },
  {
   "cell_type": "code",
   "execution_count": 15,
   "id": "7dd02a84-9d18-4e33-bb12-902ad5086b4f",
   "metadata": {},
   "outputs": [
    {
     "ename": "SyntaxError",
     "evalue": "invalid syntax (2803481437.py, line 1)",
     "output_type": "error",
     "traceback": [
      "\u001b[1;36m  Cell \u001b[1;32mIn[15], line 1\u001b[1;36m\u001b[0m\n\u001b[1;33m    @passout year = 2023\u001b[0m\n\u001b[1;37m             ^\u001b[0m\n\u001b[1;31mSyntaxError\u001b[0m\u001b[1;31m:\u001b[0m invalid syntax\n"
     ]
    }
   ],
   "source": [
    "@passout year = 2023\n",
    "print(@passout year)"
   ]
  },
  {
   "cell_type": "markdown",
   "id": "949b01e0-2d3c-491e-aec0-6bbc6c9aed43",
   "metadata": {},
   "source": [
    "# Define list"
   ]
  },
  {
   "cell_type": "markdown",
   "id": "8dfd8514-7356-4fd7-b51e-ffcf53ca642b",
   "metadata": {},
   "source": [
    "List is common data type which is used to store different types of data.\n",
    "-List is a mutable and defined by using square brackets, separated by comma.\n"
   ]
  },
  {
   "cell_type": "markdown",
   "id": "ed08eb54-f23b-4dfb-b813-e3f7e45d6823",
   "metadata": {},
   "source": [
    "# Creating list"
   ]
  },
  {
   "cell_type": "code",
   "execution_count": 20,
   "id": "51eff1db-34f1-4474-b05a-2ac79bb2f480",
   "metadata": {},
   "outputs": [
    {
     "name": "stdout",
     "output_type": "stream",
     "text": [
      "Stars\n",
      "MoonSun\n",
      "Sky\n",
      "Thunder\n",
      "Mercury\n",
      "Venus\n",
      "Earth\n",
      "Mars\n",
      "jupiter\n"
     ]
    }
   ],
   "source": [
    "list_planets = [\"Stars\",\"Moon\"\"Sun\",\"Sky\",\"Thunder\",\"Mercury\",\"Venus\",\"Earth\",\"Mars\",\"jupiter\"]\n",
    "#acces item at index 0\n",
    "print(list_planets[0])\n",
    "#acces item at index 1\n",
    "print(list_planets[1])\n",
    "#acces item at index 2\n",
    "print(list_planets[2])\n",
    "print(list_planets[3])\n",
    "print(list_planets[4])\n",
    "print(list_planets[5])\n",
    "print(list_planets[6])\n",
    "print(list_planets[7])\n",
    "print(list_planets[8])\n",
    "\n"
   ]
  },
  {
   "cell_type": "markdown",
   "id": "16126a05-f1e2-4c3c-9cc9-f377e88ee78c",
   "metadata": {},
   "source": [
    "# Create Srings"
   ]
  },
  {
   "cell_type": "markdown",
   "id": "a5aed866-c496-49f5-b41c-787e72a4af05",
   "metadata": {},
   "source": [
    "-String is a sequence of characters.\n",
    "- Strings use double quotes and single quotes.\n",
    "  "
   ]
  },
  {
   "cell_type": "code",
   "execution_count": 29,
   "id": "4e901df0-6b47-4637-80a6-74a937cb9832",
   "metadata": {},
   "outputs": [
    {
     "name": "stdout",
     "output_type": "stream",
     "text": [
      "My fav colour is Blue\n"
     ]
    }
   ],
   "source": [
    "str_colour = \"My fav colour is Blue\"\n",
    "print(str_colour)"
   ]
  },
  {
   "cell_type": "markdown",
   "id": "6d4be94d-578b-4818-b204-5eec63c8185e",
   "metadata": {},
   "source": [
    "# Create tuple"
   ]
  },
  {
   "cell_type": "code",
   "execution_count": 24,
   "id": "165daedc-9b29-4f62-b056-10e851d7b63e",
   "metadata": {},
   "outputs": [
    {
     "name": "stdout",
     "output_type": "stream",
     "text": [
      "('Akhila', 'Akhil', 'harshini')\n"
     ]
    }
   ],
   "source": [
    "tuple_names = (\"Akhila\",\"Akhil\",\"harshini\")\n",
    "print(tuple_names)"
   ]
  },
  {
   "cell_type": "markdown",
   "id": "30419bd9-a0c7-4720-b791-905cceae6a68",
   "metadata": {},
   "source": [
    "# Create Dictionary"
   ]
  },
  {
   "cell_type": "code",
   "execution_count": 25,
   "id": "14159df5-638f-4840-b625-7cf2a9ec6c21",
   "metadata": {},
   "outputs": [
    {
     "name": "stdout",
     "output_type": "stream",
     "text": [
      "{'Books': 26, 'size': 36, 'rows': 5}\n"
     ]
    }
   ],
   "source": [
    "Dic_A = {,\"size\": 36,\"rows\" : 5}\n",
    "print(Dic_A)\n",
    "        \n",
    "        "
   ]
  },
  {
   "cell_type": "markdown",
   "id": "90ca8994-65b6-4027-8dbd-0a1f6b914132",
   "metadata": {},
   "source": [
    "# Access the elements above data types"
   ]
  },
  {
   "cell_type": "code",
   "execution_count": 33,
   "id": "f4705807-7b46-43b4-ab11-af9905bf757e",
   "metadata": {},
   "outputs": [
    {
     "name": "stdout",
     "output_type": "stream",
     "text": [
      "y\n",
      "My\n",
      "M\n"
     ]
    }
   ],
   "source": [
    "print(str_colour[1])\n",
    "print(str_colour[0:2])\n",
    "print(str_colour[0])"
   ]
  },
  {
   "cell_type": "code",
   "execution_count": 34,
   "id": "d88888dc-226f-4c62-8870-ea01fcaa000f",
   "metadata": {},
   "outputs": [
    {
     "name": "stdout",
     "output_type": "stream",
     "text": [
      "Akhila\n",
      "('Akhila', 'Akhil')\n",
      "harshini\n"
     ]
    }
   ],
   "source": [
    "print(tuple_names[0])\n",
    "print(tuple_names[:2])\n",
    "print(tuple_names[2])"
   ]
  },
  {
   "cell_type": "code",
   "execution_count": 36,
   "id": "afa12f97-31ca-479f-9205-d8cadc49f775",
   "metadata": {},
   "outputs": [
    {
     "name": "stdout",
     "output_type": "stream",
     "text": [
      "{'Books': 26, 'size': 36, 'rows': 5}\n"
     ]
    }
   ],
   "source": [
    "print(Dic_A)"
   ]
  },
  {
   "cell_type": "markdown",
   "id": "b564a9b2-8d0c-4281-b5d1-4fe31c32e729",
   "metadata": {},
   "source": [
    "# Apply methods on each data types."
   ]
  },
  {
   "cell_type": "markdown",
   "id": "8f2f276e-4a5f-40dd-a0fc-60ed215522e5",
   "metadata": {},
   "source": [
    "# String methods"
   ]
  },
  {
   "cell_type": "markdown",
   "id": "42457837-4f5d-4403-b74c-155c97633d7c",
   "metadata": {},
   "source": [
    "-upper():Converting a stringto uppercase."
   ]
  },
  {
   "cell_type": "code",
   "execution_count": 38,
   "id": "d3f9da3e-05ac-4830-8958-d2ce820334fe",
   "metadata": {},
   "outputs": [
    {
     "name": "stdout",
     "output_type": "stream",
     "text": [
      "I'M COMPLETED MY GRADUATION\n"
     ]
    }
   ],
   "source": [
    "str = \"I'M completed my graduation\"\n",
    "print(str.upper())"
   ]
  },
  {
   "cell_type": "markdown",
   "id": "a20e0b04-9708-4e2f-817b-48a9defcfec0",
   "metadata": {},
   "source": [
    "-lower(): coverting string to lowercase."
   ]
  },
  {
   "cell_type": "code",
   "execution_count": 39,
   "id": "6bf12f03-1955-421f-a65a-baa2bbaa56e2",
   "metadata": {},
   "outputs": [
    {
     "name": "stdout",
     "output_type": "stream",
     "text": [
      "now i'm pursuing mba\n"
     ]
    }
   ],
   "source": [
    "str1 = \"Now I'M pursuing MBA\"\n",
    "print(str1.lower())"
   ]
  },
  {
   "cell_type": "markdown",
   "id": "ba64d873-e4e1-4d4c-8d19-e04c3b6b81c0",
   "metadata": {},
   "source": [
    "-Strip(): Removing leading and trailing whitespace."
   ]
  },
  {
   "cell_type": "code",
   "execution_count": 41,
   "id": "7ed656ec-b782-4b03-bc1b-66d891fbdeac",
   "metadata": {},
   "outputs": [
    {
     "name": "stdout",
     "output_type": "stream",
     "text": [
      "I'M a student\n"
     ]
    }
   ],
   "source": [
    "str3 = \"I'M a student\"\n",
    "print(str3.strip())"
   ]
  },
  {
   "cell_type": "markdown",
   "id": "74775034-17b7-4f6f-b02b-d3198f126319",
   "metadata": {},
   "source": [
    "-Split(): Splitting into a list.\n"
   ]
  },
  {
   "cell_type": "code",
   "execution_count": 43,
   "id": "116ce746-7c84-4728-b515-4e48b9563e73",
   "metadata": {},
   "outputs": [
    {
     "name": "stdout",
     "output_type": "stream",
     "text": [
      "['mango,apple,', 'cake,', 'fruit,', 'pine', 'apple']\n"
     ]
    }
   ],
   "source": [
    "str5 = \"mango,apple, cake, fruit, pine apple\"\n",
    "print(str5.split())"
   ]
  },
  {
   "cell_type": "markdown",
   "id": "c1c7db18-ad2a-4ac6-9fa0-e652fe6d0e79",
   "metadata": {},
   "source": [
    "Startwith(): Check if it start with specific prefix."
   ]
  },
  {
   "cell_type": "code",
   "execution_count": 45,
   "id": "97c3d5bc-650f-4039-9486-852eac0b96d4",
   "metadata": {},
   "outputs": [
    {
     "name": "stdout",
     "output_type": "stream",
     "text": [
      "True\n"
     ]
    }
   ],
   "source": [
    "strA = \"Kata Akhila\"\n",
    "print(strA.startswith(\"Kata\"))"
   ]
  },
  {
   "cell_type": "markdown",
   "id": "66d04486-7e84-4558-8148-eb553c6b7d16",
   "metadata": {},
   "source": [
    "# Tuple Methods"
   ]
  },
  {
   "cell_type": "markdown",
   "id": "11b40615-fd9a-4dae-b8bb-7bd38d9200d0",
   "metadata": {},
   "source": [
    "-Count(): Return the number of occurrence of a specified values."
   ]
  },
  {
   "cell_type": "code",
   "execution_count": 46,
   "id": "c27d3a62-e30e-49d7-a091-ef91686b2dcd",
   "metadata": {},
   "outputs": [
    {
     "name": "stdout",
     "output_type": "stream",
     "text": [
      "3\n"
     ]
    }
   ],
   "source": [
    "number_1 = (1,2,3,3,4,5,6,7,8,9,3)\n",
    "print(number_1.count(3))"
   ]
  },
  {
   "cell_type": "markdown",
   "id": "fbf05cfe-87f1-45df-8e63-b70d8ddecde0",
   "metadata": {},
   "source": [
    "-max() : Return the maximum values."
   ]
  },
  {
   "cell_type": "code",
   "execution_count": 48,
   "id": "557c7def-f0b4-4759-970c-72829587a440",
   "metadata": {},
   "outputs": [
    {
     "name": "stdout",
     "output_type": "stream",
     "text": [
      "pinky\n"
     ]
    }
   ],
   "source": [
    "names = (\"Rishi\",\"manish\",\"pinky\",\"lucky\")\n",
    "print(max(names))"
   ]
  },
  {
   "cell_type": "markdown",
   "id": "a6dc388d-4fb5-4d36-bc18-bdd7360faf7f",
   "metadata": {},
   "source": [
    "min(): Return the minimum values. "
   ]
  },
  {
   "cell_type": "code",
   "execution_count": 49,
   "id": "41252f3b-c6a2-4657-b8f0-84fb5ad28635",
   "metadata": {},
   "outputs": [
    {
     "name": "stdout",
     "output_type": "stream",
     "text": [
      "PInk\n"
     ]
    }
   ],
   "source": [
    "colour = (\"PInk\",\"Yellow\",\"White\",\"orange\")\n",
    "print(min(colour))"
   ]
  },
  {
   "cell_type": "markdown",
   "id": "0994ee32-6ad5-49e8-b8da-4c5095ae3d2c",
   "metadata": {},
   "source": [
    "len(): Return the number of elements."
   ]
  },
  {
   "cell_type": "code",
   "execution_count": 50,
   "id": "c0da0cf5-6463-46d0-bc71-89d78f930052",
   "metadata": {},
   "outputs": [
    {
     "name": "stdout",
     "output_type": "stream",
     "text": [
      "17\n"
     ]
    }
   ],
   "source": [
    "number = (100,200,300,4000,500,600,400,240,480,255,799,4567,2827,1872,9899,737383,278)\n",
    "print(len(number))"
   ]
  },
  {
   "cell_type": "markdown",
   "id": "14d44136-cc34-497a-a0e8-acae3e98ed21",
   "metadata": {},
   "source": [
    "# Dictionary Methods"
   ]
  },
  {
   "cell_type": "markdown",
   "id": "0068420a-f11f-42a3-80bd-c0d300e99f76",
   "metadata": {},
   "source": [
    "keys()"
   ]
  },
  {
   "cell_type": "code",
   "execution_count": 53,
   "id": "a9afacb3-3597-4c91-b40d-de0e1e8bc3bc",
   "metadata": {},
   "outputs": [],
   "source": [
    "dic_2 ={\"son\":\"Riyansh\",\"age\":2,\"class\":\"none\",\"fav\":\"blue\"}\n"
   ]
  },
  {
   "cell_type": "code",
   "execution_count": 55,
   "id": "a23cac26-8bea-4b8f-87c5-3c72700af585",
   "metadata": {},
   "outputs": [
    {
     "name": "stdout",
     "output_type": "stream",
     "text": [
      "dict_keys(['son', 'age', 'class', 'fav'])\n"
     ]
    }
   ],
   "source": [
    "print(dic_2.keys())"
   ]
  },
  {
   "cell_type": "markdown",
   "id": "4a894d91-9aba-4b71-a249-f180a3cdfe00",
   "metadata": {},
   "source": [
    "values()"
   ]
  },
  {
   "cell_type": "code",
   "execution_count": 57,
   "id": "a10da2b8-1aa4-4e54-9f1b-21236507e717",
   "metadata": {},
   "outputs": [
    {
     "name": "stdout",
     "output_type": "stream",
     "text": [
      "dict_values(['Riyansh', 2, 'none', 'blue'])\n"
     ]
    }
   ],
   "source": [
    "print(dic_2.values())"
   ]
  },
  {
   "cell_type": "code",
   "execution_count": 60,
   "id": "b9045145-15c0-4b1d-a737-753c7acbf397",
   "metadata": {},
   "outputs": [
    {
     "name": "stdout",
     "output_type": "stream",
     "text": [
      "dict_items([('son', 'Riyansh'), ('age', 2), ('class', 'none'), ('fav', 'blue')])\n"
     ]
    }
   ],
   "source": [
    "print(dic_2.items())"
   ]
  },
  {
   "cell_type": "code",
   "execution_count": null,
   "id": "34508928-f31c-4631-99c2-c8d0a2b7ec58",
   "metadata": {},
   "outputs": [],
   "source": []
  }
 ],
 "metadata": {
  "kernelspec": {
   "display_name": "Python 3 (ipykernel)",
   "language": "python",
   "name": "python3"
  },
  "language_info": {
   "codemirror_mode": {
    "name": "ipython",
    "version": 3
   },
   "file_extension": ".py",
   "mimetype": "text/x-python",
   "name": "python",
   "nbconvert_exporter": "python",
   "pygments_lexer": "ipython3",
   "version": "3.11.7"
  }
 },
 "nbformat": 4,
 "nbformat_minor": 5
}
