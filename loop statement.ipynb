{
 "cells": [
  {
   "cell_type": "markdown",
   "id": "221c864d-043f-46ec-9778-f14ff9a1f24d",
   "metadata": {},
   "source": [
    "# Loop Statements"
   ]
  },
  {
   "cell_type": "markdown",
   "id": "142d7b3a-01fe-4bf9-9e7b-573cca367927",
   "metadata": {},
   "source": [
    "In Loop statement, their are two types.\n",
    "1.While loop\n",
    "2.For loop\n"
   ]
  },
  {
   "cell_type": "markdown",
   "id": "a6d357be-cc2c-4523-bed9-20babbfb093c",
   "metadata": {},
   "source": [
    "# While loop:"
   ]
  },
  {
   "cell_type": "markdown",
   "id": "0c8616ac-2012-48a3-9439-796cde12613d",
   "metadata": {},
   "source": [
    "-While loop is used to run a block code until a certain condition is met.\n"
   ]
  },
  {
   "cell_type": "markdown",
   "id": "438e2027-a9f5-4ec3-bcb2-94520c267ccc",
   "metadata": {},
   "source": [
    "-syntax : # body of while loop."
   ]
  },
  {
   "cell_type": "markdown",
   "id": "9271cb00-6dd4-4e44-b9d6-bdf97b3293ef",
   "metadata": {},
   "source": [
    "Example 1"
   ]
  },
  {
   "cell_type": "code",
   "execution_count": 6,
   "id": "c01c5082-1491-4f70-a2bf-4c5f7e6ac686",
   "metadata": {},
   "outputs": [
    {
     "name": "stdout",
     "output_type": "stream",
     "text": [
      "10\n",
      "11\n",
      "12\n",
      "13\n",
      "14\n",
      "15\n",
      "16\n",
      "17\n",
      "18\n",
      "19\n",
      "20\n"
     ]
    }
   ],
   "source": [
    "# initialize the variable\n",
    "x = 10\n",
    "\n",
    "# while loop from x = 11 to 20\n",
    "while x <= 20:\n",
    "    print(x)\n",
    "    x = x + 1 #increment"
   ]
  },
  {
   "cell_type": "markdown",
   "id": "4f5f5da2-4501-45bf-b544-76ac406494ef",
   "metadata": {},
   "source": [
    "Example 2"
   ]
  },
  {
   "cell_type": "code",
   "execution_count": 1,
   "id": "940da080-9c6f-4a96-b70e-b5756fabfdf7",
   "metadata": {},
   "outputs": [
    {
     "name": "stdout",
     "output_type": "stream",
     "text": [
      "100\n",
      "101\n",
      "102\n",
      "103\n",
      "104\n",
      "105\n",
      "106\n",
      "107\n",
      "108\n",
      "109\n",
      "110\n"
     ]
    }
   ],
   "source": [
    "y = 100\n",
    "while y <= 110:\n",
    "    print(y)\n",
    "    y = y + 1\n",
    "   "
   ]
  },
  {
   "cell_type": "markdown",
   "id": "5a5fd75b-df72-4a63-8a69-9a9706cfcd32",
   "metadata": {},
   "source": [
    "example 3"
   ]
  },
  {
   "cell_type": "code",
   "execution_count": 2,
   "id": "2bcafa03-1eda-4876-9424-b2e8192fff34",
   "metadata": {},
   "outputs": [
    {
     "name": "stdout",
     "output_type": "stream",
     "text": [
      "100\n",
      "99\n",
      "98\n",
      "97\n",
      "96\n",
      "95\n",
      "94\n",
      "93\n",
      "92\n",
      "91\n",
      "90\n"
     ]
    }
   ],
   "source": [
    "z = 100\n",
    "while z >= 90:\n",
    "    print(z)\n",
    "    z = z-1\n"
   ]
  },
  {
   "cell_type": "markdown",
   "id": "10ef22f9-cad5-49c2-8c4b-348e722c9bee",
   "metadata": {},
   "source": [
    "example 4"
   ]
  },
  {
   "cell_type": "code",
   "execution_count": 5,
   "id": "186b14a1-c4eb-4269-9c4f-009402694f98",
   "metadata": {},
   "outputs": [
    {
     "name": "stdout",
     "output_type": "stream",
     "text": [
      "20.0\n",
      "20.01\n",
      "20.020000000000003\n",
      "20.030000000000005\n",
      "20.040000000000006\n",
      "20.050000000000008\n",
      "20.06000000000001\n",
      "20.07000000000001\n",
      "20.080000000000013\n",
      "20.090000000000014\n"
     ]
    }
   ],
   "source": [
    "a = 20.0\n",
    "while a <= 20.10:\n",
    "    print(a)\n",
    "    a = a + 0.01"
   ]
  },
  {
   "cell_type": "markdown",
   "id": "c82d7fda-07a1-4494-b2aa-7fd4388361b7",
   "metadata": {},
   "source": [
    "# For loop"
   ]
  },
  {
   "cell_type": "markdown",
   "id": "f9a4fc33-11bf-42de-b971-9e9bf3a97f35",
   "metadata": {},
   "source": [
    "-Python ,For loop is used to iterating over a sequence (tuple,list,dictonary,string, pr range)"
   ]
  },
  {
   "cell_type": "markdown",
   "id": "7ce080e6-6df4-48e3-af6d-09090dc3156c",
   "metadata": {},
   "source": [
    "Syntax : \n",
    "for val in sequence : #statement(s)"
   ]
  },
  {
   "cell_type": "code",
   "execution_count": 4,
   "id": "05924977-6e3b-4429-a7c6-459beb65e545",
   "metadata": {},
   "outputs": [
    {
     "name": "stdout",
     "output_type": "stream",
     "text": [
      "2000\n",
      "2004\n",
      "2008\n",
      "2012\n",
      "2016\n",
      "2020\n",
      "2024\n",
      "2028\n",
      "2032\n",
      "2036\n",
      "2040\n",
      "2044\n",
      "2048\n"
     ]
    }
   ],
   "source": [
    "leap_years = [2000,2004,2008,2012,2016,2020,2024,2028,2032,2036,2040,2044,2048]\n",
    "\n",
    "for leap_year in leap_years:\n",
    "    print(leap_year)"
   ]
  },
  {
   "cell_type": "code",
   "execution_count": 5,
   "id": "e464a738-da4b-425b-a229-380fe5c6eaee",
   "metadata": {},
   "outputs": [
    {
     "name": "stdout",
     "output_type": "stream",
     "text": [
      "a\n",
      "e\n",
      "i\n",
      "o\n",
      "u\n",
      "A\n",
      "E\n",
      "I\n",
      "O\n",
      "U\n"
     ]
    }
   ],
   "source": [
    "vowels =[\"a\",\"e\",\"i\",\"o\",\"u\",\"A\",\"E\",\"I\",\"O\",\"U\"]\n",
    "\n",
    "for vowel_letter in vowels:\n",
    "    print(vowel_letter)"
   ]
  },
  {
   "cell_type": "code",
   "execution_count": 6,
   "id": "f91e7064-d815-44be-928d-95d97b486ac7",
   "metadata": {},
   "outputs": [
    {
     "name": "stdout",
     "output_type": "stream",
     "text": [
      "vegetable spring rolls\n",
      "veg pizza\n",
      "chana musala\n",
      "palak paneer\n",
      "paneer masala\n",
      "chicken wings\n",
      "fish curry\n",
      "chicken loli pops\n",
      "butter masala\n",
      "motton curry\n"
     ]
    }
   ],
   "source": [
    "\n",
    "veg_items = [\"vegetable spring rolls\",\"veg pizza\",\"chana musala\",\"palak paneer\",\"paneer masala\"]\n",
    "nonveg_items = [\"chicken wings\",\"fish curry\",\"chicken loli pops\",\"butter masala\",\"motton curry\"]\n",
    "\n",
    "for veg in veg_items:\n",
    "    print(veg)\n",
    "for non_veg in nonveg_items:\n",
    "    print(non_veg)"
   ]
  },
  {
   "cell_type": "code",
   "execution_count": 17,
   "id": "85fc81c3-3cfb-4048-8afb-0d146ac82791",
   "metadata": {},
   "outputs": [
    {
     "name": "stdout",
     "output_type": "stream",
     "text": [
      "60\n",
      "61\n",
      "62\n",
      "63\n",
      "64\n",
      "65\n",
      "66\n",
      "67\n",
      "68\n",
      "69\n"
     ]
    }
   ],
   "source": [
    "# iterate over a range\n",
    "for square_root in range (30*2,35*2):\n",
    "    print(square_root)"
   ]
  },
  {
   "cell_type": "code",
   "execution_count": 18,
   "id": "d304a9d7-da44-444b-82fe-c5eea247935f",
   "metadata": {},
   "outputs": [
    {
     "name": "stdout",
     "output_type": "stream",
     "text": [
      "25\n",
      "26\n",
      "27\n",
      "28\n",
      "29\n",
      "30\n",
      "31\n",
      "32\n",
      "33\n",
      "34\n",
      "35\n"
     ]
    }
   ],
   "source": [
    "#iterate over a range\n",
    "for squares in range (5*5,6*6):\n",
    "    print(squares)"
   ]
  },
  {
   "cell_type": "code",
   "execution_count": 32,
   "id": "85004732-b0db-42c7-a7e9-0b52ed14c782",
   "metadata": {},
   "outputs": [
    {
     "ename": "AttributeError",
     "evalue": "'dict' object has no attribute 'count'",
     "output_type": "error",
     "traceback": [
      "\u001b[1;31m---------------------------------------------------------------------------\u001b[0m",
      "\u001b[1;31mAttributeError\u001b[0m                            Traceback (most recent call last)",
      "Cell \u001b[1;32mIn[32], line 3\u001b[0m\n\u001b[0;32m      1\u001b[0m \u001b[38;5;66;03m# iterate over a dictionary\u001b[39;00m\n\u001b[0;32m      2\u001b[0m veg_items \u001b[38;5;241m=\u001b[39m {\u001b[38;5;124m\"\u001b[39m\u001b[38;5;124mveg_biryani\u001b[39m\u001b[38;5;124m\"\u001b[39m:\u001b[38;5;241m60\u001b[39m,\u001b[38;5;124m\"\u001b[39m\u001b[38;5;124mpalak paneer\u001b[39m\u001b[38;5;124m\"\u001b[39m:\u001b[38;5;241m50\u001b[39m,\u001b[38;5;124m\"\u001b[39m\u001b[38;5;124mpaneer masala\u001b[39m\u001b[38;5;124m\"\u001b[39m:\u001b[38;5;241m25\u001b[39m,\u001b[38;5;124m\"\u001b[39m\u001b[38;5;124mchapathi\u001b[39m\u001b[38;5;124m\"\u001b[39m:\u001b[38;5;241m2\u001b[39m}\n\u001b[1;32m----> 3\u001b[0m \u001b[38;5;28;01mfor\u001b[39;00m item_count \u001b[38;5;129;01min\u001b[39;00m veg_items\u001b[38;5;241m.\u001b[39mcount :\n\u001b[0;32m      4\u001b[0m     \u001b[38;5;28mprint\u001b[39m(\u001b[38;5;124mf\u001b[39m\u001b[38;5;124m\"\u001b[39m\u001b[38;5;132;01m{\u001b[39;00mitem\u001b[38;5;132;01m}\u001b[39;00m\u001b[38;5;124m'\u001b[39m\u001b[38;5;124ms count is \u001b[39m\u001b[38;5;132;01m{\u001b[39;00mcount\u001b[38;5;132;01m}\u001b[39;00m\u001b[38;5;124m\"\u001b[39m)\n",
      "\u001b[1;31mAttributeError\u001b[0m: 'dict' object has no attribute 'count'"
     ]
    }
   ],
   "source": [
    "# iterate over a dictionary\n",
    "vg_items = {\"veg_biryani\":60,\"palak paneer\":50,\"paneer masala\":25,\"chapathi\":2}\n",
    "for item_count in veg_items.count :\n",
    "    print(f\"{item}'s count is {count}\")\n",
    "   "
   ]
  },
  {
   "cell_type": "code",
   "execution_count": null,
   "id": "8a621950-66e1-46bb-ae29-04b9bf1e8459",
   "metadata": {},
   "outputs": [],
   "source": []
  },
  {
   "cell_type": "code",
   "execution_count": null,
   "id": "8a834300-291b-4fca-9a85-32501f30854b",
   "metadata": {},
   "outputs": [],
   "source": []
  }
 ],
 "metadata": {
  "kernelspec": {
   "display_name": "Python 3 (ipykernel)",
   "language": "python",
   "name": "python3"
  },
  "language_info": {
   "codemirror_mode": {
    "name": "ipython",
    "version": 3
   },
   "file_extension": ".py",
   "mimetype": "text/x-python",
   "name": "python",
   "nbconvert_exporter": "python",
   "pygments_lexer": "ipython3",
   "version": "3.11.7"
  }
 },
 "nbformat": 4,
 "nbformat_minor": 5
}
