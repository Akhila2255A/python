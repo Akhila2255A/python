{
 "cells": [
  {
   "cell_type": "markdown",
   "id": "e9ec5ae9-ac0e-4d18-bc30-524c896bb0ae",
   "metadata": {},
   "source": [
    "# Numpy"
   ]
  },
  {
   "cell_type": "code",
   "execution_count": 2,
   "id": "d52238c9-0c32-4893-b652-1224e22ae21c",
   "metadata": {},
   "outputs": [
    {
     "name": "stdout",
     "output_type": "stream",
     "text": [
      "Requirement already satisfied: numpy in c:\\users\\91988\\anaconda3\\lib\\site-packages (1.26.4)\n"
     ]
    }
   ],
   "source": [
    "!pip install numpy"
   ]
  },
  {
   "cell_type": "code",
   "execution_count": 3,
   "id": "377f9f89-39dd-4405-99a4-382d20b06ab2",
   "metadata": {},
   "outputs": [],
   "source": [
    "import numpy as np"
   ]
  },
  {
   "cell_type": "markdown",
   "id": "e3ecb14b-7a20-4e6a-8c33-8da53bbd54ba",
   "metadata": {},
   "source": [
    "# create numpy"
   ]
  },
  {
   "cell_type": "code",
   "execution_count": 13,
   "id": "82ced696-ad3e-44c0-97f5-ba422ee4be17",
   "metadata": {},
   "outputs": [],
   "source": [
    "# creating numpy\n",
    "a = np.array([1,4,5,99,29])\n",
    "b = np.array([[39,10,29,30],[2,3,88,12]])\n"
   ]
  },
  {
   "cell_type": "code",
   "execution_count": 14,
   "id": "3b90099d-f60f-46b6-b94e-216522edcd45",
   "metadata": {},
   "outputs": [
    {
     "name": "stdout",
     "output_type": "stream",
     "text": [
      "[ 1  4  5 99 29]\n",
      "[[39 10 29 30]\n",
      " [ 2  3 88 12]]\n"
     ]
    }
   ],
   "source": [
    "print(a)\n",
    "print(b)"
   ]
  },
  {
   "cell_type": "markdown",
   "id": "f7e6ecc5-2fe1-42cd-bfad-01b793a90348",
   "metadata": {},
   "source": [
    "# Initial place holders"
   ]
  },
  {
   "cell_type": "code",
   "execution_count": 78,
   "id": "ead72f00-2084-4545-8444-acce20a52319",
   "metadata": {},
   "outputs": [],
   "source": [
    "import numpy as np"
   ]
  },
  {
   "cell_type": "code",
   "execution_count": 29,
   "id": "d1d8c8d0-284b-4be2-9712-a6aa58055adc",
   "metadata": {},
   "outputs": [
    {
     "data": {
      "text/plain": [
       "array([[0., 0., 0., 0.],\n",
       "       [0., 0., 0., 0.],\n",
       "       [0., 0., 0., 0.],\n",
       "       [0., 0., 0., 0.],\n",
       "       [0., 0., 0., 0.]])"
      ]
     },
     "execution_count": 29,
     "metadata": {},
     "output_type": "execute_result"
    }
   ],
   "source": [
    "#create an array with zero's\n",
    "np.zeros([5,4])\n"
   ]
  },
  {
   "cell_type": "code",
   "execution_count": 31,
   "id": "b1ea1f0d-8f2f-4207-9777-7c306ace1deb",
   "metadata": {},
   "outputs": [
    {
     "data": {
      "text/plain": [
       "array([[[1., 1., 1., 1., 1.],\n",
       "        [1., 1., 1., 1., 1.]],\n",
       "\n",
       "       [[1., 1., 1., 1., 1.],\n",
       "        [1., 1., 1., 1., 1.]],\n",
       "\n",
       "       [[1., 1., 1., 1., 1.],\n",
       "        [1., 1., 1., 1., 1.]],\n",
       "\n",
       "       [[1., 1., 1., 1., 1.],\n",
       "        [1., 1., 1., 1., 1.]]])"
      ]
     },
     "execution_count": 31,
     "metadata": {},
     "output_type": "execute_result"
    }
   ],
   "source": [
    "#create an array with one's\n",
    "np.ones([4,2,5])"
   ]
  },
  {
   "cell_type": "markdown",
   "id": "528595d8-09de-4e37-b762-1a8d9d366686",
   "metadata": {},
   "source": [
    "# create an array of evenly space values"
   ]
  },
  {
   "cell_type": "code",
   "execution_count": 43,
   "id": "8fc13dff-05b8-4698-831e-2a1fc3c484ae",
   "metadata": {},
   "outputs": [
    {
     "name": "stdout",
     "output_type": "stream",
     "text": [
      "[100 106 112 118 124 130 136 142 148]\n"
     ]
    }
   ],
   "source": [
    "d = np.arange(100,150,6)\n",
    "print(d)"
   ]
  },
  {
   "cell_type": "code",
   "execution_count": 45,
   "id": "c1a4c27e-a4aa-4517-a2fd-07b545690b5c",
   "metadata": {},
   "outputs": [
    {
     "name": "stdout",
     "output_type": "stream",
     "text": [
      "[10.2 10.4 10.6 10.8 11.  11.2 11.4 11.6 11.8 12.  12.2 12.4 12.6 12.8\n",
      " 13.  13.2 13.4 13.6 13.8 14.  14.2 14.4 14.6 14.8 15. ]\n"
     ]
    }
   ],
   "source": [
    "x = np.arange(10.2,15.2,0.2)\n",
    "print(x)"
   ]
  },
  {
   "cell_type": "markdown",
   "id": "487106a5-a70e-4d96-a78c-9380c6a3be78",
   "metadata": {},
   "source": [
    "# create an array of evenly spaced values(sample values)"
   ]
  },
  {
   "cell_type": "code",
   "execution_count": 48,
   "id": "c15b0323-94ee-4b31-adda-3024ac4eb715",
   "metadata": {},
   "outputs": [
    {
     "data": {
      "text/plain": [
       "array([10.        , 10.71428571, 11.42857143, 12.14285714, 12.85714286,\n",
       "       13.57142857, 14.28571429, 15.        , 15.71428571, 16.42857143,\n",
       "       17.14285714, 17.85714286, 18.57142857, 19.28571429, 20.        ])"
      ]
     },
     "execution_count": 48,
     "metadata": {},
     "output_type": "execute_result"
    }
   ],
   "source": [
    "np.linspace(10,20,15)\n"
   ]
  },
  {
   "cell_type": "code",
   "execution_count": null,
   "id": "58e51fe4-897f-4668-9455-efdf5e0fed05",
   "metadata": {},
   "outputs": [],
   "source": []
  },
  {
   "cell_type": "markdown",
   "id": "e4612bf6-221e-44da-b93e-b43c43f52629",
   "metadata": {},
   "source": [
    "# create an constant array"
   ]
  },
  {
   "cell_type": "code",
   "execution_count": 60,
   "id": "54955d5f-1b47-4c8c-8e0f-766b88a2bfc3",
   "metadata": {},
   "outputs": [
    {
     "name": "stdout",
     "output_type": "stream",
     "text": [
      "[[[95 95 95]\n",
      "  [95 95 95]\n",
      "  [95 95 95]\n",
      "  [95 95 95]]\n",
      "\n",
      " [[95 95 95]\n",
      "  [95 95 95]\n",
      "  [95 95 95]\n",
      "  [95 95 95]]]\n"
     ]
    }
   ],
   "source": [
    "#create an 3D array\n",
    "xyz = np.full((2,4,3), 95)\n",
    "print(xyz)"
   ]
  },
  {
   "cell_type": "code",
   "execution_count": 62,
   "id": "731d30c8-8480-4a83-aedf-e69706d4780f",
   "metadata": {},
   "outputs": [
    {
     "name": "stdout",
     "output_type": "stream",
     "text": [
      "[[20 20 20]\n",
      " [20 20 20]\n",
      " [20 20 20]\n",
      " [20 20 20]\n",
      " [20 20 20]]\n"
     ]
    }
   ],
   "source": [
    "#create an 2Darray\n",
    "n=22\n",
    "xyz = np.full((5,3),n-2)\n",
    "print(xyz)"
   ]
  },
  {
   "cell_type": "code",
   "execution_count": 61,
   "id": "dc85d255-eecf-4f3a-b9f6-f94cf4ae6eed",
   "metadata": {},
   "outputs": [
    {
     "name": "stdout",
     "output_type": "stream",
     "text": [
      "[18 18 18 18 18 18 18]\n"
     ]
    }
   ],
   "source": [
    "#create an 1D array\n",
    "xyz = np.full((7),9*2)\n",
    "print(xyz)"
   ]
  },
  {
   "cell_type": "code",
   "execution_count": null,
   "id": "2ce4417e-c1d1-4392-8b15-e8ce6a53906a",
   "metadata": {},
   "outputs": [],
   "source": []
  },
  {
   "cell_type": "markdown",
   "id": "8b74f96a-90a8-4ebb-bd88-2efc7429d1f4",
   "metadata": {},
   "source": [
    "# create an identify matrix "
   ]
  },
  {
   "cell_type": "code",
   "execution_count": 64,
   "id": "4ca936d2-60ed-4883-8538-6d3005f8b4f3",
   "metadata": {},
   "outputs": [
    {
     "name": "stdout",
     "output_type": "stream",
     "text": [
      "[[1. 0. 0. 0.]\n",
      " [0. 1. 0. 0.]\n",
      " [0. 0. 1. 0.]\n",
      " [0. 0. 0. 1.]]\n"
     ]
    }
   ],
   "source": [
    "x = np.eye(2*2)\n",
    "print(x)"
   ]
  },
  {
   "cell_type": "code",
   "execution_count": null,
   "id": "2570c755-fa21-44d4-94f3-647bbaa7c658",
   "metadata": {},
   "outputs": [],
   "source": []
  },
  {
   "cell_type": "code",
   "execution_count": 71,
   "id": "9fdd5f03-915d-4220-b1d0-585375894fb3",
   "metadata": {},
   "outputs": [
    {
     "data": {
      "text/plain": [
       "array([[0.80428052, 0.94655455, 0.11297335, 0.29984544, 0.68326462,\n",
       "        0.64845257],\n",
       "       [0.08503953, 0.11007941, 0.29582582, 0.63325008, 0.26893816,\n",
       "        0.14309402],\n",
       "       [0.90151604, 0.14529815, 0.92925125, 0.70279089, 0.81204686,\n",
       "        0.45114747]])"
      ]
     },
     "execution_count": 71,
     "metadata": {},
     "output_type": "execute_result"
    }
   ],
   "source": [
    "# create an array with randam values\n",
    "np.random.random((3,6))"
   ]
  },
  {
   "cell_type": "code",
   "execution_count": null,
   "id": "7979b287-fd1e-492e-be88-dad195efb7bb",
   "metadata": {},
   "outputs": [],
   "source": []
  },
  {
   "cell_type": "code",
   "execution_count": 75,
   "id": "9262205e-a0b2-441f-9127-d5a5e6c8bd4e",
   "metadata": {},
   "outputs": [
    {
     "name": "stdout",
     "output_type": "stream",
     "text": [
      "(3, 4)\n"
     ]
    }
   ],
   "source": [
    "#To find shape of array\n",
    "xyz = np.array([[2,3,4,5],\n",
    "               [4,5,7,9],\n",
    "               [2,3,4,5]])\n",
    "print(xyz.shape)"
   ]
  },
  {
   "cell_type": "code",
   "execution_count": 77,
   "id": "0c27e066-b009-4fef-908a-53e4f2ac3e88",
   "metadata": {},
   "outputs": [
    {
     "data": {
      "text/plain": [
       "6"
      ]
     },
     "execution_count": 77,
     "metadata": {},
     "output_type": "execute_result"
    }
   ],
   "source": [
    "#To find len array\n",
    "x = np.array([[2,3,2,3],\n",
    "              [2,5,6,4],\n",
    "              [9,2,5,8],\n",
    "              [2,8,1,3],\n",
    "              [8,9,2,1],\n",
    "              [9,1,3,8]])\n",
    "len(x)"
   ]
  },
  {
   "cell_type": "code",
   "execution_count": null,
   "id": "8ff2df21-1283-423a-ab1e-6a46d0381f91",
   "metadata": {},
   "outputs": [],
   "source": []
  },
  {
   "cell_type": "markdown",
   "id": "77b4b2fb-e906-4a8a-b79b-fe45d8352d8c",
   "metadata": {},
   "source": [
    "# Accessing Element from the array."
   ]
  },
  {
   "cell_type": "code",
   "execution_count": 79,
   "id": "a67e73e8-4fb8-4191-bb76-3fdbf4832c97",
   "metadata": {},
   "outputs": [
    {
     "name": "stdout",
     "output_type": "stream",
     "text": [
      "33\n",
      "28\n",
      "39\n",
      "39\n",
      "1\n"
     ]
    }
   ],
   "source": [
    "numb = np.array([1,3,77,28,39,10,33,11,39,108])\n",
    "print(numb[6])\n",
    "print(numb[3])\n",
    "print(numb[-2])\n",
    "print(numb[-6])\n",
    "print(numb[0])"
   ]
  },
  {
   "cell_type": "code",
   "execution_count": 84,
   "id": "702ba9ef-0658-4c97-a0bb-c4a423353761",
   "metadata": {},
   "outputs": [
    {
     "name": "stdout",
     "output_type": "stream",
     "text": [
      "Sunny\n",
      "Akhil\n",
      "['Akhil' 'manish' 'shirisha']\n"
     ]
    }
   ],
   "source": [
    "name = np.array(['Akhil','manish','shirisha','Sunny','bunny'])\n",
    "print(name[3])\n",
    "print(name[-5])\n",
    "print(name[ :3])"
   ]
  },
  {
   "cell_type": "code",
   "execution_count": 87,
   "id": "47c7c77d-5307-4298-aa58-0c9eee5886b5",
   "metadata": {},
   "outputs": [
    {
     "name": "stdout",
     "output_type": "stream",
     "text": [
      "46\n",
      "90\n",
      "-4\n"
     ]
    }
   ],
   "source": [
    "#addition two index position\n",
    "\n",
    "xyz = np.array([2,11,18,29,3,5,8,12,21,10])\n",
    "print(xyz[3]+xyz[4]+xyz[0]+xyz[-3])\n",
    "print(xyz[2]*xyz[5])\n",
    "print(xyz[6]-xyz[-3])"
   ]
  },
  {
   "cell_type": "code",
   "execution_count": null,
   "id": "d8305114-83f8-4349-8bc4-eb17d781456c",
   "metadata": {},
   "outputs": [],
   "source": []
  },
  {
   "cell_type": "markdown",
   "id": "0a2d2cd9-1cb3-4913-949d-503149379f44",
   "metadata": {},
   "source": [
    "# Access the 2D array."
   ]
  },
  {
   "cell_type": "code",
   "execution_count": 89,
   "id": "a4d24a6d-c64c-45c1-85fb-6aa3918e5e8a",
   "metadata": {},
   "outputs": [
    {
     "name": "stdout",
     "output_type": "stream",
     "text": [
      "5th element on 3 row : 23\n"
     ]
    }
   ],
   "source": [
    "num = np.array([[9,2,12,27,28,19],\n",
    "                [3,4,5,6,9,98],\n",
    "                [9,8,71,12,3,1],\n",
    "                [29,39,12,32,12,23]])\n",
    "print(\"5th element on 3 row :\",num[3,5])"
   ]
  },
  {
   "cell_type": "code",
   "execution_count": 90,
   "id": "114231b9-618d-4fe0-8113-09ae976ba5a7",
   "metadata": {},
   "outputs": [
    {
     "name": "stdout",
     "output_type": "stream",
     "text": [
      "-2nd element on 0 row : 28\n"
     ]
    }
   ],
   "source": [
    "print(\"-2nd element on 0 row :\",num[0,-2])"
   ]
  },
  {
   "cell_type": "code",
   "execution_count": 2,
   "id": "b0d7e4c9-5df2-4ca4-a2ec-2659a5b6506a",
   "metadata": {},
   "outputs": [],
   "source": [
    "import numpy as np"
   ]
  },
  {
   "cell_type": "markdown",
   "id": "785615d4-6485-4f3a-bd49-e3c23f99843f",
   "metadata": {},
   "source": [
    "# Access the 3D array."
   ]
  },
  {
   "cell_type": "code",
   "execution_count": 8,
   "id": "d28597e2-76b2-4561-8de8-425e9858c082",
   "metadata": {},
   "outputs": [
    {
     "name": "stdout",
     "output_type": "stream",
     "text": [
      "53\n",
      "2\n"
     ]
    }
   ],
   "source": [
    "y = np.array([[[3,4,7,7,2], [3,8,23,11,9]],\n",
    "               [[2,8,9,12,21], [22,11,33,44,55]],\n",
    "               [[3,34,21,3,1], [33,23,43,53,63]],\n",
    "               [[22,88,91,21,4], [21,32,41,51,61]],\n",
    "               [[32,44,55,34,99], [90,80,70,60,50]]])\n",
    "print(y[2,1,3])\n",
    "print(y[0,0,-1])"
   ]
  },
  {
   "cell_type": "code",
   "execution_count": null,
   "id": "95b07d49-2e81-416d-9d7a-d407f1fd2b24",
   "metadata": {},
   "outputs": [],
   "source": []
  }
 ],
 "metadata": {
  "kernelspec": {
   "display_name": "Python 3 (ipykernel)",
   "language": "python",
   "name": "python3"
  },
  "language_info": {
   "codemirror_mode": {
    "name": "ipython",
    "version": 3
   },
   "file_extension": ".py",
   "mimetype": "text/x-python",
   "name": "python",
   "nbconvert_exporter": "python",
   "pygments_lexer": "ipython3",
   "version": "3.11.7"
  }
 },
 "nbformat": 4,
 "nbformat_minor": 5
}
