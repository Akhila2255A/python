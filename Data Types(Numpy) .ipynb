{
 "cells": [
  {
   "cell_type": "markdown",
   "id": "9416b60a-cc78-41fa-9b10-35feec3eb9a4",
   "metadata": {},
   "source": [
    "# Data types in Numpy"
   ]
  },
  {
   "cell_type": "code",
   "execution_count": null,
   "id": "bf8a232d-0679-4352-ae19-ea1d4fb56469",
   "metadata": {},
   "outputs": [],
   "source": [
    "i - integer\n",
    "b-boolean\n",
    "u -unsigned integer\n",
    "f-float\n",
    "c-complex float\n",
    "M- datetime\n",
    "O- object\n",
    "S-strings"
   ]
  },
  {
   "cell_type": "markdown",
   "id": "eec6ade6-fa54-483d-9906-d7fc75cedc8b",
   "metadata": {},
   "source": [
    "# Examples"
   ]
  },
  {
   "cell_type": "code",
   "execution_count": 1,
   "id": "d4800eaa-8ab9-4e45-af1b-c07ce5fe817e",
   "metadata": {},
   "outputs": [],
   "source": [
    "import numpy as np"
   ]
  },
  {
   "cell_type": "code",
   "execution_count": 2,
   "id": "3627db99-e8d4-41b8-8c98-a0e4ccb36b91",
   "metadata": {},
   "outputs": [
    {
     "name": "stdout",
     "output_type": "stream",
     "text": [
      "[20 30 40 50 60]\n",
      "int32\n"
     ]
    }
   ],
   "source": [
    "#integer\n",
    "num = np.array([20,30,40,50,60])\n",
    "print(num)\n",
    "print(num.dtype)"
   ]
  },
  {
   "cell_type": "code",
   "execution_count": 7,
   "id": "2b82c3cc-072d-4325-b596-36b0be5cdb13",
   "metadata": {},
   "outputs": [
    {
     "name": "stdout",
     "output_type": "stream",
     "text": [
      "[ True False  True False  True  True]\n",
      "bool\n"
     ]
    }
   ],
   "source": [
    "#convert data type from integer to boolean\n",
    "xyz = np.array([200,0,380,000,300,989])\n",
    "newarray = xyz.astype(bool)\n",
    "print(newarray)\n",
    "print(newarray.dtype)"
   ]
  },
  {
   "cell_type": "code",
   "execution_count": 4,
   "id": "73f73a51-3f4f-4aea-97d9-de4232c90cb7",
   "metadata": {},
   "outputs": [
    {
     "name": "stdout",
     "output_type": "stream",
     "text": [
      "[ True  True  True  True  True False]\n",
      "bool\n"
     ]
    }
   ],
   "source": [
    "x = np.array([1,22,38,91,39,0])\n",
    "y = x.astype(bool)\n",
    "print(y)\n",
    "print(y.dtype)"
   ]
  },
  {
   "cell_type": "code",
   "execution_count": 11,
   "id": "fabf3987-57d7-409a-a9e2-11781320bae2",
   "metadata": {},
   "outputs": [
    {
     "name": "stdout",
     "output_type": "stream",
     "text": [
      "[1.2  3.9  2.88 1.9  5.  ]\n",
      "float64\n"
     ]
    }
   ],
   "source": [
    "#float\n",
    "xyz = np.array([1.2,3.9,2.88,1.9,5.0])\n",
    "print(xyz)\n",
    "print(xyz.dtype)"
   ]
  },
  {
   "cell_type": "code",
   "execution_count": 19,
   "id": "816ca2d4-fe58-4eb7-8373-e726d0e73542",
   "metadata": {},
   "outputs": [
    {
     "name": "stdout",
     "output_type": "stream",
     "text": [
      "['fan' 'tv' 'Ac' 'washing machine' 'car' ' music box']\n",
      "['fan' 'tv' 'Ac' 'washing machine' 'bike' ' music box']\n"
     ]
    }
   ],
   "source": [
    "#copy method\n",
    "electrics = np.array([\"fan\",\"tv\",\"Ac\",\"washing machine\",\"car\",\" music box\"])\n",
    "tools = electrics.copy()\n",
    "print(tools)\n",
    "electrics[-2] = \"bike\"\n",
    "print(electrics)"
   ]
  },
  {
   "cell_type": "code",
   "execution_count": 22,
   "id": "e3204544-36d1-43b3-9269-46b1f3690171",
   "metadata": {},
   "outputs": [
    {
     "name": "stdout",
     "output_type": "stream",
     "text": [
      "['python' 'c++' 'full st' 'java' 'meshine' 'HTML']\n",
      "['python' 'c++' 'full st' 'java' 'meshine' 'HTML']\n"
     ]
    }
   ],
   "source": [
    "#view method\n",
    "languages = np.array([\"python\",\"c++\",\"c\",\"java\",\"meshine\",\"HTML\"])\n",
    "imp = languages.view()\n",
    "languages[2] = \"full stack\"\n",
    "print(imp)\n",
    "print(languages)"
   ]
  },
  {
   "cell_type": "code",
   "execution_count": 24,
   "id": "b99e91f0-32f3-468e-9d9f-f0f63f01c3d2",
   "metadata": {},
   "outputs": [
    {
     "name": "stdout",
     "output_type": "stream",
     "text": [
      "[1 3 5 2]\n",
      "int32\n"
     ]
    }
   ],
   "source": [
    "# convert float to integer by using [i] parameter\n",
    "xyz = np.array([1.0,3.4,5.3,2.9])\n",
    "newarray = xyz.astype('i')\n",
    "print(newarray)\n",
    "print(newarray.dtype)"
   ]
  },
  {
   "cell_type": "code",
   "execution_count": null,
   "id": "8e3f7b22-4644-4f72-a2f8-492493e93f75",
   "metadata": {},
   "outputs": [],
   "source": []
  },
  {
   "cell_type": "markdown",
   "id": "858acb14-e9bf-4431-be60-12e5a136c3d8",
   "metadata": {},
   "source": [
    "# Reshaping Arrays"
   ]
  },
  {
   "cell_type": "markdown",
   "id": "89317ed9-4793-473d-9bd0-0aea7ada4e1a",
   "metadata": {},
   "source": [
    "-Changing the shape of an array.\n"
   ]
  },
  {
   "cell_type": "code",
   "execution_count": 29,
   "id": "86e49b23-4712-449e-b15b-aeca52b699c8",
   "metadata": {},
   "outputs": [],
   "source": [
    "#coverting the 1-D array into 2-D array with 20 elements."
   ]
  },
  {
   "cell_type": "code",
   "execution_count": 28,
   "id": "21e8b661-1d1f-42a3-bdfe-414e1155a4ca",
   "metadata": {},
   "outputs": [
    {
     "name": "stdout",
     "output_type": "stream",
     "text": [
      "20\n",
      "[[ 2  4  6  8]\n",
      " [10 12 14 16]\n",
      " [18 20 22 24]\n",
      " [26 28 30 32]\n",
      " [34 36 38 40]]\n"
     ]
    }
   ],
   "source": [
    "even_num = np.array([2,4,6,8,10,12,14,16,18,20,22,24,26,28,30,32,34,36,38,40])\n",
    "print(even_num.size)\n",
    "newarr = even_num.reshape(5,4)\n",
    "print(newarr)"
   ]
  },
  {
   "cell_type": "code",
   "execution_count": 30,
   "id": "ad3916b1-fedb-441e-8103-d05e86fa497f",
   "metadata": {},
   "outputs": [],
   "source": [
    "#converting the 1_D array to 3-D array with 20 elements"
   ]
  },
  {
   "cell_type": "code",
   "execution_count": 38,
   "id": "19e5347b-2f93-4960-81ca-a421c0c8ffb0",
   "metadata": {},
   "outputs": [
    {
     "name": "stdout",
     "output_type": "stream",
     "text": [
      "20\n",
      "[[[ 1  3]\n",
      "  [ 7  9]\n",
      "  [11 13]\n",
      "  [15 17]\n",
      "  [19 21]]\n",
      "\n",
      " [[23 25]\n",
      "  [27 29]\n",
      "  [31 33]\n",
      "  [35 37]\n",
      "  [39 41]]]\n"
     ]
    }
   ],
   "source": [
    "odd_num =np.array([1,3,7,9,11,13,15,17,19,21,23,25,27,29,31,33,35,37,39,41])\n",
    "print(odd_num.size)\n",
    "newarr = odd_num.reshape(2,5,2)\n",
    "print(newarr)"
   ]
  },
  {
   "cell_type": "code",
   "execution_count": null,
   "id": "fe54613d-71d4-44b5-8693-0264edaf9f8e",
   "metadata": {},
   "outputs": [],
   "source": []
  },
  {
   "cell_type": "markdown",
   "id": "b109bdd9-b857-443c-b0fb-255b3235c109",
   "metadata": {},
   "source": [
    "# By using Arthimatic operations"
   ]
  },
  {
   "cell_type": "code",
   "execution_count": 41,
   "id": "2d932ad7-00eb-4a28-aa16-1426a7cc4640",
   "metadata": {},
   "outputs": [
    {
     "name": "stdout",
     "output_type": "stream",
     "text": [
      "[[37. 51. 50.]\n",
      " [30. 38.  4.]\n",
      " [38. 52. 21.]]\n"
     ]
    }
   ],
   "source": [
    "x = np.array([[15,18,39],\n",
    "             [21,30,2],\n",
    "             [22,33,11]],dtype=np.float32)\n",
    "y = np.array([[22,33,11],\n",
    "             [9,8,2],\n",
    "             [16,19,10]],dtype = np.float32)\n",
    "print(x+y)"
   ]
  },
  {
   "cell_type": "code",
   "execution_count": 44,
   "id": "3d7ccdd8-8061-4dd3-b316-3cc18b254ba3",
   "metadata": {},
   "outputs": [
    {
     "name": "stdout",
     "output_type": "stream",
     "text": [
      "[[ -7. -15.  28.]\n",
      " [ 12.  22.   0.]\n",
      " [  6.  14.   1.]]\n",
      "[[330. 594. 429.]\n",
      " [189. 240.   4.]\n",
      " [352. 627. 110.]]\n",
      "[[0.6818182  0.54545456 3.5454545 ]\n",
      " [2.3333333  3.75       1.        ]\n",
      " [1.375      1.7368422  1.1       ]]\n",
      "[[15. 18.  6.]\n",
      " [ 3.  6.  0.]\n",
      " [ 6. 14.  1.]]\n"
     ]
    }
   ],
   "source": [
    "print(x-y)\n",
    "print(x*y)\n",
    "print(x/y)\n",
    "print(x%y)"
   ]
  },
  {
   "cell_type": "code",
   "execution_count": null,
   "id": "65a91164-0ebe-480e-aae8-919a4a0c3e19",
   "metadata": {},
   "outputs": [],
   "source": []
  },
  {
   "cell_type": "code",
   "execution_count": 46,
   "id": "46f7fa07-a3a6-444b-9926-7470cd633ae6",
   "metadata": {},
   "outputs": [
    {
     "name": "stdout",
     "output_type": "stream",
     "text": [
      "[[[ 3 16  4 25]\n",
      "  [ 4 11 27 21]]\n",
      "\n",
      " [[22 27 35 13]\n",
      "  [30 45 29 11]]\n",
      "\n",
      " [[23 23 44 14]\n",
      "  [15 25  9 14]]]\n"
     ]
    }
   ],
   "source": [
    "A = np.array([[[1,8,3,16],[2,4,18,10]],\n",
    "              [[3,9,18,11],[13,16,18,1]],\n",
    "              [[22,21,41,10],[10,19,2,6]]])\n",
    "B = np.array([[[2,8,1,9],[2,7,9,11]],\n",
    "              [[19,18,17,2],[17,29,11,10]],\n",
    "              [[1,2,3,4],[5,6,7,8]]])\n",
    "print(A+B)"
   ]
  },
  {
   "cell_type": "code",
   "execution_count": 47,
   "id": "ed641a3a-8860-4428-9456-8759f9b87bb3",
   "metadata": {},
   "outputs": [
    {
     "name": "stdout",
     "output_type": "stream",
     "text": [
      "[[[ -1   0   2   7]\n",
      "  [  0  -3   9  -1]]\n",
      "\n",
      " [[-16  -9   1   9]\n",
      "  [ -4 -13   7  -9]]\n",
      "\n",
      " [[ 21  19  38   6]\n",
      "  [  5  13  -5  -2]]]\n"
     ]
    }
   ],
   "source": [
    "print(A-B)"
   ]
  },
  {
   "cell_type": "code",
   "execution_count": 49,
   "id": "6d81e8ba-545b-4fbe-b8e1-1f39b222c89b",
   "metadata": {},
   "outputs": [
    {
     "name": "stdout",
     "output_type": "stream",
     "text": [
      "[[[ 0.5         1.          3.          1.77777778]\n",
      "  [ 1.          0.57142857  2.          0.90909091]]\n",
      "\n",
      " [[ 0.15789474  0.5         1.05882353  5.5       ]\n",
      "  [ 0.76470588  0.55172414  1.63636364  0.1       ]]\n",
      "\n",
      " [[22.         10.5        13.66666667  2.5       ]\n",
      "  [ 2.          3.16666667  0.28571429  0.75      ]]]\n"
     ]
    }
   ],
   "source": [
    "print(A/B)"
   ]
  },
  {
   "cell_type": "code",
   "execution_count": 51,
   "id": "1721ab46-2e4a-4ceb-908a-dcb560b114a5",
   "metadata": {},
   "outputs": [
    {
     "name": "stdout",
     "output_type": "stream",
     "text": [
      "[[[1.         2.82842712 1.73205081 4.        ]\n",
      "  [1.41421356 2.         4.24264069 3.16227766]]\n",
      "\n",
      " [[1.73205081 3.         4.24264069 3.31662479]\n",
      "  [3.60555128 4.         4.24264069 1.        ]]\n",
      "\n",
      " [[4.69041576 4.58257569 6.40312424 3.16227766]\n",
      "  [3.16227766 4.35889894 1.41421356 2.44948974]]]\n",
      "[[[1.41421356 2.82842712 1.         3.        ]\n",
      "  [1.41421356 2.64575131 3.         3.31662479]]\n",
      "\n",
      " [[4.35889894 4.24264069 4.12310563 1.41421356]\n",
      "  [4.12310563 5.38516481 3.31662479 3.16227766]]\n",
      "\n",
      " [[1.         1.41421356 1.73205081 2.        ]\n",
      "  [2.23606798 2.44948974 2.64575131 2.82842712]]]\n"
     ]
    }
   ],
   "source": [
    "print(np.sqrt(A))\n",
    "print(np.sqrt(B))"
   ]
  },
  {
   "cell_type": "code",
   "execution_count": null,
   "id": "ff1d5671-2f6b-4fa2-9660-993ea9af13dc",
   "metadata": {},
   "outputs": [],
   "source": []
  },
  {
   "cell_type": "markdown",
   "id": "49fcd57a-1537-4380-a84e-789288c2804f",
   "metadata": {},
   "source": [
    "# Sorting Array"
   ]
  },
  {
   "cell_type": "markdown",
   "id": "aeb46aa5-56cb-46ae-b015-ea4a329fd8d1",
   "metadata": {},
   "source": [
    "sorting array means putting the elements in an ordered sequence."
   ]
  },
  {
   "cell_type": "code",
   "execution_count": 54,
   "id": "94bef141-11a0-4024-9663-39b6eb2e74ab",
   "metadata": {},
   "outputs": [
    {
     "name": "stdout",
     "output_type": "stream",
     "text": [
      "['AMPLe' 'CURRENT' 'Motor' 'electric' 'power']\n"
     ]
    }
   ],
   "source": [
    "xyz  = np.array([\"electric\",\"power\",\"Motor\",\"CURRENT\",\"AMPLe\"])\n",
    "print(np.sort(xyz))"
   ]
  },
  {
   "cell_type": "markdown",
   "id": "774b4494-8571-4911-b295-c1479c78b246",
   "metadata": {},
   "source": [
    "# Slicing Array"
   ]
  },
  {
   "cell_type": "code",
   "execution_count": 57,
   "id": "f898c1b0-09d5-4a52-93a9-f713e76ebd2f",
   "metadata": {},
   "outputs": [
    {
     "name": "stdout",
     "output_type": "stream",
     "text": [
      "['bits' 'ku' 'omg' 'newscience' 'Acharya']\n",
      "omg\n",
      "['vaagdevi' 'jayamuki' 'bits' 'ku' 'omg' 'newscience' 'Acharya'\n",
      " 'geethanjali' 'kits']\n"
     ]
    }
   ],
   "source": [
    "college = np.array([\"vaagdevi\",\"jayamuki\",\"bits\",\"ku\",\"omg\",\"newscience\",\"Acharya\",\"geethanjali\",\"kits\"])\n",
    "print(college[2:7])\n",
    "print(college[-5])\n",
    "print(college[ : ])"
   ]
  },
  {
   "cell_type": "code",
   "execution_count": 60,
   "id": "dea3fe5c-c634-4b17-9a2b-35fb6080b887",
   "metadata": {},
   "outputs": [
    {
     "name": "stdout",
     "output_type": "stream",
     "text": [
      "['Acharya' 'bits' 'geethanjali' 'jayamuki' 'kits' 'ku' 'newscience' 'omg'\n",
      " 'vaagdevi']\n"
     ]
    }
   ],
   "source": [
    "print(np.sort(college))"
   ]
  },
  {
   "cell_type": "code",
   "execution_count": 61,
   "id": "9d4a9cd0-fab1-4e0e-8351-2cea9eddc4d6",
   "metadata": {},
   "outputs": [
    {
     "name": "stdout",
     "output_type": "stream",
     "text": [
      "['vaagdevi' 'jayamuki' 'bits' 'ku' 'omg' 'newscience' 'Acharya'\n",
      " 'geethanjali' 'kits']\n"
     ]
    }
   ],
   "source": [
    "print(np.copy(college))"
   ]
  },
  {
   "cell_type": "code",
   "execution_count": null,
   "id": "4fdd2257-4a36-41f5-961f-147aec6fa9e7",
   "metadata": {},
   "outputs": [],
   "source": []
  }
 ],
 "metadata": {
  "kernelspec": {
   "display_name": "Python 3 (ipykernel)",
   "language": "python",
   "name": "python3"
  },
  "language_info": {
   "codemirror_mode": {
    "name": "ipython",
    "version": 3
   },
   "file_extension": ".py",
   "mimetype": "text/x-python",
   "name": "python",
   "nbconvert_exporter": "python",
   "pygments_lexer": "ipython3",
   "version": "3.11.7"
  }
 },
 "nbformat": 4,
 "nbformat_minor": 5
}
