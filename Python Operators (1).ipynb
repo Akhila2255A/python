{
 "cells": [
  {
   "cell_type": "markdown",
   "id": "d6074b8d-77e3-4273-964c-7e442d59b887",
   "metadata": {},
   "source": [
    "# Python Operators"
   ]
  },
  {
   "cell_type": "markdown",
   "id": "c27ff599-28cf-4164-b822-3353d966dcc5",
   "metadata": {},
   "source": [
    "Python divides the operators in the following groups:\n",
    "\n",
    "-Arthmetic operators\n",
    "-Assignment operators\n",
    "-Comparison operators\n",
    "-Logical operators\n",
    "-Identify operators\n",
    "-Membership operators\n",
    "-Bitwise operators"
   ]
  },
  {
   "cell_type": "markdown",
   "id": "128c5705-ecd9-40f7-882e-b49f90678aff",
   "metadata": {},
   "source": [
    "# Python Arithmetic Operators"
   ]
  },
  {
   "cell_type": "markdown",
   "id": "5732cd77-54ce-403b-9df8-260d54779cd1",
   "metadata": {},
   "source": [
    "Arithmetic operators are used with numeric values to perform common mathematical operators."
   ]
  },
  {
   "cell_type": "markdown",
   "id": "8e311544-7176-4fe7-ab90-24abbc6b9d9a",
   "metadata": {},
   "source": [
    "# Example "
   ]
  },
  {
   "cell_type": "code",
   "execution_count": 43,
   "id": "143220dd-609c-4843-aa77-541c1bb75dbf",
   "metadata": {},
   "outputs": [],
   "source": [
    "A1 = 3.7777\n",
    "B1 = 8.20"
   ]
  },
  {
   "cell_type": "code",
   "execution_count": 44,
   "id": "2a79d1e7-1d4f-4512-9750-bbb708ed662d",
   "metadata": {},
   "outputs": [
    {
     "name": "stdout",
     "output_type": "stream",
     "text": [
      "11.977699999999999\n"
     ]
    }
   ],
   "source": [
    "#Addition\n",
    "c1 = A1+B1\n",
    "print(c1)"
   ]
  },
  {
   "cell_type": "code",
   "execution_count": 45,
   "id": "b72b0c91-151a-4d96-bd63-d17dd85c52d0",
   "metadata": {},
   "outputs": [
    {
     "name": "stdout",
     "output_type": "stream",
     "text": [
      "-4.4223\n"
     ]
    }
   ],
   "source": [
    "#substraction\n",
    "c2 = A1-B1\n",
    "print(c2)\n"
   ]
  },
  {
   "cell_type": "code",
   "execution_count": 46,
   "id": "87bb8aa5-eca5-402d-be33-1f80392309e2",
   "metadata": {},
   "outputs": [
    {
     "name": "stdout",
     "output_type": "stream",
     "text": [
      "30.977139999999995\n"
     ]
    }
   ],
   "source": [
    "#multiplication\n",
    "c3 = A1*B1\n",
    "print(c3)"
   ]
  },
  {
   "cell_type": "code",
   "execution_count": 47,
   "id": "f58c5183-d1b0-4bb0-9531-dc9d54bb2b54",
   "metadata": {},
   "outputs": [
    {
     "name": "stdout",
     "output_type": "stream",
     "text": [
      "0.46069512195121953\n"
     ]
    }
   ],
   "source": [
    "#division\n",
    "c4 = A1/B1\n",
    "print(c4)"
   ]
  },
  {
   "cell_type": "code",
   "execution_count": 48,
   "id": "33af1884-cc88-4c51-940a-07452c3f779c",
   "metadata": {},
   "outputs": [
    {
     "name": "stdout",
     "output_type": "stream",
     "text": [
      "3.7777\n"
     ]
    }
   ],
   "source": [
    "#modules\n",
    "c5 = A1%B1\n",
    "print(c5)"
   ]
  },
  {
   "cell_type": "code",
   "execution_count": 49,
   "id": "92f3b4ed-d520-4cd9-a47e-9b43b8f77d8d",
   "metadata": {},
   "outputs": [
    {
     "name": "stdout",
     "output_type": "stream",
     "text": [
      "54108.46610017535\n"
     ]
    }
   ],
   "source": [
    "#Exponentiation\n",
    "c6 = A1**B1\n",
    "print(c6)"
   ]
  },
  {
   "cell_type": "code",
   "execution_count": 50,
   "id": "8c94b830-29e8-40e5-9987-23716ae6717a",
   "metadata": {},
   "outputs": [
    {
     "name": "stdout",
     "output_type": "stream",
     "text": [
      "0.0\n"
     ]
    }
   ],
   "source": [
    "#floor division\n",
    "c7 = A1//B1\n",
    "print(c7)"
   ]
  },
  {
   "cell_type": "markdown",
   "id": "cb1ce955-754a-411a-9637-8dc78fa56511",
   "metadata": {},
   "source": [
    "# Assignment Operators"
   ]
  },
  {
   "cell_type": "markdown",
   "id": "c816c670-0c2e-47f6-a9f1-12c962349aef",
   "metadata": {},
   "source": [
    "Assignment operators are used to Assign values to variables\n",
    "=    Assignment \n",
    "+=    Addition Assignment\n",
    "-=     substraction Assignment\n",
    "*=     Multiplication Assignment\n",
    "/=     Division Assignment\n",
    "%=      Remainder Assignment\n",
    "**=     Exponent Assignment "
   ]
  },
  {
   "cell_type": "markdown",
   "id": "030c91e4-dd8c-4608-b28e-8d2054dfb9af",
   "metadata": {},
   "source": [
    "# Example "
   ]
  },
  {
   "cell_type": "code",
   "execution_count": 95,
   "id": "4a9f7802-9d93-4a93-8026-a4ccc9094e5f",
   "metadata": {},
   "outputs": [],
   "source": [
    "#assign 00.0002 to A1\n",
    "A1 = 00.0002\n",
    "#assign 00.03 to A2\n",
    "A2 = 00.03"
   ]
  },
  {
   "cell_type": "code",
   "execution_count": 96,
   "id": "ec75c2b1-29f5-4249-a8e6-223d1ae0a5b9",
   "metadata": {},
   "outputs": [
    {
     "name": "stdout",
     "output_type": "stream",
     "text": [
      "0.030199999999999998\n"
     ]
    }
   ],
   "source": [
    "#addition assignment\n",
    "A2 += A1\n",
    "print(A2)"
   ]
  },
  {
   "cell_type": "code",
   "execution_count": 97,
   "id": "a7885cfc-9b35-412c-9392-6ceb917d9567",
   "metadata": {},
   "outputs": [
    {
     "name": "stdout",
     "output_type": "stream",
     "text": [
      "0.03\n"
     ]
    }
   ],
   "source": [
    "#substraction assignment\n",
    "A2 -= A1\n",
    "print(A2)"
   ]
  },
  {
   "cell_type": "code",
   "execution_count": 98,
   "id": "f10cb3e9-f5b8-417d-a42b-45e81e74807f",
   "metadata": {},
   "outputs": [
    {
     "name": "stdout",
     "output_type": "stream",
     "text": [
      "6e-06\n"
     ]
    }
   ],
   "source": [
    "#multiplication assignment\n",
    "A2 *= A1\n",
    "print(A2)"
   ]
  },
  {
   "cell_type": "code",
   "execution_count": 99,
   "id": "92defbd7-f239-4f44-a013-5278f1acb8fd",
   "metadata": {},
   "outputs": [
    {
     "name": "stdout",
     "output_type": "stream",
     "text": [
      "0.03\n"
     ]
    }
   ],
   "source": [
    "#division assignment\n",
    "A2 /= A1\n",
    "print(A2)"
   ]
  },
  {
   "cell_type": "code",
   "execution_count": 100,
   "id": "464a14e7-13b0-49a0-a2fd-4858dbea818c",
   "metadata": {},
   "outputs": [
    {
     "name": "stdout",
     "output_type": "stream",
     "text": [
      "0.00019999999999999746\n"
     ]
    }
   ],
   "source": [
    "#remainder assignment\n",
    "A2 %= A1\n",
    "print(A2)"
   ]
  },
  {
   "cell_type": "code",
   "execution_count": 101,
   "id": "3ca6881c-9312-4e66-b4dd-9240d9c66463",
   "metadata": {},
   "outputs": [
    {
     "name": "stdout",
     "output_type": "stream",
     "text": [
      "0.9982980113898524\n"
     ]
    }
   ],
   "source": [
    "#exponentiation assignment\n",
    "A2 **= A1\n",
    "print(A2)"
   ]
  },
  {
   "cell_type": "markdown",
   "id": "e5e7a758-03ce-435c-8d7a-b13b0cf4ffca",
   "metadata": {},
   "source": [
    "# Comparison Operators "
   ]
  },
  {
   "cell_type": "markdown",
   "id": "3abab17f-eef1-442d-aef4-f1dbd588738f",
   "metadata": {},
   "source": [
    "Comparison operators compares two values and variable and return a boolean result. True or false.\n",
    "# Operators"
   ]
  },
  {
   "cell_type": "markdown",
   "id": "1b39e7df-d138-4da1-82cc-e084619075a5",
   "metadata": {},
   "source": [
    "==   is Equal To\n",
    "!=    not Equal To\n",
    ">     Greater than\n",
    "<     Less Than\n",
    ">=     Greater Than or Equal To\n",
    "<=     Less Than or Equal To\n",
    "    \n",
    "    "
   ]
  },
  {
   "cell_type": "markdown",
   "id": "63fcf3a0-43c6-4957-9a6f-98f6f036ef77",
   "metadata": {},
   "source": [
    "# Example "
   ]
  },
  {
   "cell_type": "code",
   "execution_count": 117,
   "id": "f6e52454-b1b2-40a8-8f3a-be28256d4c83",
   "metadata": {},
   "outputs": [],
   "source": [
    "x = 4.44\n",
    "y = 6"
   ]
  },
  {
   "cell_type": "code",
   "execution_count": 120,
   "id": "d03de75e-313a-467c-a4fd-6615dc01fd68",
   "metadata": {},
   "outputs": [
    {
     "name": "stdout",
     "output_type": "stream",
     "text": [
      "False\n"
     ]
    }
   ],
   "source": [
    "#equals to operator\n",
    "print(x == y)"
   ]
  },
  {
   "cell_type": "code",
   "execution_count": 121,
   "id": "d8298ca0-1c71-42b3-9c97-26c62ae5ba02",
   "metadata": {},
   "outputs": [
    {
     "name": "stdout",
     "output_type": "stream",
     "text": [
      "True\n"
     ]
    }
   ],
   "source": [
    "#not equals To\n",
    "print(x != y)"
   ]
  },
  {
   "cell_type": "code",
   "execution_count": 122,
   "id": "bc0e4967-d16f-4f7b-9217-ba6239e5555d",
   "metadata": {},
   "outputs": [
    {
     "name": "stdout",
     "output_type": "stream",
     "text": [
      "x > y False\n"
     ]
    }
   ],
   "source": [
    "#greater than operator\n",
    "print('x > y',x > y)"
   ]
  },
  {
   "cell_type": "code",
   "execution_count": 123,
   "id": "dd8dddb0-b1fa-4026-b3ec-0f8c64f08698",
   "metadata": {},
   "outputs": [
    {
     "name": "stdout",
     "output_type": "stream",
     "text": [
      "x < y True\n"
     ]
    }
   ],
   "source": [
    "#less than operator\n",
    "print('x < y', x<y)"
   ]
  },
  {
   "cell_type": "code",
   "execution_count": 124,
   "id": "fb68c101-2044-475b-87a2-c030701a07d5",
   "metadata": {},
   "outputs": [
    {
     "name": "stdout",
     "output_type": "stream",
     "text": [
      "x >= y False\n"
     ]
    }
   ],
   "source": [
    "#greater than or equals to operator\n",
    "print('x >= y', x >= y)"
   ]
  },
  {
   "cell_type": "code",
   "execution_count": 125,
   "id": "735f6825-eba3-40dc-945a-0980f6ee30d0",
   "metadata": {},
   "outputs": [
    {
     "name": "stdout",
     "output_type": "stream",
     "text": [
      "x <= y True\n"
     ]
    }
   ],
   "source": [
    "#less than or equals to\n",
    "print('x <= y', x <= Y)"
   ]
  },
  {
   "cell_type": "markdown",
   "id": "f403d061-5140-4446-b867-0ef926547239",
   "metadata": {},
   "source": [
    "# Example "
   ]
  },
  {
   "cell_type": "code",
   "execution_count": 143,
   "id": "9d7aeea3-a636-4020-a0fa-54f4f22db173",
   "metadata": {},
   "outputs": [],
   "source": [
    "x1 = 67.0808\n",
    "y1 = 70.090"
   ]
  },
  {
   "cell_type": "code",
   "execution_count": 144,
   "id": "965d87a5-1593-4831-92cb-220e802ab5b1",
   "metadata": {},
   "outputs": [
    {
     "name": "stdout",
     "output_type": "stream",
     "text": [
      "False\n"
     ]
    }
   ],
   "source": [
    "#equals to\n",
    "print(x1 == y1)"
   ]
  },
  {
   "cell_type": "code",
   "execution_count": 146,
   "id": "1025750b-2579-42c7-958b-67c0079449d5",
   "metadata": {},
   "outputs": [
    {
     "name": "stdout",
     "output_type": "stream",
     "text": [
      "True\n"
     ]
    }
   ],
   "source": [
    "#not equals to\n",
    "print(x1 != y1)"
   ]
  },
  {
   "cell_type": "code",
   "execution_count": 147,
   "id": "8ed424b8-f97a-4f71-a88d-86d54288b43e",
   "metadata": {},
   "outputs": [
    {
     "name": "stdout",
     "output_type": "stream",
     "text": [
      "False\n"
     ]
    }
   ],
   "source": [
    "#greater than operator\n",
    "print(x1 > y1)"
   ]
  },
  {
   "cell_type": "code",
   "execution_count": 148,
   "id": "d2ebf1ff-f477-4667-95dd-12f24561e413",
   "metadata": {},
   "outputs": [
    {
     "name": "stdout",
     "output_type": "stream",
     "text": [
      "True\n"
     ]
    }
   ],
   "source": [
    "#less than operator\n",
    "print(x1 < y1)"
   ]
  },
  {
   "cell_type": "code",
   "execution_count": 149,
   "id": "82df8a36-e078-45b6-9b62-f101ab4cdc4e",
   "metadata": {},
   "outputs": [
    {
     "name": "stdout",
     "output_type": "stream",
     "text": [
      "False\n"
     ]
    }
   ],
   "source": [
    "#greater than or equals to\n",
    "print(x1 >= y1)"
   ]
  },
  {
   "cell_type": "code",
   "execution_count": 150,
   "id": "148f74b9-fb5a-4eba-8978-981e4d541547",
   "metadata": {},
   "outputs": [
    {
     "name": "stdout",
     "output_type": "stream",
     "text": [
      "True\n"
     ]
    }
   ],
   "source": [
    "#less than or equals to\n",
    "print(x1 <= y1)"
   ]
  },
  {
   "cell_type": "code",
   "execution_count": null,
   "id": "59de2a72-2be9-47b0-bf22-49bca4dc066f",
   "metadata": {},
   "outputs": [],
   "source": []
  }
 ],
 "metadata": {
  "kernelspec": {
   "display_name": "Python 3 (ipykernel)",
   "language": "python",
   "name": "python3"
  },
  "language_info": {
   "codemirror_mode": {
    "name": "ipython",
    "version": 3
   },
   "file_extension": ".py",
   "mimetype": "text/x-python",
   "name": "python",
   "nbconvert_exporter": "python",
   "pygments_lexer": "ipython3",
   "version": "3.11.7"
  }
 },
 "nbformat": 4,
 "nbformat_minor": 5
}
