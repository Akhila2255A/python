{
 "cells": [
  {
   "cell_type": "markdown",
   "id": "93bdf1c8-793c-4041-830c-8f8705319b71",
   "metadata": {},
   "source": [
    "# Data Type"
   ]
  },
  {
   "cell_type": "markdown",
   "id": "f5a54d2b-fc96-44b1-9940-1a81aca96e68",
   "metadata": {},
   "source": [
    "-Numeric-->int, float,complex"
   ]
  },
  {
   "cell_type": "code",
   "execution_count": 3,
   "id": "9f867217-c4f0-4550-815d-c5746df96c42",
   "metadata": {},
   "outputs": [],
   "source": [
    "x = 10 # int\n",
    "y = 5.99 # float\n",
    "z = 1+5j # complex"
   ]
  },
  {
   "cell_type": "code",
   "execution_count": 4,
   "id": "c8dd9f66-ac06-4fb9-911f-5a67f6a17e89",
   "metadata": {},
   "outputs": [
    {
     "name": "stdout",
     "output_type": "stream",
     "text": [
      "<class 'int'>\n",
      "<class 'float'>\n",
      "<class 'complex'>\n"
     ]
    }
   ],
   "source": [
    "print(type(x))\n",
    "print(type(y))\n",
    "print(type(z))"
   ]
  },
  {
   "cell_type": "code",
   "execution_count": 5,
   "id": "e823eb8f-c2c1-4aa7-b637-288097774886",
   "metadata": {},
   "outputs": [
    {
     "name": "stdout",
     "output_type": "stream",
     "text": [
      "10\n",
      "5.99\n",
      "(1+5j)\n"
     ]
    }
   ],
   "source": [
    "print(x)\n",
    "print(y)\n",
    "print(z)"
   ]
  },
  {
   "cell_type": "markdown",
   "id": "99259128-e113-47f5-b634-9d7a844889c7",
   "metadata": {},
   "source": [
    "# Type conversion"
   ]
  },
  {
   "cell_type": "code",
   "execution_count": 6,
   "id": "f510ecbb-def0-4262-9872-623a51cd331a",
   "metadata": {},
   "outputs": [
    {
     "name": "stdout",
     "output_type": "stream",
     "text": [
      "<class 'float'>\n",
      "<class 'int'>\n",
      "<class 'complex'>\n"
     ]
    }
   ],
   "source": [
    "x1 = 9\n",
    "x2 = 16\n",
    "x3 = 9+2j\n",
    "y1 = float(x1)\n",
    "y2 = int(x2)\n",
    "y3 = complex(x3)\n",
    "print(type(y1))\n",
    "print(type(y2))\n",
    "print(type(y3))"
   ]
  },
  {
   "cell_type": "markdown",
   "id": "f12fc8f1-88f5-4412-9466-ce665c51b2da",
   "metadata": {},
   "source": [
    "# Python Booleans"
   ]
  },
  {
   "cell_type": "markdown",
   "id": "2f0858ec-12ec-474f-a31b-5f5f1cfd3dd1",
   "metadata": {},
   "source": [
    "-Boolean represent one of two values."
   ]
  },
  {
   "cell_type": "code",
   "execution_count": null,
   "id": "009b0b60-4307-4b79-97e4-e37224bc0791",
   "metadata": {},
   "outputs": [],
   "source": []
  }
 ],
 "metadata": {
  "kernelspec": {
   "display_name": "Python 3 (ipykernel)",
   "language": "python",
   "name": "python3"
  },
  "language_info": {
   "codemirror_mode": {
    "name": "ipython",
    "version": 3
   },
   "file_extension": ".py",
   "mimetype": "text/x-python",
   "name": "python",
   "nbconvert_exporter": "python",
   "pygments_lexer": "ipython3",
   "version": "3.11.7"
  }
 },
 "nbformat": 4,
 "nbformat_minor": 5
}
