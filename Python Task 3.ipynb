{
 "cells": [
  {
   "cell_type": "markdown",
   "id": "01ae5ec2-983b-4c5d-89bd-bdbf71ce83e5",
   "metadata": {},
   "source": [
    "1.Write a python program to determine if a year weather year is  lip year form\n",
    "2.Write A PYTHON PROGRAM TO CHECK A CHARECTER OWL OR NOT?\n",
    "3.WRITE A python program to find larger number amoung the three numbers?\n",
    "4.Write a python program to find triangle types?\n"
   ]
  },
  {
   "cell_type": "markdown",
   "id": "a012d4f7-6aba-4373-b8ec-37224668b548",
   "metadata": {},
   "source": [
    "1. Write a Python program to determine if weather the year is leap year or not?"
   ]
  },
  {
   "cell_type": "code",
   "execution_count": 38,
   "id": "1551d68b-35de-4ffb-ae58-5d194c7283b0",
   "metadata": {},
   "outputs": [
    {
     "name": "stdout",
     "output_type": "stream",
     "text": [
      "yes, it is leap year 2024\n"
     ]
    }
   ],
   "source": [
    "leap_years = [2000,2004,2008,2012,2016,2020,2024,2028,2032,2036,2040,2044,2048]\n",
    "\n",
    "leap_year = 2024\n",
    "\n",
    "if  leap_year in leap_years:\n",
    "    print(\"yes, it is leap year\",leap_year)\n",
    "else:\n",
    "    print(\"no,it is not a leap year\",leap_year)"
   ]
  },
  {
   "cell_type": "markdown",
   "id": "9fedd7ab-1d83-4be9-aec1-664acc0e5281",
   "metadata": {},
   "source": [
    "2.Write a python program to check a character is VOWElS or NOT?"
   ]
  },
  {
   "cell_type": "code",
   "execution_count": 9,
   "id": "513d955a-d49d-42a0-9c26-125b16dc9dcc",
   "metadata": {},
   "outputs": [
    {
     "name": "stdout",
     "output_type": "stream",
     "text": [
      " vowels\n",
      "character is vowel\n"
     ]
    }
   ],
   "source": [
    "vowels =[\"a\",\"e\",\"i\",\"o\",\"u\",\"A\",\"E\",\"I\",\"O\",\"U\"]\n",
    "print(\" vowels\")\n",
    "\n",
    "character = (\"e\")\n",
    "if character in vowels:\n",
    "    print(\"character is vowel\")\n",
    "elif character in vowels:\n",
    "    print(\"character is vowel\")\n",
    "else:\n",
    "    print(\"character is a consonent\")\n",
    "        "
   ]
  },
  {
   "cell_type": "markdown",
   "id": "bcf07963-6a37-41cb-b121-da4918a14941",
   "metadata": {},
   "source": [
    "3. Write a Python program to find larger number amoung the three numbers?"
   ]
  },
  {
   "cell_type": "code",
   "execution_count": 40,
   "id": "d798ce69-dc83-400b-ab5a-a92c74ea16fd",
   "metadata": {},
   "outputs": [
    {
     "name": "stdout",
     "output_type": "stream",
     "text": [
      "the largest number is: 550\n"
     ]
    }
   ],
   "source": [
    "number1 = 400\n",
    "number2 = 550\n",
    "number3 = 250\n",
    "\n",
    "\n",
    "#the largest number\n",
    "if number1 >= number2 and number1 >= number3:\n",
    "    print(\"the largest number is:\",number1)\n",
    "elif number2 >= number1 and number2 >= number3:\n",
    "    print(\"the largest number is:\",number2)\n",
    "else:\n",
    "    print(\"the largest number is:\",number3)"
   ]
  },
  {
   "cell_type": "code",
   "execution_count": null,
   "id": "9c5eb273-3e0d-4b91-8600-6eeaa3f42577",
   "metadata": {},
   "outputs": [],
   "source": []
  },
  {
   "cell_type": "markdown",
   "id": "524ef3e9-d7ec-462c-9926-61e3c1bef09d",
   "metadata": {},
   "source": [
    "4.Write a python program to find triangle types?\n"
   ]
  },
  {
   "cell_type": "code",
   "execution_count": 16,
   "id": "790b850b-77e0-46d1-883f-441fbcf8fc9e",
   "metadata": {},
   "outputs": [
    {
     "name": "stdout",
     "output_type": "stream",
     "text": [
      "this is a isosceles triangle:\n"
     ]
    }
   ],
   "source": [
    "x = \"equilateral\"\n",
    "y = \"isosceles\"\n",
    "z = \"scalene\"\n",
    "\n",
    "x1 = 40\n",
    "y1 = 40\n",
    "z1 = 30\n",
    "\n",
    "if x1 == y1 == z1:\n",
    "    print(\"this is a equilateral triangle:\")\n",
    "elif x1 == y1 or y1 == z1 or x1 == z1:\n",
    "    print(\"this is a isosceles triangle:\")\n",
    "else:\n",
    "    print(\"this is a scalene triangle:\")"
   ]
  },
  {
   "cell_type": "code",
   "execution_count": null,
   "id": "7209d171-011e-4c8c-a4c0-0bbd49d7f2cf",
   "metadata": {},
   "outputs": [],
   "source": []
  },
  {
   "cell_type": "code",
   "execution_count": null,
   "id": "c45156d2-2eb1-435a-aeae-68fdde6fc79c",
   "metadata": {},
   "outputs": [],
   "source": []
  },
  {
   "cell_type": "code",
   "execution_count": 10,
   "id": "ceb74680-77bf-413b-824a-9bff06bd0df1",
   "metadata": {},
   "outputs": [
    {
     "name": "stdin",
     "output_type": "stream",
     "text": [
      "Enter the  item chicken wings\n"
     ]
    },
    {
     "name": "stdout",
     "output_type": "stream",
     "text": [
      "your order is ready wait for 5mints chicken wings\n"
     ]
    }
   ],
   "source": [
    "veg_items = [\"vegetable spring rolls\",\"veg pizza\",\"chana musala\",\"palak paneer\",\"paneer masala\"]\n",
    "nonveg_items = [\"chicken wings\",\"fish curry\",\"chicken loli pops\",\"butter masala\",\"motton curry\"]\n",
    "\n",
    "item_name = input(\"Enter the  item\")\n",
    "\n",
    "if item_name in veg_items:\n",
    "    print(\"your order is ready wait for 5mints\",item_name)\n",
    "elif item_name in nonveg_items:\n",
    "    print(\"your order is ready wait for 5mints\", item_name)\n",
    "else:\n",
    "    print(\"sorry,your order is not in the list\")\n",
    "\n"
   ]
  },
  {
   "cell_type": "code",
   "execution_count": null,
   "id": "ac30db31-9227-4651-9f86-df127d5f4f71",
   "metadata": {},
   "outputs": [],
   "source": []
  },
  {
   "cell_type": "code",
   "execution_count": 11,
   "id": "8226105f-d02e-4ea9-aee4-1cbfd658ed94",
   "metadata": {},
   "outputs": [
    {
     "name": "stdin",
     "output_type": "stream",
     "text": [
      "Enter the leap_year 2008\n"
     ]
    },
    {
     "name": "stdout",
     "output_type": "stream",
     "text": [
      "yes, it is leap year 2008\n"
     ]
    }
   ],
   "source": [
    "leap_years =  [2000,2004,2008,2012,2016,2020,2024,2028,2032,2036,2040,2044,2048]\n",
    "\n",
    "\n",
    "leap_year = int(input(\"Enter the leap_year\"))\n",
    "\n",
    "if  leap_year in leap_years:\n",
    "    print(\"yes, it is leap year\",leap_year)\n",
    "else:\n",
    "    print(\"no,it is not a leap year\",leap_year)"
   ]
  },
  {
   "cell_type": "code",
   "execution_count": 13,
   "id": "30154b93-afb8-42a1-b405-8f80674ff89d",
   "metadata": {},
   "outputs": [
    {
     "name": "stdin",
     "output_type": "stream",
     "text": [
      "Enter the largest number: 400\n"
     ]
    },
    {
     "name": "stdout",
     "output_type": "stream",
     "text": [
      "the largest number is: 660\n"
     ]
    }
   ],
   "source": [
    "number1 = 400\n",
    "number2 = 660\n",
    "number3 = 250\n",
    "\n",
    "number = int(input(\"Enter the largest number:\"))\n",
    "\n",
    "#the largest number\n",
    "if number1 >= number2 and number1 >= number3:\n",
    "    print(\"the largest number is:\",number1)\n",
    "elif number2 >= number1 and number2 >= number3:\n",
    "    print(\"the largest number is:\",number2)\n",
    "else:\n",
    "    print(\"the largest number is:\",number3)"
   ]
  },
  {
   "cell_type": "code",
   "execution_count": null,
   "id": "08673a1f-2d2f-485b-9836-7649a121d7a1",
   "metadata": {},
   "outputs": [],
   "source": []
  },
  {
   "cell_type": "code",
   "execution_count": 18,
   "id": "91a6627a-375e-4376-824a-c91db5b9aec6",
   "metadata": {},
   "outputs": [
    {
     "name": "stdin",
     "output_type": "stream",
     "text": [
      "enter the equilateral triangle x\n"
     ]
    },
    {
     "name": "stdout",
     "output_type": "stream",
     "text": [
      "this is a isosceles triangle\n"
     ]
    }
   ],
   "source": [
    "x = \"equilateral\"\n",
    "y = \"isosceles\"\n",
    "z = \"scalene\"\n",
    "\n",
    "x1 = 40\n",
    "y1 = 40\n",
    "z1 = 20\n",
    "\n",
    "triangle = input(\"enter the equilateral triangle\")\n",
    "if x1 == y1 == z1:\n",
    "    print(\"this is a equilateral triangle\")\n",
    "elif x1 == y1 or y1 == z1 or x1 == z1:\n",
    "    print(\"this is a isosceles triangle\")\n",
    "else:\n",
    "    print(\"this is a scalene triangle\")"
   ]
  },
  {
   "cell_type": "code",
   "execution_count": null,
   "id": "b61cfef3-e94d-4c1d-bbe6-9af6dd8e1e78",
   "metadata": {},
   "outputs": [],
   "source": []
  }
 ],
 "metadata": {
  "kernelspec": {
   "display_name": "Python 3 (ipykernel)",
   "language": "python",
   "name": "python3"
  },
  "language_info": {
   "codemirror_mode": {
    "name": "ipython",
    "version": 3
   },
   "file_extension": ".py",
   "mimetype": "text/x-python",
   "name": "python",
   "nbconvert_exporter": "python",
   "pygments_lexer": "ipython3",
   "version": "3.11.7"
  }
 },
 "nbformat": 4,
 "nbformat_minor": 5
}
