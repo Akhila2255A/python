{
 "cells": [
  {
   "cell_type": "markdown",
   "id": "cd849c58-6113-4779-88c7-14609205c5f7",
   "metadata": {},
   "source": [
    "# Inheritance:"
   ]
  },
  {
   "cell_type": "markdown",
   "id": "f073a792-6923-4a22-891a-5e7ad86a54b8",
   "metadata": {},
   "source": [
    "-Inheritance is a way of creating a new class for using details of existing class without modifying it."
   ]
  },
  {
   "cell_type": "markdown",
   "id": "c22315ed-90cd-4a40-b90e-95196aaa2c14",
   "metadata": {},
   "source": [
    "# Example"
   ]
  },
  {
   "cell_type": "code",
   "execution_count": 18,
   "id": "0aa1a47b-c9b5-48ca-8f6b-6278fee677a1",
   "metadata": {},
   "outputs": [
    {
     "name": "stdout",
     "output_type": "stream",
     "text": [
      "car starts\n",
      "stops\n",
      "horn the car\n",
      "stops horn\n",
      "ready to start the car.\n",
      "moving the car.\n",
      "car speed is below 30\n",
      "car speed is 50\n",
      "car speed is above 50\n"
     ]
    }
   ],
   "source": [
    "\n",
    "class car:\n",
    "    def turn_on():\n",
    "        print(\"car starts\")\n",
    "    def turn_off():\n",
    "        print(\"stops\")\n",
    "class horn(car):\n",
    "    def horn_on():\n",
    "        print(\"horn the car\")\n",
    "    def horn_off():\n",
    "        print(\"stops horn\")\n",
    "class gears(car):\n",
    "    def gear1():\n",
    "        print(\"car is ready to start \")\n",
    "    def gear2():\n",
    "        print(\"running the car\")\n",
    "class speed(car):\n",
    "    def low():\n",
    "        print(\"car speed is below 30\")\n",
    "    def medium():\n",
    "        print(\"car speed is 50\")\n",
    "    def high():\n",
    "        print(\"car speed is above 50\")\n",
    "car.turn_on()\n",
    "car.turn_off()\n",
    "horn.horn_on()\n",
    "horn.horn_off()\n",
    "gear.gear1()\n",
    "gear.gear2()\n",
    "speed.low()\n",
    "speed.medium()\n",
    "speed.high()"
   ]
  },
  {
   "cell_type": "code",
   "execution_count": 22,
   "id": "451d75a7-6bde-4ea5-ac4b-64143bbe1926",
   "metadata": {},
   "outputs": [
    {
     "name": "stdout",
     "output_type": "stream",
     "text": [
      "first take the tickets\n",
      "find seat,with seat number\n",
      "cinema play on screen\n",
      "digital projector\n",
      "HD quality\n",
      "high quality sound experience for audience\n",
      "loaded speakers\n"
     ]
    }
   ],
   "source": [
    "class movie_theater:\n",
    "    def tickets():\n",
    "        print(\"first take the tickets\")\n",
    "    def seat():\n",
    "        print(\"find seat,with seat number\")\n",
    "\n",
    "class projector(movie_theater):\n",
    "    def screen():\n",
    "        print(\"cinema play on screen\")\n",
    "    def projector_():\n",
    "        print(\"digital projector\")\n",
    "        \n",
    "class quality(movie_theater):\n",
    "    def quality_():\n",
    "        print(\"HD quality\")\n",
    "\n",
    "class sound(movie_theater):\n",
    "    def sound_system():\n",
    "        print(\"high quality sound experience for audience\")\n",
    "\n",
    "    def sound_():\n",
    "        print(\"loaded speakers\")\n",
    "\n",
    "movie_theater.tickets()\n",
    "movie_theater.seat()\n",
    "projector.screen()\n",
    "projector. projector_()\n",
    "quality.quality_()\n",
    "sound.sound_system()\n",
    "sound.sound_()\n"
   ]
  },
  {
   "cell_type": "markdown",
   "id": "d9132f34-2217-4b6b-9324-0d2b4264ea83",
   "metadata": {},
   "source": [
    "# Encapsulation:"
   ]
  },
  {
   "cell_type": "code",
   "execution_count": null,
   "id": "52fff14e-fd96-4a51-a8dd-5f5136c3459d",
   "metadata": {},
   "outputs": [],
   "source": []
  },
  {
   "cell_type": "code",
   "execution_count": 13,
   "id": "7c30da2d-58a6-48a5-b9fd-13de3b7c388d",
   "metadata": {},
   "outputs": [
    {
     "name": "stdout",
     "output_type": "stream",
     "text": [
      "9632860011\n",
      "5661\n"
     ]
    }
   ],
   "source": [
    "class paytm:\n",
    "    def __init__(self,account_number,pin):\n",
    "        self.__account_number= account_number\n",
    "        self._pin = pin\n",
    "        print(self.__account_number)\n",
    "\n",
    "class deposit(paytm):\n",
    "    def pin_num(self):\n",
    "        print(self._pin)\n",
    "\n",
    "x = deposit(9632860011,5661)\n",
    "x.pin_num()"
   ]
  }
 ],
 "metadata": {
  "kernelspec": {
   "display_name": "Python 3 (ipykernel)",
   "language": "python",
   "name": "python3"
  },
  "language_info": {
   "codemirror_mode": {
    "name": "ipython",
    "version": 3
   },
   "file_extension": ".py",
   "mimetype": "text/x-python",
   "name": "python",
   "nbconvert_exporter": "python",
   "pygments_lexer": "ipython3",
   "version": "3.11.7"
  }
 },
 "nbformat": 4,
 "nbformat_minor": 5
}
