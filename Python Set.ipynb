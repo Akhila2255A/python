{
 "cells": [
  {
   "cell_type": "markdown",
   "id": "35ddf3fa-ace7-4177-8c88-76d020a03534",
   "metadata": {},
   "source": [
    "# Python Set"
   ]
  },
  {
   "cell_type": "markdown",
   "id": "ef523508-a5c2-49cf-8b53-a6b71c5957bf",
   "metadata": {},
   "source": [
    "In Python ,Set is a collection of elements and it is defined as curly bracket and separated by commas.\n",
    "- Setis used to store a multiple items in a single variable.\n",
    "- Set is a unordered,mutable and does not allows duplicates.\n",
    "-provide varieties of methods for performing common set operation like union, intersection and difference and more."
   ]
  },
  {
   "cell_type": "markdown",
   "id": "e82b334f-adc7-462a-93f8-ffcac405f8ab",
   "metadata": {},
   "source": [
    "# Creating set:"
   ]
  },
  {
   "cell_type": "code",
   "execution_count": 13,
   "id": "37c5d5c8-729a-4d03-b6fb-2ecbe78ad4a6",
   "metadata": {},
   "outputs": [
    {
     "name": "stdout",
     "output_type": "stream",
     "text": [
      "{'manisha', 'uma', 'prabakar', 'rahul', 'riyansh', 'akhil', 'akhila'}\n"
     ]
    }
   ],
   "source": [
    "#creating a set\n",
    "family = {\"prabakar\",\"uma\",\"rahul\",\"manisha\",\"akhil\",\"akhila\",\"riyansh\"}\n",
    "print(family)\n",
    "\n",
    "\n"
   ]
  },
  {
   "cell_type": "code",
   "execution_count": 17,
   "id": "38448dc0-082f-4781-8878-6d3842948005",
   "metadata": {},
   "outputs": [
    {
     "name": "stdout",
     "output_type": "stream",
     "text": [
      "{36, 21, 28, 45, 30}\n"
     ]
    }
   ],
   "source": [
    "#creating the set  age of family\n",
    "age = {45,36,30,28,28,21}\n",
    "print(age)"
   ]
  },
  {
   "cell_type": "code",
   "execution_count": 18,
   "id": "5dd98989-7437-48ba-8ca5-5bbc8ae66f30",
   "metadata": {},
   "outputs": [
    {
     "name": "stdout",
     "output_type": "stream",
     "text": [
      "{'akhil', 'uma', 'rahul', 'prabha'}\n"
     ]
    }
   ],
   "source": [
    "#creating list to set\n",
    "family = set([\"prabha\",\"uma\",\"rahul\",\"akhil\"])\n",
    "print(family)"
   ]
  },
  {
   "cell_type": "code",
   "execution_count": 27,
   "id": "9f08dfc9-216e-4b8b-b382-e2ab364fe468",
   "metadata": {},
   "outputs": [
    {
     "name": "stdout",
     "output_type": "stream",
     "text": [
      "{'C++', 'c', 'swift', 'python', 'java'}\n"
     ]
    }
   ],
   "source": [
    "#creating list to set\n",
    "language =set ([\"python\",\"C++\",\"java\",\"c\",\"swift\"])\n",
    "print(language)"
   ]
  },
  {
   "cell_type": "code",
   "execution_count": 28,
   "id": "d4d3d13d-ca6f-4057-bfe9-8088d1bc8911",
   "metadata": {},
   "outputs": [
    {
     "name": "stdout",
     "output_type": "stream",
     "text": [
      "{'monkey', 'dog', 'donkey', 'pig', 'elephant'}\n"
     ]
    }
   ],
   "source": [
    "#creating list to set\n",
    "animals = set([\"pig\",\"monkey\",\"donkey\",\"elephant\",\"pig\",\"dog\",\"pig\"])\n",
    "print(animals)"
   ]
  },
  {
   "cell_type": "markdown",
   "id": "09f7c1c5-8d6b-43d0-9c55-51de41b63f5b",
   "metadata": {},
   "source": [
    "# Add and update set items in python"
   ]
  },
  {
   "cell_type": "markdown",
   "id": "b46ba767-f388-45a7-9cb0-0b33bac5cbd2",
   "metadata": {},
   "source": [
    "# 1. Add items"
   ]
  },
  {
   "cell_type": "markdown",
   "id": "4c606c06-363f-4853-892e-a65fcb06d33e",
   "metadata": {},
   "source": [
    "WE  can not acces or change anelement of a set using index or slicing."
   ]
  },
  {
   "cell_type": "markdown",
   "id": "346580c1-ba40-44c1-a5a3-5c4550e9c6e0",
   "metadata": {},
   "source": [
    "We use add() method to add items."
   ]
  },
  {
   "cell_type": "code",
   "execution_count": 42,
   "id": "3eb32629-0ca0-4d85-9ce3-06391c2091f3",
   "metadata": {},
   "outputs": [
    {
     "name": "stdout",
     "output_type": "stream",
     "text": [
      "updateset: {2, 4, 6, 8, 10, 12, 14, 16, 18, 20}\n"
     ]
    }
   ],
   "source": [
    "odd_numbers = {2,4,6,8,10,14,16,18,20}\n",
    "#using add method\n",
    "odd_numbers.add(12)\n",
    "print('updateset:',odd_numbers)"
   ]
  },
  {
   "cell_type": "code",
   "execution_count": 36,
   "id": "7a506626-29c1-418a-b80a-1d4bbda1c3b0",
   "metadata": {},
   "outputs": [
    {
     "name": "stdout",
     "output_type": "stream",
     "text": [
      "lucky number: {9, 7}\n"
     ]
    }
   ],
   "source": [
    "number = {7}\n",
    "number.add(9)\n",
    "print('lucky number:',number)"
   ]
  },
  {
   "cell_type": "code",
   "execution_count": 38,
   "id": "6a644442-d44d-478a-bb64-26b7755ba5ec",
   "metadata": {},
   "outputs": [
    {
     "name": "stdout",
     "output_type": "stream",
     "text": [
      "my fav colours are: {'orange', 'red', 'pile', 'yellow', 'pink', 'voilet'}\n"
     ]
    }
   ],
   "source": [
    "colour = {\"red\",\"pink\",\"yellow\",\"orange\",\"pile\"}\n",
    "colour.add(\"voilet\")\n",
    "print('my fav colours are:',colour)"
   ]
  },
  {
   "cell_type": "markdown",
   "id": "4666ec92-67f0-48f8-8e61-3247411b8064",
   "metadata": {},
   "source": [
    "# update python set"
   ]
  },
  {
   "cell_type": "markdown",
   "id": "5d2d2c1b-ddd5-4cf4-be92-e0ac7e15f05a",
   "metadata": {},
   "source": [
    "Update () method is used to update the set."
   ]
  },
  {
   "cell_type": "code",
   "execution_count": 49,
   "id": "e9df6d6c-8773-43ab-bdef-87adb2666c8d",
   "metadata": {},
   "outputs": [
    {
     "name": "stdout",
     "output_type": "stream",
     "text": [
      "{'kiwi', 'mirchi', 'betroot', 'carrot', 'watermelon', 'pineapple'}\n"
     ]
    }
   ],
   "source": [
    "fruits = {\"pineapple\",\"kiwi\",\"watermelon\"}\n",
    "vagetable = [\"carrot\",\"mirchi\",\"betroot\"]\n",
    "update_fruits = fruits.update(vagetable)\n",
    "print(fruits)"
   ]
  },
  {
   "cell_type": "code",
   "execution_count": 50,
   "id": "3470f0c0-65cc-4e6d-b054-8c8f35feefc9",
   "metadata": {},
   "outputs": [
    {
     "name": "stdout",
     "output_type": "stream",
     "text": [
      "{'ganga', 'yamuna', 'laknavaram', 'pakal', 'godhavari', 'ramappa'}\n"
     ]
    }
   ],
   "source": [
    "rivers = {\"ganga\",\"godhavari\",\"yamuna\"}\n",
    "lakes = [\"pakal\",\"ramappa\",\"laknavaram\"]\n",
    "update_rivers = rivers.update(lakes)\n",
    "print(rivers)"
   ]
  },
  {
   "cell_type": "markdown",
   "id": "1ddc0e70-65ce-4e44-bd3d-3687bc32f599",
   "metadata": {},
   "source": [
    "# Remove an element from set"
   ]
  },
  {
   "cell_type": "markdown",
   "id": "91e90f5b-d29c-4866-b3d8-3c0f4a125e38",
   "metadata": {},
   "source": [
    "We use discard () to remove the item."
   ]
  },
  {
   "cell_type": "code",
   "execution_count": 58,
   "id": "bf25df52-1df9-4e7f-9aea-7ece881832e0",
   "metadata": {},
   "outputs": [
    {
     "name": "stdout",
     "output_type": "stream",
     "text": [
      "{'telugu', 'hindi', 'gujarathi', 'english'}\n",
      "set after removed: {'telugu', 'gujarathi', 'english'}\n",
      "Total elements: 3\n"
     ]
    }
   ],
   "source": [
    "language = {\"telugu\",\"hindi\",\"marati\",\"english\",\"gujarathi\"}\n",
    "removed_value = language.remove('marati')\n",
    "print(language)\n",
    "removed_value = language.discard('hindi')\n",
    "print('set after removed:',language)\n",
    "#finding the len of set\n",
    "print('Total elements:',len(language))\n"
   ]
  },
  {
   "cell_type": "markdown",
   "id": "67394719-6ade-4394-9c45-046ceabb4f94",
   "metadata": {},
   "source": [
    "# Python Operations:"
   ]
  },
  {
   "cell_type": "markdown",
   "id": "c6b72079-0d1f-4645-9f64-266e0505deb4",
   "metadata": {},
   "source": [
    "1.Union of two sets:"
   ]
  },
  {
   "cell_type": "markdown",
   "id": "eb2d884d-7733-4eda-9e13-3cae422d1156",
   "metadata": {},
   "source": [
    "Union of the two sets includes all the element of the set.\n",
    "combines the elements of two sets by removing the duplicates."
   ]
  },
  {
   "cell_type": "code",
   "execution_count": 62,
   "id": "fa0561b8-5cd5-4e18-aeb6-df9f2c5c8f93",
   "metadata": {},
   "outputs": [
    {
     "name": "stdout",
     "output_type": "stream",
     "text": [
      "union using |: {'balt', 'staff', 'parties', 'labs', 'students', 'teachers', 'hostel', 'shoes', 'uniform'}\n",
      "union using union(): {'balt', 'staff', 'parties', 'labs', 'students', 'teachers', 'hostel', 'shoes', 'uniform'}\n"
     ]
    }
   ],
   "source": [
    "school = {\"students\",\"teachers\",\"staff\",\"uniform\",\"balt\",\"shoes\"}\n",
    "college = {\"students\",\"hostel\",\"labs\",\"staff\",\"parties\"}\n",
    "print('union using |:',school|college)\n",
    "print('union using union():',school.union(college))"
   ]
  },
  {
   "cell_type": "markdown",
   "id": "2c7e3e2e-e62d-45c2-8abf-385bf4d06d86",
   "metadata": {},
   "source": [
    "2.Intersection:\n",
    "  The Intersection of two sets includes the common elements between two sets.\n"
   ]
  },
  {
   "cell_type": "code",
   "execution_count": 69,
   "id": "e16ed285-8fed-454e-9d92-4ffe24f6d5a2",
   "metadata": {},
   "outputs": [
    {
     "name": "stdout",
     "output_type": "stream",
     "text": [
      "intersection using &: {'staff', 'students'}\n",
      "intersection using intersection(): {'staff', 'students'}\n"
     ]
    }
   ],
   "source": [
    "print('intersection using &:',school&college)\n",
    "print('intersection using intersection():',school.intersection(college))"
   ]
  },
  {
   "cell_type": "markdown",
   "id": "cd52db6b-d289-4f37-8845-1f2762618fca",
   "metadata": {},
   "source": [
    "3. Different between two sets:\n",
    "   The difference between two sets A and B include elements of set A that are not preent in B."
   ]
  },
  {
   "cell_type": "code",
   "execution_count": 64,
   "id": "b6eb0ce9-6133-4182-bb5a-233172e6d45e",
   "metadata": {},
   "outputs": [
    {
     "name": "stdout",
     "output_type": "stream",
     "text": [
      "difference using: {'balt', 'teachers', 'shoes', 'uniform'}\n",
      "difference using difference: {'parties', 'labs', 'hostel'}\n"
     ]
    }
   ],
   "source": [
    "print('difference using:',school - college)\n",
    "print('difference using difference:',college - school)"
   ]
  },
  {
   "cell_type": "markdown",
   "id": "164ae585-3959-404d-8aec-791904009528",
   "metadata": {},
   "source": [
    "4. Set Symmetric Difference:\n",
    "   The symmetric difference between two sets A and B includes all elements of A and B without common elements."
   ]
  },
  {
   "cell_type": "code",
   "execution_count": 68,
   "id": "42055aa3-1e63-4043-bae9-936ca96cf808",
   "metadata": {},
   "outputs": [
    {
     "name": "stdout",
     "output_type": "stream",
     "text": [
      "using ^: {'teachers', 'parties', 'hostel', 'balt', 'labs', 'shoes', 'uniform'}\n",
      "using symmetric_difference: {'balt', 'parties', 'teachers', 'hostel', 'labs', 'shoes', 'uniform'}\n"
     ]
    }
   ],
   "source": [
    "print('using ^:', school^college)\n",
    "print('using symmetric_difference:', college.symmetric_difference(school))"
   ]
  },
  {
   "cell_type": "code",
   "execution_count": null,
   "id": "ff12b3ca-5cb0-47ff-ab32-8b6ff4a55fb2",
   "metadata": {},
   "outputs": [],
   "source": []
  }
 ],
 "metadata": {
  "kernelspec": {
   "display_name": "Python 3 (ipykernel)",
   "language": "python",
   "name": "python3"
  },
  "language_info": {
   "codemirror_mode": {
    "name": "ipython",
    "version": 3
   },
   "file_extension": ".py",
   "mimetype": "text/x-python",
   "name": "python",
   "nbconvert_exporter": "python",
   "pygments_lexer": "ipython3",
   "version": "3.11.7"
  }
 },
 "nbformat": 4,
 "nbformat_minor": 5
}
